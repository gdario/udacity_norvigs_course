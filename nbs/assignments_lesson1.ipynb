{
 "cells": [
  {
   "cell_type": "markdown",
   "id": "e5bd2a6c-360d-4b1e-a588-321e94a474de",
   "metadata": {},
   "source": [
    "# Assignments Lesson 1\n",
    "\n",
    "In this notebook we cover the assignments for lesson 1. The second one is particularly instructive.\n",
    "\n",
    "## First Assignment: 7-card stud\n",
    "\n",
    "In this assignment we must return the best 5-card hand out of a 7-card hand. This assignment is easy enough, provided one knows `itertools.combinations`."
   ]
  },
  {
   "cell_type": "code",
   "execution_count": 1,
   "id": "77e18233-5558-4dc9-83b6-6c47f2a11d32",
   "metadata": {},
   "outputs": [
    {
     "name": "stdout",
     "output_type": "stream",
     "text": [
      "test_best_hand passes\n"
     ]
    }
   ],
   "source": [
    "# CS 212, hw1-1: 7-card stud\n",
    "#\n",
    "# -----------------\n",
    "# User Instructions\n",
    "#\n",
    "# Write a function best_hand(hand) that takes a seven\n",
    "# card hand as input and returns the best possible 5\n",
    "# card hand. The itertools library has some functions\n",
    "# that may help you solve this problem.\n",
    "#\n",
    "# -----------------\n",
    "# Grading Notes\n",
    "# \n",
    "# Muliple correct answers will be accepted in cases \n",
    "# where the best hand is ambiguous (for example, if \n",
    "# you have 4 kings and 3 queens, there are three best\n",
    "# hands: 4 kings along with any of the three queens).\n",
    "\n",
    "import itertools\n",
    "\n",
    "def best_hand(hand):\n",
    "    \"From a 7-card hand, return the best 5 card hand.\"\n",
    "    hands = itertools.combinations(hand, 5)\n",
    "    return max(hands, key=hand_rank)\n",
    "\n",
    "    \n",
    "# ------------------\n",
    "# Provided Functions\n",
    "# \n",
    "# You may want to use some of the functions which\n",
    "# you have already defined in the unit to write \n",
    "# your best_hand function.\n",
    "\n",
    "def hand_rank(hand):\n",
    "    \"Return a value indicating the ranking of a hand.\"\n",
    "    ranks = card_ranks(hand) \n",
    "    if straight(ranks) and flush(hand):\n",
    "        return (8, max(ranks))\n",
    "    elif kind(4, ranks):\n",
    "        return (7, kind(4, ranks), kind(1, ranks))\n",
    "    elif kind(3, ranks) and kind(2, ranks):\n",
    "        return (6, kind(3, ranks), kind(2, ranks))\n",
    "    elif flush(hand):\n",
    "        return (5, ranks)\n",
    "    elif straight(ranks):\n",
    "        return (4, max(ranks))\n",
    "    elif kind(3, ranks):\n",
    "        return (3, kind(3, ranks), ranks)\n",
    "    elif two_pair(ranks):\n",
    "        return (2, two_pair(ranks), ranks)\n",
    "    elif kind(2, ranks):\n",
    "        return (1, kind(2, ranks), ranks)\n",
    "    else:\n",
    "        return (0, ranks)\n",
    "    \n",
    "def card_ranks(hand):\n",
    "    \"Return a list of the ranks, sorted with higher first.\"\n",
    "    ranks = ['--23456789TJQKA'.index(r) for r, s in hand]\n",
    "    ranks.sort(reverse = True)\n",
    "    return [5, 4, 3, 2, 1] if (ranks == [14, 5, 4, 3, 2]) else ranks\n",
    "\n",
    "def flush(hand):\n",
    "    \"Return True if all the cards have the same suit.\"\n",
    "    suits = [s for r,s in hand]\n",
    "    return len(set(suits)) == 1\n",
    "\n",
    "def straight(ranks):\n",
    "    \"\"\"Return True if the ordered \n",
    "    ranks form a 5-card straight.\"\"\"\n",
    "    return (max(ranks)-min(ranks) == 4) and len(set(ranks)) == 5\n",
    "\n",
    "def kind(n, ranks):\n",
    "    \"\"\"Return the first rank that this hand has \n",
    "    exactly n-of-a-kind of. Return None if there \n",
    "    is no n-of-a-kind in the hand.\"\"\"\n",
    "    for r in ranks:\n",
    "        if ranks.count(r) == n: return r\n",
    "    return None\n",
    "\n",
    "def two_pair(ranks):\n",
    "    \"\"\"If there are two pair here, return the two \n",
    "    ranks of the two pairs, else None.\"\"\"\n",
    "    pair = kind(2, ranks)\n",
    "    lowpair = kind(2, list(reversed(ranks)))\n",
    "    if pair and lowpair != pair:\n",
    "        return (pair, lowpair)\n",
    "    else:\n",
    "        return None \n",
    "    \n",
    "def test_best_hand():\n",
    "    assert (sorted(best_hand(\"6C 7C 8C 9C TC 5C JS\".split()))\n",
    "            == ['6C', '7C', '8C', '9C', 'TC'])\n",
    "    assert (sorted(best_hand(\"TD TC TH 7C 7D 8C 8S\".split()))\n",
    "            == ['8C', '8S', 'TC', 'TD', 'TH'])\n",
    "    assert (sorted(best_hand(\"JD TC TH 7C 7D 7S 7H\".split()))\n",
    "            == ['7C', '7D', '7H', '7S', 'JD'])\n",
    "    return 'test_best_hand passes'\n",
    "\n",
    "print(test_best_hand())\n"
   ]
  },
  {
   "cell_type": "markdown",
   "id": "3d1e2679-7829-4756-a999-61b2668e890f",
   "metadata": {},
   "source": [
    "## Assignment 2: Jokers Wild\n",
    "\n",
    "This assignment is trickier. The instructions are:\n",
    "\n",
    "> Write a function best_wild_hand(hand) that takes as input a 7-card hand and returns the best 5 card hand. In this problem, it is possible for a hand to include jokers. Jokers will be treated as 'wild cards' which can take any rank or suit of the same color. The  black joker, '?B', can be used as any spade or club and the red joker, '?R', can be used as any heart  or diamond. The itertools library may be helpful. Feel free to  define multiple functions if it helps you solve the problem.\n",
    "\n",
    "We already have a function that, given a 7-card hand, computes the best 5 card hand. We need a function that can generate all the possible 7-card hands we can get when we replace, say, a black joker with a black card.\n",
    "\n",
    "Assume we have a hand which can contain zero, one, or two jokers (one red and one black). The idea of Norvig's solution is to generate, for each card, a list of possible replacements. If the card is not a joker, the only replacement is the card itself. If the card is a red joker, any red card is a possible replacement, and similarly for a black joker. Notice that we reason card by card, providing a list of possible replacements for each one of them. In the \"best\" case, we only get a list of 7 lists, each one containing a card. In the \"worst\" case, we get a list containing 5 lists of a single card each, and two lists of 13 cards, the red and the black ones.\n",
    "\n",
    "It makes sense to generate these lists upfront."
   ]
  },
  {
   "cell_type": "code",
   "execution_count": 2,
   "id": "fd33ed6c-d3aa-4baf-b481-835aa4fddf5b",
   "metadata": {},
   "outputs": [],
   "source": [
    "allranks = '23456789TJQKA'\n",
    "red_cards = [r+s for r in allranks for s in 'HD']\n",
    "black_cards = [r+s for r in allranks for s in 'SC']"
   ]
  },
  {
   "cell_type": "markdown",
   "id": "908472d1-5b5c-41ce-ac5e-ec630a200cec",
   "metadata": {},
   "source": [
    "The function that replaces a card with the appropriate list takes a card as an input and returns a list as an output."
   ]
  },
  {
   "cell_type": "code",
   "execution_count": 3,
   "id": "ef955344-7bc9-49bf-84e6-55f872dc05a8",
   "metadata": {},
   "outputs": [
    {
     "name": "stdout",
     "output_type": "stream",
     "text": [
      "['TH']\n",
      "['2S', '2C', '3S', '3C', '4S', '4C', '5S', '5C', '6S', '6C', '7S', '7C', '8S', '8C', '9S', '9C', 'TS', 'TC', 'JS', 'JC', 'QS', 'QC', 'KS', 'KC', 'AS', 'AC']\n"
     ]
    }
   ],
   "source": [
    "def replace(card: str) -> list:\n",
    "    \"Replace a card with a list of possible replacements.\"\n",
    "    if card == '?R':\n",
    "        return red_cards\n",
    "    elif card == '?B':\n",
    "        return black_cards\n",
    "    else:\n",
    "        return [card]\n",
    "\n",
    "print(replace('TH'))\n",
    "print(replace('?B'))"
   ]
  },
  {
   "cell_type": "markdown",
   "id": "5f72fa18-36a2-4675-8a66-31265e599997",
   "metadata": {},
   "source": [
    "Given a hand, we can then generate all the possible hands by using `itertools.product()`. In the simplest case, we have a list of 7 single-card lists. If we process such a list with `itertools.product()`, we obtain a list with the hand, which is a tuple with the 7 cards."
   ]
  },
  {
   "cell_type": "code",
   "execution_count": 4,
   "id": "280bc401-49d1-476b-939d-48a331a1e6f5",
   "metadata": {},
   "outputs": [
    {
     "name": "stdout",
     "output_type": "stream",
     "text": [
      "[['JD'], ['TC'], ['TH'], ['7C'], ['7D'], ['7S'], ['7H']]\n"
     ]
    },
    {
     "data": {
      "text/plain": [
       "[('JD', 'TC', 'TH', '7C', '7D', '7S', '7H')]"
      ]
     },
     "execution_count": 4,
     "metadata": {},
     "output_type": "execute_result"
    }
   ],
   "source": [
    "hand1 = \"JD TC TH 7C 7D 7S 7H\".split()\n",
    "print(list(map(replace, hand1)))\n",
    "list(itertools.product(*map(replace, hand1)))"
   ]
  },
  {
   "cell_type": "markdown",
   "id": "860f4207-a73d-4867-9293-dfe86c70b9c0",
   "metadata": {},
   "source": [
    "If the hand contains a jolly, we get a list containing all the possible hands generated by `replace()`."
   ]
  },
  {
   "cell_type": "code",
   "execution_count": 5,
   "id": "0a776542-4c94-4827-88e4-0eb0853bfc11",
   "metadata": {},
   "outputs": [
    {
     "name": "stdout",
     "output_type": "stream",
     "text": [
      "[['6C'], ['7C'], ['8C'], ['9C'], ['TC'], ['5C'], ['2S', '2C', '3S', '3C', '4S', '4C', '5S', '5C', '6S', '6C', '7S', '7C', '8S', '8C', '9S', '9C', 'TS', 'TC', 'JS', 'JC', 'QS', 'QC', 'KS', 'KC', 'AS', 'AC']]\n"
     ]
    },
    {
     "data": {
      "text/plain": [
       "[('6C', '7C', '8C', '9C', 'TC', '5C', '2S'),\n",
       " ('6C', '7C', '8C', '9C', 'TC', '5C', '2C'),\n",
       " ('6C', '7C', '8C', '9C', 'TC', '5C', '3S'),\n",
       " ('6C', '7C', '8C', '9C', 'TC', '5C', '3C'),\n",
       " ('6C', '7C', '8C', '9C', 'TC', '5C', '4S'),\n",
       " ('6C', '7C', '8C', '9C', 'TC', '5C', '4C'),\n",
       " ('6C', '7C', '8C', '9C', 'TC', '5C', '5S'),\n",
       " ('6C', '7C', '8C', '9C', 'TC', '5C', '5C'),\n",
       " ('6C', '7C', '8C', '9C', 'TC', '5C', '6S'),\n",
       " ('6C', '7C', '8C', '9C', 'TC', '5C', '6C'),\n",
       " ('6C', '7C', '8C', '9C', 'TC', '5C', '7S'),\n",
       " ('6C', '7C', '8C', '9C', 'TC', '5C', '7C'),\n",
       " ('6C', '7C', '8C', '9C', 'TC', '5C', '8S'),\n",
       " ('6C', '7C', '8C', '9C', 'TC', '5C', '8C'),\n",
       " ('6C', '7C', '8C', '9C', 'TC', '5C', '9S'),\n",
       " ('6C', '7C', '8C', '9C', 'TC', '5C', '9C'),\n",
       " ('6C', '7C', '8C', '9C', 'TC', '5C', 'TS'),\n",
       " ('6C', '7C', '8C', '9C', 'TC', '5C', 'TC'),\n",
       " ('6C', '7C', '8C', '9C', 'TC', '5C', 'JS'),\n",
       " ('6C', '7C', '8C', '9C', 'TC', '5C', 'JC'),\n",
       " ('6C', '7C', '8C', '9C', 'TC', '5C', 'QS'),\n",
       " ('6C', '7C', '8C', '9C', 'TC', '5C', 'QC'),\n",
       " ('6C', '7C', '8C', '9C', 'TC', '5C', 'KS'),\n",
       " ('6C', '7C', '8C', '9C', 'TC', '5C', 'KC'),\n",
       " ('6C', '7C', '8C', '9C', 'TC', '5C', 'AS'),\n",
       " ('6C', '7C', '8C', '9C', 'TC', '5C', 'AC')]"
      ]
     },
     "execution_count": 5,
     "metadata": {},
     "output_type": "execute_result"
    }
   ],
   "source": [
    "hand2 = \"6C 7C 8C 9C TC 5C ?B\".split()\n",
    "print(list(map(replace, hand2)))\n",
    "list(itertools.product(*map(replace, hand2)))"
   ]
  },
  {
   "cell_type": "markdown",
   "id": "9e2a9dc5-6b8c-40e3-ac10-d312e60a01d0",
   "metadata": {},
   "source": [
    "The function `best_hand()` we wrote above takes a 7-card hand and returns the best 5-card hand contained there."
   ]
  },
  {
   "cell_type": "code",
   "execution_count": 6,
   "id": "a646a21e-c48f-41e7-bcd9-7e1005efa13e",
   "metadata": {},
   "outputs": [
    {
     "data": {
      "text/plain": [
       "('6C', '7C', '8C', '9C', 'TC')"
      ]
     },
     "execution_count": 6,
     "metadata": {},
     "output_type": "execute_result"
    }
   ],
   "source": [
    "best_hand(next(itertools.product(*map(replace, hand2))))"
   ]
  },
  {
   "cell_type": "markdown",
   "id": "987d40e7-ff60-492a-8ee8-e713407641bd",
   "metadata": {},
   "source": [
    "We can then compute `best_hand()` for every card in the list returned by `itertools.product()`."
   ]
  },
  {
   "cell_type": "code",
   "execution_count": 7,
   "id": "4963d84e-47e7-47cd-a14b-54e96c2bfb92",
   "metadata": {},
   "outputs": [
    {
     "name": "stdout",
     "output_type": "stream",
     "text": [
      "26\n"
     ]
    },
    {
     "data": {
      "text/plain": [
       "[('6C', '7C', '8C', '9C', 'TC'),\n",
       " ('6C', '7C', '8C', '9C', 'TC'),\n",
       " ('6C', '7C', '8C', '9C', 'TC'),\n",
       " ('6C', '7C', '8C', '9C', 'TC'),\n",
       " ('6C', '7C', '8C', '9C', 'TC'),\n",
       " ('6C', '7C', '8C', '9C', 'TC'),\n",
       " ('6C', '7C', '8C', '9C', 'TC'),\n",
       " ('6C', '7C', '8C', '9C', 'TC'),\n",
       " ('6C', '7C', '8C', '9C', 'TC'),\n",
       " ('6C', '7C', '8C', '9C', 'TC'),\n",
       " ('6C', '7C', '8C', '9C', 'TC'),\n",
       " ('6C', '7C', '8C', '9C', 'TC'),\n",
       " ('6C', '7C', '8C', '9C', 'TC'),\n",
       " ('6C', '7C', '8C', '9C', 'TC'),\n",
       " ('6C', '7C', '8C', '9C', 'TC'),\n",
       " ('6C', '7C', '8C', '9C', 'TC'),\n",
       " ('6C', '7C', '8C', '9C', 'TC'),\n",
       " ('6C', '7C', '8C', '9C', 'TC'),\n",
       " ('6C', '7C', '8C', '9C', 'TC'),\n",
       " ('7C', '8C', '9C', 'TC', 'JC'),\n",
       " ('6C', '7C', '8C', '9C', 'TC'),\n",
       " ('6C', '7C', '8C', '9C', 'TC'),\n",
       " ('6C', '7C', '8C', '9C', 'TC'),\n",
       " ('6C', '7C', '8C', '9C', 'TC'),\n",
       " ('6C', '7C', '8C', '9C', 'TC'),\n",
       " ('6C', '7C', '8C', '9C', 'TC')]"
      ]
     },
     "execution_count": 7,
     "metadata": {},
     "output_type": "execute_result"
    }
   ],
   "source": [
    "best_hands = [best_hand(h) for h in itertools.product(*map(replace, hand2))]\n",
    "print(len(best_hands))\n",
    "best_hands"
   ]
  },
  {
   "cell_type": "markdown",
   "id": "6e615fc3-a630-4870-9c27-67f52251f9d0",
   "metadata": {},
   "source": [
    "You can see there are quite a few duplicates. This is why Norvig uses a set."
   ]
  },
  {
   "cell_type": "code",
   "execution_count": 8,
   "id": "7131d02e-c7d0-4be3-81a1-9c6c5f3dd57a",
   "metadata": {},
   "outputs": [
    {
     "data": {
      "text/plain": [
       "{('6C', '7C', '8C', '9C', 'TC'), ('7C', '8C', '9C', 'TC', 'JC')}"
      ]
     },
     "execution_count": 8,
     "metadata": {},
     "output_type": "execute_result"
    }
   ],
   "source": [
    "best_hands = set([best_hand(h) for h in itertools.product(*map(replace, hand2))])\n",
    "best_hands"
   ]
  },
  {
   "cell_type": "markdown",
   "id": "bf66e772-2fc9-40ba-93a4-56e2d2ef45fe",
   "metadata": {},
   "source": [
    "Now we only have two hands to select from, and we can pick with the usual `max(..., key)`."
   ]
  },
  {
   "cell_type": "code",
   "execution_count": 9,
   "id": "cf3eea6b-46bc-4663-a63c-afec6a1ebd4e",
   "metadata": {},
   "outputs": [
    {
     "data": {
      "text/plain": [
       "('7C', '8C', '9C', 'TC', 'JC')"
      ]
     },
     "execution_count": 9,
     "metadata": {},
     "output_type": "execute_result"
    }
   ],
   "source": [
    "max(best_hands, key=hand_rank)"
   ]
  },
  {
   "cell_type": "markdown",
   "id": "c8f5472e-0a64-4bb4-9239-e4027400fb5a",
   "metadata": {},
   "source": [
    "Putting everything together, we can rewrite the `best_wild_hand()` Norvig shows in his video as follows:"
   ]
  },
  {
   "cell_type": "code",
   "execution_count": 10,
   "id": "d885a34e-b883-4556-ae23-849c2216dd18",
   "metadata": {},
   "outputs": [],
   "source": [
    "def best_wild_hand(hand):\n",
    "    hands = set(best_hand(h)\n",
    "                for h in itertools.product(*map(replace, hand)))\n",
    "    return max(hands, key=hand_rank)"
   ]
  },
  {
   "cell_type": "markdown",
   "id": "52d3a258-00da-4b9e-b8c1-247bd4a8a770",
   "metadata": {},
   "source": [
    "To see if the function works, we run the testing function that comes with the assignment."
   ]
  },
  {
   "cell_type": "code",
   "execution_count": 11,
   "id": "e09d5767-6e07-4b23-8934-cb006cbcd365",
   "metadata": {},
   "outputs": [
    {
     "data": {
      "text/plain": [
       "'test_best_wild_hand passes'"
      ]
     },
     "execution_count": 11,
     "metadata": {},
     "output_type": "execute_result"
    }
   ],
   "source": [
    "def test_best_wild_hand():\n",
    "    assert (sorted(best_wild_hand(\"6C 7C 8C 9C TC 5C ?B\".split()))\n",
    "            == ['7C', '8C', '9C', 'JC', 'TC'])\n",
    "    assert (sorted(best_wild_hand(\"TD TC 5H 5C 7C ?R ?B\".split()))\n",
    "            == ['7C', 'TC', 'TD', 'TH', 'TS'])\n",
    "    assert (sorted(best_wild_hand(\"JD TC TH 7C 7D 7S 7H\".split()))\n",
    "            == ['7C', '7D', '7H', '7S', 'JD'])\n",
    "    return 'test_best_wild_hand passes'\n",
    "\n",
    "test_best_wild_hand()"
   ]
  },
  {
   "cell_type": "code",
   "execution_count": null,
   "id": "6776d7df-8ec9-4e8c-9cc8-6bcdd270b13f",
   "metadata": {},
   "outputs": [],
   "source": []
  }
 ],
 "metadata": {
  "kernelspec": {
   "display_name": "Python 3 (ipykernel)",
   "language": "python",
   "name": "python3"
  },
  "language_info": {
   "codemirror_mode": {
    "name": "ipython",
    "version": 3
   },
   "file_extension": ".py",
   "mimetype": "text/x-python",
   "name": "python",
   "nbconvert_exporter": "python",
   "pygments_lexer": "ipython3",
   "version": "3.11.5"
  }
 },
 "nbformat": 4,
 "nbformat_minor": 5
}
