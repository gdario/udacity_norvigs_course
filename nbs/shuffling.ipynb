{
 "cells": [
  {
   "cell_type": "markdown",
   "id": "c3f6cb52-ea48-4c98-9b09-dd80aaac242d",
   "metadata": {},
   "source": [
    "# Shuffling\n",
    "\n",
    "In this bonus section we consider a bad and a better shuffling algorithm. The bad one is shown below. It swaps cards until every card in the deck is flagged as swapped."
   ]
  },
  {
   "cell_type": "code",
   "execution_count": 1,
   "id": "6123c085-16ad-42c8-a084-6bb591bf2f65",
   "metadata": {},
   "outputs": [],
   "source": [
    "import random\n",
    "\n",
    "def shuffle1(deck):\n",
    "    \"Norvig's teacher's algorithm.\"\n",
    "    n = len(deck)\n",
    "    swapped = [False] * n\n",
    "    while not all(swapped):\n",
    "        i, j = random.randrange(n), random.randrange(n)\n",
    "        swapped[i] = swapped[j] = True\n",
    "        swap(deck, i, j)\n",
    "\n",
    "def swap(deck, i, j):\n",
    "    \"Swap elements i and j of a collection.\"\n",
    "    # print(f'Swap {i} and {j}')\n",
    "    deck[i], deck[j] = deck[j], deck[i]"
   ]
  },
  {
   "cell_type": "markdown",
   "id": "ebc20109-44e5-413d-b68e-7dd06e37db06",
   "metadata": {},
   "source": [
    "How long does this approach take? In the quiz the following three choices are given:\n",
    "\n",
    "1. $O(N)$\n",
    "2. $O(N^2)$\n",
    "3. $O(N!)$\n",
    "\n",
    "I got the wrong answer (I said 3). The correct answer is $O(N^2)$. To see it, consider the case where every element but one is flagged as swapped. It will take on average $N$ attempts before getting that element and flagging it as swapped. We have to do this for $N$ elements, hence $O(N^2)$.\n",
    "\n",
    "A better shuffling algorithm that Knuth calls the P-algorithm, is shown below."
   ]
  },
  {
   "cell_type": "code",
   "execution_count": 2,
   "id": "4f97a29f-d043-439f-aa08-5ac42c6db6ee",
   "metadata": {},
   "outputs": [],
   "source": [
    "def shuffle(dec):\n",
    "    \"Knuth's algorithm P\"\n",
    "    n = len(deck)\n",
    "    for i in range(n-1):\n",
    "        swap(deck, i, random.randrange(i, n))\n",
    "\n",
    "def swap(deck, i, j):\n",
    "    \"Swap elements i and j of a collection.\"\n",
    "    # print(f'Swap {i} and {j}')\n",
    "    deck[i], deck[j] = deck[j], deck[i]"
   ]
  },
  {
   "cell_type": "markdown",
   "id": "77a14d67-168d-44ac-8642-86a676059273",
   "metadata": {},
   "source": [
    "Norvig asks what happens if we replace `range(n-1)` with `range(n)` in line 5 above. Choices are:\n",
    "\n",
    "1. We get an `IndexError`.\n",
    "2. We get a `ValueError`.\n",
    "3. We get no error but the results would be unfair, because one result would be more common than any other.\n",
    "4. We would get no error, and the result would still be fair but a little bit slower.\n",
    "\n",
    "Let's see with an example."
   ]
  },
  {
   "cell_type": "code",
   "execution_count": 3,
   "id": "7f42c879-3b2b-49a2-af61-b725ec3b19fb",
   "metadata": {
    "scrolled": true
   },
   "outputs": [],
   "source": [
    "tmp = list(range(5))\n",
    "n = len(tmp)\n",
    "for i in range(n):\n",
    "    swap(tmp, i, random.randrange(i, n))"
   ]
  },
  {
   "cell_type": "markdown",
   "id": "f142e7e2-0f08-4de0-bde6-e96cbe5cb51b",
   "metadata": {},
   "source": [
    "My answer was 3, but I was wrong again (reminder to self: think a bit longer before answering). The correct answer is 4. The only problem is that the final step would swap the last element with itself, which wouldn't do anything bad, but it would just do an extra step."
   ]
  },
  {
   "cell_type": "markdown",
   "id": "3a4beced-2920-4776-8a3b-56b7289d4a15",
   "metadata": {},
   "source": [
    "## Is it random?\n",
    "\n",
    "In the algorithm P every permutation has the same probability (prove it). Is this true also for the teacher's algorithm? The possibilities are:\n",
    "\n",
    "1. Yes, they have the same probability, it just takes longer.\n",
    "2. No, some will have a different probability.\n",
    "3. No, some will have zero probability.\n",
    "\n",
    "The correct answer is 2. The code below provides some code to test shufflers, and two modified versions of the teacher's shuffler. Now the question for each of these shufflers is what is their runtime, and whether they are correct, in the sense that every swap has the same probability? We can get the answer about the runtime by comparing these algorithms with the ones we have seen so far. As for the correctness, we can get this information by running the code below.\n",
    "\n",
    "| Shuffler  | $O(N)$ | $O(N^2) | Correct? |\n",
    "|-----------|--------|---------|----------|\n",
    "| Shuffle   | Yes    | No      | Yes      |\n",
    "| Shuffle 1 | No     | Yes     | No       |  \n",
    "| Shuffle 2 | No     | Yes     | Yes      |\n",
    "| Shuffle 3 | Yes    | No      | No       |"
   ]
  },
  {
   "cell_type": "code",
   "execution_count": 4,
   "id": "cfc997ad-0de4-41b4-9c28-4c53c0a04967",
   "metadata": {},
   "outputs": [],
   "source": [
    "from collections import defaultdict\n",
    "\n",
    "def test_shuffler(shuffler, deck='abcd', n=10000):\n",
    "    counts = defaultdict(int)\n",
    "    for _ in range(n):\n",
    "        input = list(deck)\n",
    "        shuffler(input)\n",
    "        counts[''.join(input)] += 1\n",
    "    e = n*1./factorial(len(deck))\n",
    "    ok = all((0.9 <= counts[item]/e <= 1.1) for item in counts)\n",
    "    name = shuffler.__name__\n",
    "    print('%s(%s) %s' % (name, deck, ('ok' if ok else '*** BAD ***')))\n",
    "    print()\n",
    "    for item, count in sorted(counts.items()):\n",
    "        print('%s:%4.1f' % (item, count*100./n))\n",
    "    print()\n",
    "\n",
    "def test_shufflers(shufflers=[shuffle, shuffle1], decks=['abc', 'ab']):\n",
    "    for deck in decks:\n",
    "        print()\n",
    "        for f in shufflers:\n",
    "            test_shuffler(f, deck)\n",
    "\n",
    "def factorial(n):\n",
    "    return 1 if (n <= 1) else n*factorial(n-1)\n",
    "\n",
    "def shuffle2(deck):\n",
    "    \"A modification of the teacher's algorithm.\"\n",
    "    n = len(deck)\n",
    "    swapped = [False] * n\n",
    "    while not all(swapped):\n",
    "        i, j = random.randrange(n), random.randrange(n)\n",
    "        swapped[i] = True\n",
    "        swap(deck, i, j)\n",
    "\n",
    "def shuffle3(deck):\n",
    "    \"An easier modification of the teacher's algorithm.\"\n",
    "    n = len(deck)\n",
    "    for i in range(n):\n",
    "        swap(deck, i, random.randrange(n))"
   ]
  },
  {
   "cell_type": "code",
   "execution_count": 5,
   "id": "b8db9448-bccb-4456-8f2a-1c980809f2be",
   "metadata": {},
   "outputs": [
    {
     "name": "stdout",
     "output_type": "stream",
     "text": [
      "\n",
      "shuffle2(abc) ok\n",
      "\n",
      "abc:15.7\n",
      "acb:16.3\n",
      "bac:17.2\n",
      "bca:16.7\n",
      "cab:16.6\n",
      "cba:17.5\n",
      "\n",
      "shuffle3(abc) *** BAD ***\n",
      "\n",
      "abc:14.6\n",
      "acb:18.2\n",
      "bac:18.4\n",
      "bca:18.6\n",
      "cab:15.3\n",
      "cba:14.9\n",
      "\n",
      "\n",
      "shuffle2(ab) ok\n",
      "\n",
      "ab:50.2\n",
      "ba:49.8\n",
      "\n",
      "shuffle3(ab) ok\n",
      "\n",
      "ab:49.5\n",
      "ba:50.5\n",
      "\n"
     ]
    }
   ],
   "source": [
    "test_shufflers(shufflers=[shuffle2, shuffle3])"
   ]
  },
  {
   "cell_type": "markdown",
   "id": "3f491732-e638-47b0-870a-05fc45227602",
   "metadata": {},
   "source": [
    "## Computing or doing\n",
    "\n",
    "The shuffle algorithms seen above, and those from the Python Standard Library, all return `None` because they modify their input *in place*. There is a tension between *computing* something and *doing* something. Some functions like `math.sin()`, `math.sqrt()`, compute something. Some others, like `shuffle`, take an input and modify that input. We refer to the former as to **pure functions** and to the latter as **impure functions** or **subroutines**. These are not functions in the mathematical sense, since they have \"an effect on the world\".\n",
    "\n",
    "We will see more examples of pure functions than of subroutines, and the reason is that they are easier to test. To test a subroutine, we need to create a state, modify that state, and verify that the modified state is equal to something. Look at the examples below:"
   ]
  },
  {
   "cell_type": "code",
   "execution_count": 16,
   "id": "e0a58a13-d307-4f47-97c3-6b485cca8bf4",
   "metadata": {},
   "outputs": [],
   "source": [
    "# Pure function: sorted()\n",
    "lst = [3, 2, 1]\n",
    "assert sorted(lst) == [1, 2, 3]\n",
    "\n",
    "# Impure function: list.sort()\n",
    "lst.sort()\n",
    "assert lst == [1, 2, 3]\n",
    "# Note that assert lst.sort() == [1, 2, 3] returns an AssertionError\n",
    "# Note: this wouldn't work because the l.h.s. returns None\n",
    "# assert [3, 2, 1].sort() == [1, 2, 3]"
   ]
  },
  {
   "cell_type": "code",
   "execution_count": null,
   "id": "cfdf0d72-b71d-45e7-863f-f3d90a113c7c",
   "metadata": {},
   "outputs": [],
   "source": []
  }
 ],
 "metadata": {
  "kernelspec": {
   "display_name": "Python 3 (ipykernel)",
   "language": "python",
   "name": "python3"
  },
  "language_info": {
   "codemirror_mode": {
    "name": "ipython",
    "version": 3
   },
   "file_extension": ".py",
   "mimetype": "text/x-python",
   "name": "python",
   "nbconvert_exporter": "python",
   "pygments_lexer": "ipython3",
   "version": "3.11.5"
  }
 },
 "nbformat": 4,
 "nbformat_minor": 5
}
