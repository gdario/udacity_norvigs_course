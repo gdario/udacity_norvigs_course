{
 "cells": [
  {
   "cell_type": "markdown",
   "id": "c4fdefdb-a705-4b9d-a8d4-85658b4e017d",
   "metadata": {},
   "source": [
    "# Cryptarithmetic\n",
    "\n",
    "An example of cryptarithmetic is the equation\n",
    "\n",
    "```text\n",
    " ODD +\n",
    " ODD =\n",
    "EVEN\n",
    "```\n",
    "\n",
    "where each letter represents a digit and where the equation holds true. First consideration: if the numbers are in base 10, ODD must be greater than 500. It cannot be 500 because this would mean O=5, D=0, and 1000 should be XDDD (we don't yet know X). Also D must be > 5, since there clearly is a carry digit. We also realize that E = 1, because ODD must be <= 999 (it cannot be 999, since the digits are different), so the sum must be strictly lower than 2000. So, the first and third digits must be 1. N must be an even number, since it's the unitary part of 2*D. Using some more inferences we can come up with two solutions: 655 + 655 = 1310 or 855 + 855 = 1710.\n",
    "\n",
    "## Brute Force Solution\n",
    "\n",
    "One possible approach could be implementing all the rules of arithmetc (carry digits, odd/even). This is a challenging task, even just for addition. We would like to find a shortcut. Another possibility would be trying all possibilities. Given 10 digits there are $10! \\approx 3\\times10^6$, this seems feasible, although not fast. For each of the letters, we can consider each of the $10!$ permutations of the digits. We would replace the letters with the values and keep iterating until the equation holds. Some edge cases may appear, and we will deal with them below.\n",
    "\n",
    "## Inventory of Concepts\n",
    "\n",
    "We are dealing with the following concepts:\n",
    "\n",
    "1. Equations. Two types: the original ones (with letters), and the \"filled-in\" (with digits).\n",
    "2. Letters.\n",
    "3. Digits.\n",
    "4. Assignment of a letter to a digit.\n",
    "5. Evaluation or validation that the equation is correct.\n",
    "\n",
    "How do we represent these concepts? Norvig suggests this approach:\n",
    "\n",
    "- The original equation can be expressed as a string.\n",
    "- The filled-in equation can also be represented as a string.\n",
    "- The letters are single characters (one-character strings).\n",
    "- The numbers are also represented as single characters.\n",
    "- We need a mapping that associates letters to numbers. We can leverage `str.translate()`.\n",
    "- For the evaluation we can use `eval()`, that takes a string and evaluates it as an expression.\n",
    "\n",
    "### `eval`"
   ]
  },
  {
   "cell_type": "code",
   "execution_count": 1,
   "id": "b6d08f1e-34c8-4a50-8393-d85d6322dc87",
   "metadata": {},
   "outputs": [
    {
     "data": {
      "text/plain": [
       "4"
      ]
     },
     "execution_count": 1,
     "metadata": {},
     "output_type": "execute_result"
    }
   ],
   "source": [
    "eval('2 + 2')"
   ]
  },
  {
   "cell_type": "code",
   "execution_count": 2,
   "id": "cb379925-d9d0-4f01-8480-fe837ceaad55",
   "metadata": {},
   "outputs": [
    {
     "data": {
      "text/plain": [
       "False"
      ]
     },
     "execution_count": 2,
     "metadata": {},
     "output_type": "execute_result"
    }
   ],
   "source": [
    "eval('2 + 2 == 3')"
   ]
  },
  {
   "cell_type": "markdown",
   "id": "f621148b-5cff-450f-94d9-8b9fc5eb6e73",
   "metadata": {},
   "source": [
    "### Translation Tables\n",
    "\n",
    "We can create a translation table with the function `str.maketrans()`. If, for example, we want to translate `'ABC'` to `'123'` we can write:"
   ]
  },
  {
   "cell_type": "code",
   "execution_count": 3,
   "id": "c53e3512-1dec-48a0-aa80-d1f8c953450b",
   "metadata": {},
   "outputs": [
    {
     "data": {
      "text/plain": [
       "'1 + 2 == 3'"
      ]
     },
     "execution_count": 3,
     "metadata": {},
     "output_type": "execute_result"
    }
   ],
   "source": [
    "table = str.maketrans('ABC', '123')\n",
    "f = 'A + B == C'\n",
    "f.translate(table)"
   ]
  },
  {
   "cell_type": "code",
   "execution_count": 4,
   "id": "17b3637b-b353-4a23-aeb8-eaa4ad38321a",
   "metadata": {},
   "outputs": [
    {
     "data": {
      "text/plain": [
       "True"
      ]
     },
     "execution_count": 4,
     "metadata": {},
     "output_type": "execute_result"
    }
   ],
   "source": [
    "eval(f.translate(table))"
   ]
  },
  {
   "cell_type": "markdown",
   "id": "4c64fc5b-a52a-4b12-afb6-ee31c4a712ae",
   "metadata": {},
   "source": [
    "Let's define a function `valid()` that returns `True` or `False` if the function is valid or not. It should also return `False` if the equation returns an operation like `1/0`. The one below is my version."
   ]
  },
  {
   "cell_type": "code",
   "execution_count": 5,
   "id": "09fdccfb-3a0e-4e51-90c6-61937301880e",
   "metadata": {},
   "outputs": [],
   "source": [
    "def valid(f):\n",
    "    \"Formula f is valid iff it has no numbers with leading zero and evals true.\"\n",
    "    try:\n",
    "        return eval(f)\n",
    "    except ZeroDivisionError:\n",
    "        return False\n",
    "\n",
    "def test_valid():\n",
    "    assert valid('1 + 3 == 4') is True\n",
    "    assert valid('6/2 == 3') is True\n",
    "    assert valid('1/0') is False\n",
    "\n",
    "test_valid()"
   ]
  },
  {
   "cell_type": "markdown",
   "id": "85a38551-532a-4beb-bfdd-33d2c6f5183c",
   "metadata": {},
   "source": [
    "This is Norvig's version, which checks for more general errors, including non-numeric characters. `ArithmeticError` is a superclass of `ZeroDivisionError`."
   ]
  },
  {
   "cell_type": "code",
   "execution_count": 6,
   "id": "327f8bc7-ac2d-478a-9d25-cde52009f188",
   "metadata": {},
   "outputs": [],
   "source": [
    "import itertools\n",
    "import re\n",
    "import string\n",
    "\n",
    "def valid(f):\n",
    "    \"\"\"Formula is valid iff it has no numbers with leading zeros and evals True\"\"\"\n",
    "    try:\n",
    "        return not re.search(r'\\b0[0-9]', f) and eval(f) is True\n",
    "    except ArithmeticError:\n",
    "        return False\n",
    "\n",
    "def solve(formula):\n",
    "    \"\"\"Given a formula like 'ODD + ODD == EVEN', fill in digits to solve it.\n",
    "    Input formula is a string; output is a digit-filled-in string or None.\"\"\"\n",
    "    for f in fill_in(formula):\n",
    "        if valid(f):\n",
    "            return f"
   ]
  },
  {
   "cell_type": "markdown",
   "id": "ced03862-24d4-427e-9d61-66d6234b1524",
   "metadata": {},
   "source": [
    "### Explanation of Norvig's implementation\n",
    "\n",
    "In the case of `ODD + ODD = EVEN` `EVEN` = 3435 would be a valid number, but `EVEN` = 0435 would not. We want to avoid cases where numbers have a leading zero. This could appear anywhere in a formula. The regular expression `r'\\b0[0-9]` looks for a 0 appearing at a *word boundary*, marked by `\\b`.\n",
    "\n",
    "There is a more profound reason for avoiding numbers with leading zeros: in Python they are interpreted as octal, therefore a number like 012 would be interpreted as decimal 10.\n",
    "\n",
    "## `fill_in()`\n",
    "\n",
    "Let's consider a strategy to create the `fill_in(formula)` function that takes an unfilled formula and returns all possible filled-in formulas. Let's consider a simpler example: 'I + I = ME'. Note that in one of the examples the formula mixed letters and numbers, like 'BC2 + DE3 = AC**F'. String translation is a great choice for this purpose, as it only replace what needs to be replaced.\n",
    "\n",
    "Ultimately we came up with a design split into three parts: `solve()`, `fill_in()`, and `valid()`."
   ]
  },
  {
   "cell_type": "code",
   "execution_count": 21,
   "id": "9f05c38f-911d-4ecc-8053-e4609fd1cdc9",
   "metadata": {},
   "outputs": [],
   "source": [
    "def fill_in(formula):\n",
    "    \"Generate all possible fillings-in of letters in formula with digits.\"\n",
    "    # As usual my solution was more complicated. This is nice and neat.\n",
    "    letters = ''.join(set(re.findall('[A-Z]', formula)))\n",
    "    for digits in itertools.permutations('1234567890', len(letters)):\n",
    "        table = str.maketrans(letters, ''.join(digits))\n",
    "        yield formula.translate(table)"
   ]
  },
  {
   "cell_type": "markdown",
   "id": "9ec3947e-ef20-4f83-bf53-9ef9dd601105",
   "metadata": {},
   "source": [
    "We are not done yet, as we have to verify that the result is correct. Norvig has these clever examples to go through:"
   ]
  },
  {
   "cell_type": "code",
   "execution_count": 29,
   "id": "c24b1e50-2411-4946-a52e-aa0b13fff496",
   "metadata": {},
   "outputs": [],
   "source": [
    "examples = \"\"\"TWO + TWO == FOUR\n",
    "A**2 + B**2 == C**2\n",
    "A**2 + BE**2 == BY**2\n",
    "X/X == X\n",
    "A**N + B**N == C**N and N > 1\n",
    "ATOM**0.5 == A + TO + M\n",
    "GLITTERS is not GOLD\n",
    "ONE < TWO and FOUR < FIVE\n",
    "ONE < TWO < THREE\n",
    "RAMN == R**3 + RM**3 == N**3 + RX**3\n",
    "sum(range(AA)) == BB\n",
    "sum(range(POP)) == BOBO\n",
    "ODD + ODD == EVEN\n",
    "PLUTO not in set([PLANETS])\"\"\".splitlines()"
   ]
  },
  {
   "cell_type": "code",
   "execution_count": 37,
   "id": "7919cac9-c5af-436a-a62d-89f009b92ced",
   "metadata": {},
   "outputs": [
    {
     "name": "stdout",
     "output_type": "stream",
     "text": [
      "0: TWO + TWO == FOUR ==> 765 + 765 == 1530\n",
      "1: A**2 + B**2 == C**2 ==> 3**2 + 4**2 == 5**2\n",
      "2: A**2 + BE**2 == BY**2 ==> 5**2 + 12**2 == 13**2\n",
      "3: X/X == X ==> 1/1 == 1\n",
      "4: A**N + B**N == C**N and N > 1 ==> 3**2 + 4**2 == 5**2 and 2 > 1\n",
      "5: ATOM**0.5 == A + TO + M ==> 6724**0.5 == 6 + 72 + 4\n",
      "6: GLITTERS is not GOLD ==> 58922637 is not 5481\n"
     ]
    },
    {
     "name": "stderr",
     "output_type": "stream",
     "text": [
      "<string>:1: SyntaxWarning: \"is not\" with a literal. Did you mean \"!=\"?\n"
     ]
    },
    {
     "name": "stdout",
     "output_type": "stream",
     "text": [
      "7: ONE < TWO and FOUR < FIVE ==> 187 < 261 and 5134 < 5907\n",
      "8: ONE < TWO < THREE ==> 165 < 241 < 27355\n",
      "9: RAMN == R**3 + RM**3 == N**3 + RX**3 ==> 1729 == 1**3 + 12**3 == 9**3 + 10**3\n",
      "10: sum(range(AA)) == BB ==> sum(range(11)) == 55\n",
      "11: sum(range(POP)) == BOBO ==> sum(range(101)) == 5050\n",
      "12: ODD + ODD == EVEN ==> 655 + 655 == 1310\n",
      "13: PLUTO not in set([PLANETS]) ==> 49325 not in set([4918627])\n",
      "CPU times: user 4.17 s, sys: 0 ns, total: 4.17 s\n",
      "Wall time: 4.17 s\n"
     ]
    }
   ],
   "source": [
    "%%time\n",
    "def test_crypto(examples):\n",
    "    for n, example in enumerate(examples):\n",
    "        print(f'{n}: {example} ==> {solve(example)}')\n",
    "\n",
    "test_crypto(examples)"
   ]
  },
  {
   "cell_type": "markdown",
   "id": "b8bda3eb-f33f-4491-b8ea-1fe61947ebfc",
   "metadata": {},
   "source": [
    "By the way, this one below rings a bell, doesn't it?"
   ]
  },
  {
   "cell_type": "code",
   "execution_count": 35,
   "id": "75a1a24b-5a7e-4df5-a8d5-7f5b96028789",
   "metadata": {},
   "outputs": [
    {
     "name": "stdout",
     "output_type": "stream",
     "text": [
      "None\n"
     ]
    }
   ],
   "source": [
    "print(solve('A**N + B**N == C**N and N > 2'))"
   ]
  },
  {
   "cell_type": "markdown",
   "id": "4db28cf4-cd5f-4eaf-b1c1-22fa68664576",
   "metadata": {},
   "source": [
    "## Profiling\n",
    "\n",
    "If we save the code above in a file, say, `crypto.py`, we can get profiling information by typing\n",
    "\n",
    "```python\n",
    "python -m cProfile crypto.py\n",
    "```\n",
    "\n",
    "You can profile your code from inside the python prompt by importing the `cProfile` module and passing to `cProfile.run('code_to_run')`. The string should contain the code to be profiled. In Jupyter there are a `%prun` and a `%%prun` magic methods. From the table below, we can see that most of the time is spent in `solve()` and `valid()` plus some primitive functions we cannot modify."
   ]
  },
  {
   "cell_type": "code",
   "execution_count": 45,
   "id": "3bc0f196-a37a-43ab-8a64-f37f4b44aa27",
   "metadata": {},
   "outputs": [
    {
     "name": "stdout",
     "output_type": "stream",
     "text": [
      " "
     ]
    },
    {
     "data": {
      "text/plain": [
       "         17307 function calls in 0.022 seconds\n",
       "\n",
       "   Ordered by: internal time\n",
       "\n",
       "   ncalls  tottime  percall  cumtime  percall filename:lineno(function)\n",
       "     1402    0.012    0.000    0.013    0.000 {built-in method builtins.eval}\n",
       "     1767    0.002    0.000    0.004    0.000 559079801.py:1(fill_in)\n",
       "     1766    0.002    0.000    0.002    0.000 {method 'translate' of 'str' objects}\n",
       "     1766    0.001    0.000    0.017    0.000 1569592752.py:5(valid)\n",
       "     1767    0.001    0.000    0.001    0.000 __init__.py:272(_compile)\n",
       "     1766    0.001    0.000    0.001    0.000 {method 'search' of 're.Pattern' objects}\n",
       "     1766    0.001    0.000    0.003    0.000 __init__.py:173(search)\n",
       "        1    0.001    0.001    0.022    0.022 1569592752.py:12(solve)\n",
       "     1766    0.000    0.000    0.000    0.000 {built-in method maketrans}\n",
       "     1767    0.000    0.000    0.000    0.000 {built-in method builtins.isinstance}\n",
       "     1767    0.000    0.000    0.000    0.000 {method 'join' of 'str' objects}\n",
       "        1    0.000    0.000    0.022    0.022 {built-in method builtins.exec}\n",
       "        1    0.000    0.000    0.000    0.000 __init__.py:208(findall)\n",
       "        1    0.000    0.000    0.000    0.000 {method 'findall' of 're.Pattern' objects}\n",
       "        1    0.000    0.000    0.000    0.000 <string>:1(<module>)\n",
       "        1    0.000    0.000    0.000    0.000 {method 'disable' of '_lsprof.Profiler' objects}\n",
       "        1    0.000    0.000    0.000    0.000 {built-in method builtins.len}"
      ]
     },
     "metadata": {},
     "output_type": "display_data"
    }
   ],
   "source": [
    "%prun solve('ATOM**0.5 == A + TO + M')"
   ]
  },
  {
   "cell_type": "markdown",
   "id": "5c8801a2-9126-44b9-91e3-7f213ff0b672",
   "metadata": {},
   "source": [
    "A more complete picture may be obtained by running `%prun` on `test_cripto()`. We can see that `solve()` is called 14 times, once per example, and on average it takes 0.017 seconds to complete a call. The cumulative time associated with `valid()` is 5.130 seconds while the corresponding time for `fill_in()` is 1.271. It seems that speeding up `valid()` may bring the largest benefits (Law of Diminishing Returns).\n",
    "\n",
    "`eval()` is taking 3.77 of the total 6.545 seconds of runtime. The problem is that `eval()` is a builtin function, and we cannot modify it directly. If we cannot operate directly on `eval()` we can do two things:\n",
    "\n",
    "1. We can make *fewer* calls to `eval()`.\n",
    "2. We can make *easier* calls to `eval()`.\n",
    "\n",
    "How can we make it easier? One way is to break the filled-in equation into two parts, say the lhs and the rhs. This is a form of *divide and conquer*. However it seems difficult to find a good way to break the problem into easier and faster to handle parts, so, in general, this approach is probably not going to work."
   ]
  },
  {
   "cell_type": "code",
   "execution_count": 46,
   "id": "0ca15927-812d-4900-9d4b-d59bb2282ae3",
   "metadata": {},
   "outputs": [
    {
     "name": "stdout",
     "output_type": "stream",
     "text": [
      "0: TWO + TWO == FOUR ==> 765 + 765 == 1530\n",
      "1: A**2 + B**2 == C**2 ==> 3**2 + 4**2 == 5**2\n",
      "2: A**2 + BE**2 == BY**2 ==> 5**2 + 12**2 == 13**2\n",
      "3: X/X == X ==> 1/1 == 1\n",
      "4: A**N + B**N == C**N and N > 1 ==> 3**2 + 4**2 == 5**2 and 2 > 1\n",
      "5: ATOM**0.5 == A + TO + M ==> 6724**0.5 == 6 + 72 + 4\n",
      "6: GLITTERS is not GOLD ==> 58922637 is not 5481\n"
     ]
    },
    {
     "name": "stderr",
     "output_type": "stream",
     "text": [
      "<string>:1: SyntaxWarning: \"is not\" with a literal. Did you mean \"!=\"?\n"
     ]
    },
    {
     "name": "stdout",
     "output_type": "stream",
     "text": [
      "7: ONE < TWO and FOUR < FIVE ==> 187 < 261 and 5134 < 5907\n",
      "8: ONE < TWO < THREE ==> 165 < 241 < 27355\n",
      "9: RAMN == R**3 + RM**3 == N**3 + RX**3 ==> 1729 == 1**3 + 12**3 == 9**3 + 10**3\n",
      "10: sum(range(AA)) == BB ==> sum(range(11)) == 55\n",
      "11: sum(range(POP)) == BOBO ==> sum(range(101)) == 5050\n",
      "12: ODD + ODD == EVEN ==> 655 + 655 == 1310\n",
      "13: PLUTO not in set([PLANETS]) ==> 49325 not in set([4918627])\n",
      " "
     ]
    },
    {
     "data": {
      "text/plain": [
       "         5980465 function calls in 6.545 seconds\n",
       "\n",
       "   Ordered by: internal time\n",
       "\n",
       "   ncalls  tottime  percall  cumtime  percall filename:lineno(function)\n",
       "   493399    3.770    0.000    3.864    0.000 {built-in method builtins.eval}\n",
       "   609582    0.498    0.000    1.271    0.000 559079801.py:1(fill_in)\n",
       "   609568    0.434    0.000    0.434    0.000 {method 'translate' of 'str' objects}\n",
       "   609568    0.307    0.000    5.130    0.000 1569592752.py:5(valid)\n",
       "   609568    0.302    0.000    0.302    0.000 {method 'search' of 're.Pattern' objects}\n",
       "   609582    0.268    0.000    0.391    0.000 __init__.py:272(_compile)\n",
       "   609568    0.267    0.000    0.959    0.000 __init__.py:173(search)\n",
       "   609568    0.238    0.000    0.238    0.000 {built-in method maketrans}\n",
       "       14    0.234    0.017    6.635    0.474 1569592752.py:12(solve)\n",
       "   609611    0.123    0.000    0.123    0.000 {built-in method builtins.isinstance}\n",
       "   609582    0.101    0.000    0.101    0.000 {method 'join' of 'str' objects}\n",
       "      541    0.003    0.000    0.003    0.000 {built-in method builtins.sum}\n",
       "        1    0.000    0.000    6.636    6.636 <timed exec>:1(test_crypto)\n",
       "       29    0.000    0.000    0.000    0.000 iostream.py:610(write)\n",
       "        1    0.000    0.000    6.636    6.636 {built-in method builtins.exec}\n",
       "        5    0.000    0.000    0.000    0.000 socket.py:621(send)\n",
       "       14    0.000    0.000    0.000    0.000 {method 'findall' of 're.Pattern' objects}\n",
       "       14    0.000    0.000    0.000    0.000 {built-in method builtins.print}\n",
       "       29    0.000    0.000    0.000    0.000 iostream.py:505(_is_master_process)\n",
       "        5    0.000    0.000    0.000    0.000 iostream.py:243(schedule)\n",
       "       29    0.000    0.000    0.000    0.000 {built-in method posix.getpid}\n",
       "       14    0.000    0.000    0.000    0.000 __init__.py:208(findall)\n",
       "       29    0.000    0.000    0.000    0.000 iostream.py:532(_schedule_flush)\n",
       "        5    0.000    0.000    0.000    0.000 threading.py:1185(is_alive)\n",
       "        5    0.000    0.000    0.000    0.000 iostream.py:127(_event_pipe)\n",
       "       29    0.000    0.000    0.000    0.000 {method 'write' of '_io.StringIO' objects}\n",
       "       44    0.000    0.000    0.000    0.000 {built-in method builtins.len}\n",
       "        5    0.000    0.000    0.000    0.000 threading.py:1118(_wait_for_tstate_lock)\n",
       "        5    0.000    0.000    0.000    0.000 {method 'acquire' of '_thread.lock' objects}\n",
       "       29    0.000    0.000    0.000    0.000 {method '__exit__' of '_thread.RLock' objects}\n",
       "        1    0.000    0.000    0.000    0.000 warnings.py:35(_formatwarnmsg_impl)\n",
       "        1    0.000    0.000    0.000    0.000 linecache.py:80(updatecache)\n",
       "        1    0.000    0.000    0.000    0.000 warnings.py:403(__init__)\n",
       "        5    0.000    0.000    0.000    0.000 threading.py:568(is_set)\n",
       "        5    0.000    0.000    0.000    0.000 {method 'append' of 'collections.deque' objects}\n",
       "        1    0.000    0.000    0.000    0.000 warnings.py:20(_showwarnmsg_impl)\n",
       "        1    0.000    0.000    0.000    0.000 {method 'startswith' of 'str' objects}\n",
       "        1    0.000    0.000    0.000    0.000 linecache.py:36(getlines)\n",
       "        1    0.000    0.000    0.000    0.000 linecache.py:26(getline)\n",
       "        1    0.000    0.000    0.000    0.000 warnings.py:117(_formatwarnmsg)\n",
       "        1    0.000    0.000    0.000    0.000 warnings.py:96(_showwarnmsg)\n",
       "        1    0.000    0.000    0.000    0.000 <string>:1(<module>)\n",
       "        1    0.000    0.000    0.000    0.000 {method 'endswith' of 'str' objects}\n",
       "        1    0.000    0.000    0.000    0.000 {method 'disable' of '_lsprof.Profiler' objects}"
      ]
     },
     "metadata": {},
     "output_type": "display_data"
    }
   ],
   "source": [
    "%prun test_crypto(examples)"
   ]
  },
  {
   "cell_type": "markdown",
   "id": "e7282ad2-7526-4f00-a920-5474b2df7a6c",
   "metadata": {},
   "source": [
    "The other possibility is making *fewer* calls, but how? One way could be to evaluate the formula only once and call it as a function with parameters. We would still need to call the function many times, but we would call `eval()` only once. How can we do this? In order to understand, we need to dig a bit deeper into how `eval()` works.\n",
    "\n",
    "If applied to a (filled-in) equation like `'123 = 45**2'`, `eval()` first parses the string and builds a parse tree roughly like the one below.\n",
    "\n",
    "```text\n",
    "     ==\n",
    "   /   \\\n",
    " Num  Expr\n",
    " /    / | \\\n",
    "123 Num | Num\n",
    "     |  **  \\\n",
    "    45       2\n",
    "```\n",
    "\n",
    "Parsing is followed by a *code generation* which, as the name suggests, generates the code that will be executed by the final *execution* phase.\n",
    "\n",
    "Each time we go through a new permutation, the parsing phase will be repeated, but the only thing that changes is the numbers, not the structure of the parse tree. The same is true for the code generation part. We would like to be able to run these two steps only once, and then be able to pass the specific numbers at each iteration. `eval()` takes an expression, and there is a way in Python to create a function as an expression (without binding it to a name), and this is what `lambda`s do. So, if the input formula is something like 'YOU == ME**2', we would like to have a function like\n",
    "\n",
    "```python\n",
    "def foo(Y,O,U,M,E):\n",
    "    return 100*Y + 10*O + U == (M*10 + E)**2\n",
    "```\n",
    "\n",
    "but as a lambda function."
   ]
  },
  {
   "cell_type": "code",
   "execution_count": 50,
   "id": "babb1479-8186-4bb5-b65d-89271bc25b8e",
   "metadata": {},
   "outputs": [],
   "source": [
    "def compile_word(word):\n",
    "    \"\"\"Compile a word of uppercase letters as numeric digits.\n",
    "    E.g., compile_word('YOU') => '(1*U+10*O+100*Y)'\n",
    "    Non-uppercase words unchanged: compile_word('+') => '+'\"\"\"\n",
    "    if all([c.isupper() for c in word]):\n",
    "        return '+'.join([str(10**n) + '*' + c for n, c in enumerate(reversed(word))])\n",
    "    else:\n",
    "        return word"
   ]
  },
  {
   "cell_type": "markdown",
   "id": "35d978e3-6ff3-4cea-bcd5-c1ef1106d546",
   "metadata": {},
   "source": [
    "In order to split a formula like `'YOU == ME**2'`into it's building blocks we can use a regular expression like the one below. By putting the splitting sequence in parentheses we are asking the RE engine to return both the separated substrings as well as the separators."
   ]
  },
  {
   "cell_type": "code",
   "execution_count": 48,
   "id": "fba6af5e-d66b-47bc-807b-b29b5fdf577b",
   "metadata": {},
   "outputs": [
    {
     "data": {
      "text/plain": [
       "['', 'YOU', ' == ', 'ME', '**2']"
      ]
     },
     "execution_count": 48,
     "metadata": {},
     "output_type": "execute_result"
    }
   ],
   "source": [
    "re.split(pattern='([A-Z]+)', string='YOU == ME**2')"
   ]
  },
  {
   "cell_type": "markdown",
   "id": "c643ee7e-44dc-4935-aa71-f4bf0adb4ceb",
   "metadata": {},
   "source": [
    "We can then pass the output of the function above to `map(compile_word())`"
   ]
  },
  {
   "cell_type": "code",
   "execution_count": 52,
   "id": "82b04d0e-bcc2-4800-9017-301ed0127dd1",
   "metadata": {},
   "outputs": [
    {
     "data": {
      "text/plain": [
       "['', '1*U+10*O+100*Y', ' == ', '1*E+10*M', '**2']"
      ]
     },
     "execution_count": 52,
     "metadata": {},
     "output_type": "execute_result"
    }
   ],
   "source": [
    "list(map(compile_word, re.split(pattern='([A-Z]+)', string='YOU == ME**2')))"
   ]
  },
  {
   "cell_type": "markdown",
   "id": "3935e36a-3bc1-4dfe-a620-661951c05d09",
   "metadata": {},
   "source": [
    "**TO BE COMPLETED** - FIND THE MISSING CODE THAT ACHIEVES THE SPEEDUP\n",
    "\n",
    "## Recap\n",
    "\n",
    "In this lesson we saw:\n",
    "\n",
    "- List comprehensions.\n",
    "- Generator expressions.\n",
    "- Generator functions -> useful because you don't have to compute all possible values upfront, as is the case for a list comprehension.\n",
    "- We handled different types (polymorphism). We saw an example in `timedcalls()` where `n` could be an int or a float.\n",
    "- We saw the `eval()` function that can evaluate to an object or to a function.\n",
    "- We did timing with the `time` builtin module and with our own function.\n",
    "- We used function attributes (without saying it explicitly. Find more information on this)."
   ]
  }
 ],
 "metadata": {
  "kernelspec": {
   "display_name": "Python 3 (ipykernel)",
   "language": "python",
   "name": "python3"
  },
  "language_info": {
   "codemirror_mode": {
    "name": "ipython",
    "version": 3
   },
   "file_extension": ".py",
   "mimetype": "text/x-python",
   "name": "python",
   "nbconvert_exporter": "python",
   "pygments_lexer": "ipython3",
   "version": "3.11.5"
  }
 },
 "nbformat": 4,
 "nbformat_minor": 5
}
