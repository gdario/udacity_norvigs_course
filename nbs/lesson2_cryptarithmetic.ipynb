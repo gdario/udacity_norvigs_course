{
 "cells": [
  {
   "cell_type": "markdown",
   "id": "c4fdefdb-a705-4b9d-a8d4-85658b4e017d",
   "metadata": {},
   "source": [
    "# Cryptarithmetic\n",
    "\n",
    "An example of cryptarithmetic is the equation\n",
    "\n",
    "```text\n",
    " ODD +\n",
    " ODD =\n",
    "EVEN\n",
    "```\n",
    "\n",
    "where each letter represents a digit and where the equation holds true. First consideration: if the numbers are in base 10, ODD must be greater than 500. It cannot be 500 because this would mean O=5, D=0, and 1000 should be XDDD (we don't yet know X). Also D must be > 5, since there clearly is a carry digit. We also realize that E = 1, because ODD must be <= 999 (it cannot be 999, since the digits are different), so the sum must be strictly lower than 2000. So, the first and third digits must be 1. N must be an even number, since it's the unitary part of 2*D. Using some more inferences we can come up with two solutions: 655 + 655 = 1310 or 855 + 855 = 1710.\n",
    "\n",
    "## Brute Force Solution\n",
    "\n",
    "One possible approach could be implementing all the rules of arithmetc (carry digits, odd/even). This is a challenging task, even just for addition. We would like to find a shortcut. Another possibility would be trying all possibilities. Given 10 digits there are $10! \\approx 3\\times10^6$, this seems feasible, although not fast. For each of the letters, we can consider each of the $10!$ permuatations of the digits. We would replace the letters with the values and keep iterating until the equation holds.\n",
    "\n",
    "## Inventory of Concepts\n",
    "\n",
    "We are dealing with the following concepts:\n",
    "\n",
    "1. Equations. Two types: the original ones (with letters), and the \"filled-in\" (with digits).\n",
    "2. Letters.\n",
    "3. Digits.\n",
    "4. Assignment of a letter to a digit.\n",
    "5. Evaluation or validation that the equation is correct.\n",
    "\n",
    "How do we represent these concepts? Norvig suggests this approach:\n",
    "\n",
    "- The original equation can be expressed as a string.\n",
    "- The filled-in equation can also be represented as a string.\n",
    "- The letters are single characters (one-character strings).\n",
    "- The numbers are also represented as single characters.\n",
    "- We need a mapping that associates letters to numbers. We can leverage `str.translate()`.\n",
    "- For the evaluation we can use `eval()`, that takes a string and evaluates it as an expression.\n",
    "\n",
    "### `eval`"
   ]
  },
  {
   "cell_type": "code",
   "execution_count": 1,
   "id": "b6d08f1e-34c8-4a50-8393-d85d6322dc87",
   "metadata": {},
   "outputs": [
    {
     "data": {
      "text/plain": [
       "4"
      ]
     },
     "execution_count": 1,
     "metadata": {},
     "output_type": "execute_result"
    }
   ],
   "source": [
    "eval('2 + 2')"
   ]
  },
  {
   "cell_type": "code",
   "execution_count": 2,
   "id": "cb379925-d9d0-4f01-8480-fe837ceaad55",
   "metadata": {},
   "outputs": [
    {
     "data": {
      "text/plain": [
       "False"
      ]
     },
     "execution_count": 2,
     "metadata": {},
     "output_type": "execute_result"
    }
   ],
   "source": [
    "eval('2 + 2 == 3')"
   ]
  },
  {
   "cell_type": "markdown",
   "id": "f621148b-5cff-450f-94d9-8b9fc5eb6e73",
   "metadata": {},
   "source": [
    "### Translation Tables\n",
    "\n",
    "We can create a translation table with the function `str.maketrans()`. If, for example, we want to translate `'ABC'` to `'123'` we can write:"
   ]
  },
  {
   "cell_type": "code",
   "execution_count": 3,
   "id": "c53e3512-1dec-48a0-aa80-d1f8c953450b",
   "metadata": {},
   "outputs": [
    {
     "data": {
      "text/plain": [
       "'1 + 2 == 3'"
      ]
     },
     "execution_count": 3,
     "metadata": {},
     "output_type": "execute_result"
    }
   ],
   "source": [
    "table = str.maketrans('ABC', '123')\n",
    "f = 'A + B == C'\n",
    "f.translate(table)"
   ]
  },
  {
   "cell_type": "code",
   "execution_count": 4,
   "id": "17b3637b-b353-4a23-aeb8-eaa4ad38321a",
   "metadata": {},
   "outputs": [
    {
     "data": {
      "text/plain": [
       "True"
      ]
     },
     "execution_count": 4,
     "metadata": {},
     "output_type": "execute_result"
    }
   ],
   "source": [
    "eval(f.translate(table))"
   ]
  },
  {
   "cell_type": "markdown",
   "id": "4c64fc5b-a52a-4b12-afb6-ee31c4a712ae",
   "metadata": {},
   "source": [
    "Let's define a function `valid()` that returns `True` or `False` if the function is valid or not. It should also return `False` if the equation returns an error like `1/0` (remember, we are considering all 4 operators). The one below is my version."
   ]
  },
  {
   "cell_type": "code",
   "execution_count": 5,
   "id": "09fdccfb-3a0e-4e51-90c6-61937301880e",
   "metadata": {},
   "outputs": [],
   "source": [
    "def valid(f):\n",
    "    \"Formula f is valid iff it has no numbers with leading zero and evals true.\"\n",
    "    try:\n",
    "        return eval(f)\n",
    "    except ZeroDivisionError:\n",
    "        return False\n",
    "\n",
    "def test_valid():\n",
    "    assert valid('1 + 3 == 4') is True\n",
    "    assert valid('6/2 == 3') is True\n",
    "    assert valid('1/0') is False\n",
    "\n",
    "test_valid()"
   ]
  },
  {
   "cell_type": "markdown",
   "id": "85a38551-532a-4beb-bfdd-33d2c6f5183c",
   "metadata": {},
   "source": [
    "This is Norvig's version, which checks for more general errors, including non-numeric characters. `ArithmeticError` is a superclass of `ZeroDivisionError`."
   ]
  },
  {
   "cell_type": "code",
   "execution_count": 6,
   "id": "327f8bc7-ac2d-478a-9d25-cde52009f188",
   "metadata": {},
   "outputs": [],
   "source": [
    "import re\n",
    "\n",
    "def valid(f):\n",
    "    \"\"\"Formula is valid iff it has no numbers with leading zeros and evals True\"\"\"\n",
    "    try:\n",
    "        return not re.search(r'\\b0[0-9]', f) and eval(f) is True\n",
    "    except ArithmeticError:\n",
    "        return False"
   ]
  },
  {
   "cell_type": "markdown",
   "id": "ced03862-24d4-427e-9d61-66d6234b1524",
   "metadata": {},
   "source": [
    "### Explanation of Norvig's implementation\n",
    "\n",
    "In the case of `ODD + ODD = EVEN` `EVEN` = 3435 would be a valid number, but `EVEN` = 0435 would not. We want to avoid cases where numbers have a leading zero. This could appear anywhere in a formula. The regular expression `r'\\b0[0-9]` looks for a 0 appearing at a *word boundary*, marked by `\\b`.\n",
    "\n",
    "There is a more profound reason for avoiding numbers with leading zeros: in Python they are interpreted as octal, therefore a number like 012 would be interpreted as decimal 10."
   ]
  }
 ],
 "metadata": {
  "kernelspec": {
   "display_name": "Python 3 (ipykernel)",
   "language": "python",
   "name": "python3"
  },
  "language_info": {
   "codemirror_mode": {
    "name": "ipython",
    "version": 3
   },
   "file_extension": ".py",
   "mimetype": "text/x-python",
   "name": "python",
   "nbconvert_exporter": "python",
   "pygments_lexer": "ipython3",
   "version": "3.11.5"
  }
 },
 "nbformat": 4,
 "nbformat_minor": 5
}
