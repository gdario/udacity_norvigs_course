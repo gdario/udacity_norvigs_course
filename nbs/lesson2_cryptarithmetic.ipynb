{
 "cells": [
  {
   "cell_type": "markdown",
   "id": "c4fdefdb-a705-4b9d-a8d4-85658b4e017d",
   "metadata": {},
   "source": [
    "# Cryptarithmetic\n",
    "\n",
    "An example of cryptarithmetic is the equation\n",
    "\n",
    "```text\n",
    " ODD +\n",
    " ODD =\n",
    "EVEN\n",
    "```\n",
    "\n",
    "where each letter represents a digit and where the equation holds true. First consideration: if the numbers are in base 10, ODD must be greater than 500. It cannot be 500 because this would mean O=5, D=0, and 1000 should be XDDD (we don't yet know X). Also D must be > 5, since there clearly is a carry digit. We also realize that E = 1, because ODD must be <= 999 (it cannot be 999, since the digits are different), so the sum must be strictly lower than 2000. So, the first and third digits must be 1. N must be an even number, since it's the unitary part of 2*D. Using some more inferences we can come up with two solutions: 655 + 655 = 1310 or 855 + 855 = 1710.\n",
    "\n",
    "## Brute Force Solution\n",
    "\n",
    "One possible approach could be implementing all the rules of arithmetc (carry digits, odd/even). This is a challenging task, even just for addition. We would like to find a shortcut. Another possibility would be trying all possibilities. Given 10 digits there are $10! \\approx 3\\times10^6$, this seems feasible, although not fast. For each of the letters, we can consider each of the $10!$ permutations of the digits. We would replace the letters with the values and keep iterating until the equation holds. Some edge cases may appear, and we will deal with them below.\n",
    "\n",
    "## Inventory of Concepts\n",
    "\n",
    "We are dealing with the following concepts:\n",
    "\n",
    "1. Equations - two types of them:\n",
    "    - The initial ones where digits are represented by uppercase letters.\n",
    "    - The \"filled-in\" ones, where we replace letters with digits.\n",
    "3. Letters.\n",
    "4. Digits.\n",
    "5. Assignment of a letter to a digit.\n",
    "6. Evaluation or validation that the equation is correct.\n",
    "\n",
    "How do we represent these concepts? Norvig suggests this approach:\n",
    "\n",
    "- The original equation can be expressed as a string.\n",
    "- The filled-in equation can also be represented as a string.\n",
    "- The letters are single characters (one-character strings).\n",
    "- The digits are also represented as single characters.\n",
    "- We need a mapping that associates letters to numbers. We can leverage `str.translate()`.\n",
    "- For the evaluation we can use `eval()`, that takes a string and evaluates it as an expression.\n",
    "\n",
    "The main advantage of using strings to represent both types of equations are\n",
    "\n",
    "1. The possibility of using `str.maketrans()` and `str.translate()`, which is much easier than doing some complicated string replacements.\n",
    "2. The possibility of parsing and evaluating the filled-in equation via `eval()`.\n",
    "\n",
    "### `eval`\n",
    "\n",
    "`eval()` takes a string that represents a valid Python expression, parses it (i.e., it build a parse tree) and evaluates it."
   ]
  },
  {
   "cell_type": "code",
   "execution_count": 1,
   "id": "b6d08f1e-34c8-4a50-8393-d85d6322dc87",
   "metadata": {},
   "outputs": [
    {
     "data": {
      "text/plain": [
       "4"
      ]
     },
     "execution_count": 1,
     "metadata": {},
     "output_type": "execute_result"
    }
   ],
   "source": [
    "eval('2 + 2')"
   ]
  },
  {
   "cell_type": "code",
   "execution_count": 2,
   "id": "cb379925-d9d0-4f01-8480-fe837ceaad55",
   "metadata": {},
   "outputs": [
    {
     "data": {
      "text/plain": [
       "False"
      ]
     },
     "execution_count": 2,
     "metadata": {},
     "output_type": "execute_result"
    }
   ],
   "source": [
    "eval('2 + 2 == 3')"
   ]
  },
  {
   "cell_type": "markdown",
   "id": "f621148b-5cff-450f-94d9-8b9fc5eb6e73",
   "metadata": {},
   "source": [
    "### Translation Tables\n",
    "\n",
    "We can create a translation table with the function `str.maketrans()`. If, for example, we want to translate `'ABC'` to `'123'` we can write:"
   ]
  },
  {
   "cell_type": "code",
   "execution_count": 3,
   "id": "c53e3512-1dec-48a0-aa80-d1f8c953450b",
   "metadata": {},
   "outputs": [
    {
     "data": {
      "text/plain": [
       "'1 + 2 == 3'"
      ]
     },
     "execution_count": 3,
     "metadata": {},
     "output_type": "execute_result"
    }
   ],
   "source": [
    "table = str.maketrans('ABC', '123')\n",
    "f = 'A + B == C'\n",
    "f.translate(table)"
   ]
  },
  {
   "cell_type": "code",
   "execution_count": 4,
   "id": "17b3637b-b353-4a23-aeb8-eaa4ad38321a",
   "metadata": {},
   "outputs": [
    {
     "data": {
      "text/plain": [
       "True"
      ]
     },
     "execution_count": 4,
     "metadata": {},
     "output_type": "execute_result"
    }
   ],
   "source": [
    "eval(f.translate(table))"
   ]
  },
  {
   "cell_type": "markdown",
   "id": "4c64fc5b-a52a-4b12-afb6-ee31c4a712ae",
   "metadata": {},
   "source": [
    "Let's define a function `valid()` that returns `True` or `False` if the function is valid or not. It should also return `False` if the equation returns an operation like `1/0`. The one below is my initial version."
   ]
  },
  {
   "cell_type": "code",
   "execution_count": 5,
   "id": "09fdccfb-3a0e-4e51-90c6-61937301880e",
   "metadata": {},
   "outputs": [
    {
     "name": "stdout",
     "output_type": "stream",
     "text": [
      "All tests pass\n"
     ]
    }
   ],
   "source": [
    "def valid(f):\n",
    "    \"Formula f is valid iff it has no numbers with leading zero and evals true.\"\n",
    "    try:\n",
    "        return eval(f)\n",
    "    except ZeroDivisionError:\n",
    "        return False\n",
    "\n",
    "def test_valid():\n",
    "    assert valid('1 + 3 == 4') is True\n",
    "    assert valid('6/2 == 3') is True\n",
    "    assert valid('1/0') is False\n",
    "    print('All tests pass')\n",
    "\n",
    "test_valid()"
   ]
  },
  {
   "cell_type": "markdown",
   "id": "85a38551-532a-4beb-bfdd-33d2c6f5183c",
   "metadata": {},
   "source": [
    "This is Norvig's version, which checks for more general errors, including non-numeric characters. `ArithmeticError` is a superclass of `ZeroDivisionError`."
   ]
  },
  {
   "cell_type": "code",
   "execution_count": 6,
   "id": "99d3be5b-8286-4040-af24-e6f70afc7c72",
   "metadata": {},
   "outputs": [
    {
     "name": "stdout",
     "output_type": "stream",
     "text": [
      "All tests pass\n"
     ]
    }
   ],
   "source": [
    "import itertools\n",
    "import re\n",
    "import string\n",
    "\n",
    "def valid(f):\n",
    "    \"\"\"Formula is valid iff it has no numbers with leading zeros and evals True\"\"\"\n",
    "    try:\n",
    "        return not re.search(r'\\b0[0-9]', f) and eval(f) is True\n",
    "    except ArithmeticError:\n",
    "        return False\n",
    "\n",
    "test_valid()"
   ]
  },
  {
   "attachments": {},
   "cell_type": "markdown",
   "id": "762a9817-f543-4ad6-a5ee-e5344cfaf299",
   "metadata": {},
   "source": [
    "### Explanation of Norvig's implementation\n",
    "\n",
    "In the case of `ODD + ODD = EVEN` `EVEN` = 3435 would be a valid number, but `EVEN` = 0435 would not. We want to avoid cases where numbers have a leading zero. This could appear anywhere in a formula. The regular expression `r'\\b0[0-9]` looks for a 0 appearing at a *word boundary*, marked by `\\b`.\n",
    "\n",
    "There is a more profound reason for avoiding numbers with leading zeros: in Python they are interpreted as octal, therefore a number like 012 would be interpreted as decimal 10.\n",
    "\n",
    "## `solve()`\n",
    "\n",
    "We build the solution step by step. The `solve()` function is very short and takes a formula with digits replaced by letters, fills-in all the possible replacement of such letters with numbers, and checks whether the resulting equation is valid, where by \"valid\" we mean that the equation does not return an `ArithmeticError` and is a true and correct Python expression. The function is just a loop calling `fill_in(formula)` which we haven't implemented yet."
   ]
  },
  {
   "cell_type": "code",
   "execution_count": 7,
   "id": "c738c31d-a0f7-4572-b18f-f9080da35d4c",
   "metadata": {},
   "outputs": [],
   "source": [
    "def solve(formula):\n",
    "    \"\"\"Given a formula like 'ODD + ODD == EVEN', fill in digits to solve it.\n",
    "    Input formula is a string; output is a digit-filled-in string or None.\"\"\"\n",
    "    for f in fill_in(formula):\n",
    "        if valid(f):\n",
    "            return f"
   ]
  },
  {
   "cell_type": "markdown",
   "id": "8c0e175c-0123-4e0d-bb3a-feb371c3e4e4",
   "metadata": {},
   "source": [
    "## `fill_in()`\n",
    "\n",
    "Let's consider a strategy to create the `fill_in(formula)` function that takes an unfilled formula and returns all possible filled-in formulas. Let's consider a simpler example: 'I + I = ME'. First note that there are multiple solution (I = 5, 6, 7, 8, 9 are all possible). In this example we have 3 letters: I, M, E. We are considering all possible permutations of 3 numbers from the set $\\{0, \\ldots, 9\\}$.\n",
    "Note also that this solution covers the case where the formula mixes letters and numbers, like 'BC2 + DE3 = AC**F'. One of the examples in the course was like this. String translation is a great choice for this purpose, as it only replace what needs to be replaced.\n",
    "\n",
    "Norvig proposes this implementation of `fill_in()`."
   ]
  },
  {
   "cell_type": "code",
   "execution_count": 8,
   "id": "9f05c38f-911d-4ecc-8053-e4609fd1cdc9",
   "metadata": {},
   "outputs": [],
   "source": [
    "def fill_in(formula):\n",
    "    \"Generate all possible fillings-in of letters in formula with digits.\"\n",
    "    # As usual my solution was more complicated. This is nice and neat.\n",
    "    letters = ''.join(set(re.findall('[A-Z]', formula)))\n",
    "    for digits in itertools.permutations('1234567890', len(letters)):\n",
    "        table = str.maketrans(letters, ''.join(digits))\n",
    "        yield formula.translate(table)"
   ]
  },
  {
   "cell_type": "markdown",
   "id": "9ec3947e-ef20-4f83-bf53-9ef9dd601105",
   "metadata": {},
   "source": [
    "We start first finding all the uppercase letters in the formula and put them in a set. This tells us how many unique digits we need to consider. I initially considered a set comprehension like\n",
    "\n",
    "```python\n",
    "''.join({letter for letter in formula if letter.isupper()})\n",
    "```\n",
    "\n",
    "but the one based on `re.findall()`, which returns a list with all occurrences, is probably faster.\n",
    "`itertools.permutations(seq, len)` returns all the permutations of length `len` from a sequence `seq`. We then make a translation table based on the chosen digits (which are characters, not ints) and yield the formula. Note that we are using a generator function, as we don't want to compute all possible replacements at once, but rather return one at a time.\n",
    "\n",
    "We are not done yet, as we have to verify that the result is correct. Norvig has these clever examples to go through:"
   ]
  },
  {
   "cell_type": "code",
   "execution_count": 9,
   "id": "37ee08bb-9ce9-47d3-b5ec-baaf5c226059",
   "metadata": {},
   "outputs": [
    {
     "name": "stdout",
     "output_type": "stream",
     "text": [
      "0: TWO + TWO == FOUR ==> 928 + 928 == 1856\n",
      "1: A**2 + B**2 == C**2 ==> 3**2 + 4**2 == 5**2\n",
      "2: A**2 + BE**2 == BY**2 ==> 9**2 + 40**2 == 41**2\n",
      "3: X/X == X ==> 1/1 == 1\n",
      "4: A**N + B**N == C**N and N > 1 ==> 3**2 + 4**2 == 5**2 and 2 > 1\n",
      "5: ATOM**0.5 == A + TO + M ==> 1296**0.5 == 1 + 29 + 6\n",
      "6: GLITTERS is not GOLD ==> 54377186 is not 5942\n",
      "7: ONE < TWO and FOUR < FIVE ==> 513 < 925 and 8540 < 8673\n",
      "8: ONE < TWO < THREE ==> 513 < 625 < 64733\n"
     ]
    },
    {
     "name": "stderr",
     "output_type": "stream",
     "text": [
      "<string>:1: SyntaxWarning: \"is not\" with a literal. Did you mean \"!=\"?\n"
     ]
    },
    {
     "name": "stdout",
     "output_type": "stream",
     "text": [
      "9: RAMN == R**3 + RM**3 == N**3 + RX**3 ==> 1729 == 1**3 + 12**3 == 9**3 + 10**3\n",
      "10: sum(range(AA)) == BB ==> sum(range(11)) == 55\n",
      "11: sum(range(POP)) == BOBO ==> sum(range(101)) == 5050\n",
      "12: ODD + ODD == EVEN ==> 655 + 655 == 1310\n",
      "13: PLUTO not in set([PLANETS]) ==> 36289 not in set([3651487])\n",
      "CPU times: user 499 ms, sys: 0 ns, total: 499 ms\n",
      "Wall time: 498 ms\n"
     ]
    }
   ],
   "source": [
    "%%time\n",
    "\n",
    "examples = \"\"\"TWO + TWO == FOUR\n",
    "A**2 + B**2 == C**2\n",
    "A**2 + BE**2 == BY**2\n",
    "X/X == X\n",
    "A**N + B**N == C**N and N > 1\n",
    "ATOM**0.5 == A + TO + M\n",
    "GLITTERS is not GOLD\n",
    "ONE < TWO and FOUR < FIVE\n",
    "ONE < TWO < THREE\n",
    "RAMN == R**3 + RM**3 == N**3 + RX**3\n",
    "sum(range(AA)) == BB\n",
    "sum(range(POP)) == BOBO\n",
    "ODD + ODD == EVEN\n",
    "PLUTO not in set([PLANETS])\"\"\".splitlines()\n",
    "\n",
    "def test_crypto(examples):\n",
    "    for n, example in enumerate(examples):\n",
    "        print(f'{n}: {example} ==> {solve(example)}')\n",
    "\n",
    "test_crypto(examples)"
   ]
  },
  {
   "cell_type": "markdown",
   "id": "b8bda3eb-f33f-4491-b8ea-1fe61947ebfc",
   "metadata": {},
   "source": [
    "By the way, this one below rings a bell, doesn't it?"
   ]
  },
  {
   "cell_type": "code",
   "execution_count": 10,
   "id": "75a1a24b-5a7e-4df5-a8d5-7f5b96028789",
   "metadata": {},
   "outputs": [
    {
     "name": "stdout",
     "output_type": "stream",
     "text": [
      "None\n"
     ]
    }
   ],
   "source": [
    "print(solve('A**N + B**N == C**N and N > 2'))"
   ]
  },
  {
   "cell_type": "markdown",
   "id": "4db28cf4-cd5f-4eaf-b1c1-22fa68664576",
   "metadata": {},
   "source": [
    "## Profiling\n",
    "\n",
    "If we save the code above in a file, say, `crypto.py`, we can get profiling information by typing\n",
    "\n",
    "```python\n",
    "python -m cProfile crypto.py\n",
    "```\n",
    "\n",
    "You can profile your code from inside the python prompt by importing the `cProfile` module and passing to `cProfile.run('code_to_run')`. The string should contain the code to be profiled. For more information about the profiling modules, check the [Python documentation](https://docs.python.org/3/library/profile.html).\n",
    "\n",
    "In Jupyter there are a `%prun` and a `%%prun` magic methods. From the table below, we can see that most of the time is spent calling `solve()` which calls `valid()` which calls `eval()`."
   ]
  },
  {
   "cell_type": "code",
   "execution_count": 11,
   "id": "3bc0f196-a37a-43ab-8a64-f37f4b44aa27",
   "metadata": {},
   "outputs": [
    {
     "name": "stdout",
     "output_type": "stream",
     "text": [
      " "
     ]
    },
    {
     "data": {
      "text/plain": [
       "         471 function calls in 0.001 seconds\n",
       "\n",
       "   Ordered by: internal time\n",
       "\n",
       "   ncalls  tottime  percall  cumtime  percall filename:lineno(function)\n",
       "       46    0.000    0.000    0.000    0.000 {built-in method builtins.eval}\n",
       "       47    0.000    0.000    0.000    0.000 559079801.py:1(fill_in)\n",
       "       46    0.000    0.000    0.000    0.000 {method 'translate' of 'str' objects}\n",
       "       46    0.000    0.000    0.000    0.000 1507065022.py:5(valid)\n",
       "       47    0.000    0.000    0.000    0.000 __init__.py:272(_compile)\n",
       "       46    0.000    0.000    0.000    0.000 {method 'search' of 're.Pattern' objects}\n",
       "        1    0.000    0.000    0.001    0.001 2524925880.py:1(solve)\n",
       "       46    0.000    0.000    0.000    0.000 __init__.py:173(search)\n",
       "        1    0.000    0.000    0.001    0.001 {built-in method builtins.exec}\n",
       "       47    0.000    0.000    0.000    0.000 {built-in method builtins.isinstance}\n",
       "       47    0.000    0.000    0.000    0.000 {method 'join' of 'str' objects}\n",
       "       46    0.000    0.000    0.000    0.000 {built-in method maketrans}\n",
       "        1    0.000    0.000    0.000    0.000 __init__.py:208(findall)\n",
       "        1    0.000    0.000    0.000    0.000 {method 'findall' of 're.Pattern' objects}\n",
       "        1    0.000    0.000    0.001    0.001 <string>:1(<module>)\n",
       "        1    0.000    0.000    0.000    0.000 {method 'disable' of '_lsprof.Profiler' objects}\n",
       "        1    0.000    0.000    0.000    0.000 {built-in method builtins.len}"
      ]
     },
     "metadata": {},
     "output_type": "display_data"
    }
   ],
   "source": [
    "%prun solve('ATOM**0.5 == A + TO + M')"
   ]
  },
  {
   "cell_type": "markdown",
   "id": "0a65bba8-f099-4de0-a541-a314326bd9c3",
   "metadata": {},
   "source": [
    "A more complete picture may be obtained by running `%prun` on `test_cripto()`. We can see that `solve()` is called 14 times, once per example. Look at the cumulative times associated with `valid()` and `fill_in()`. It seems that speeding up `valid()` may bring the largest benefits (Law of Diminishing Returns)."
   ]
  },
  {
   "cell_type": "code",
   "execution_count": 12,
   "id": "0ca15927-812d-4900-9d4b-d59bb2282ae3",
   "metadata": {},
   "outputs": [
    {
     "name": "stdout",
     "output_type": "stream",
     "text": [
      "0: TWO + TWO == FOUR ==> 928 + 928 == 1856\n",
      "1: A**2 + B**2 == C**2 ==> 3**2 + 4**2 == 5**2\n",
      "2: A**2 + BE**2 == BY**2 ==> 9**2 + 40**2 == 41**2\n",
      "3: X/X == X ==> 1/1 == 1\n",
      "4: A**N + B**N == C**N and N > 1 ==> 3**2 + 4**2 == 5**2 and 2 > 1\n",
      "5: ATOM**0.5 == A + TO + M ==> 1296**0.5 == 1 + 29 + 6\n",
      "6: GLITTERS is not GOLD ==> 54377186 is not 5942\n",
      "7: ONE < TWO and FOUR < FIVE ==> 513 < 925 and 8540 < 8673\n",
      "8: ONE < TWO < THREE ==> 513 < 625 < 64733\n"
     ]
    },
    {
     "name": "stderr",
     "output_type": "stream",
     "text": [
      "<string>:1: SyntaxWarning: \"is not\" with a literal. Did you mean \"!=\"?\n"
     ]
    },
    {
     "name": "stdout",
     "output_type": "stream",
     "text": [
      "9: RAMN == R**3 + RM**3 == N**3 + RX**3 ==> 1729 == 1**3 + 12**3 == 9**3 + 10**3\n",
      "10: sum(range(AA)) == BB ==> sum(range(11)) == 55\n",
      "11: sum(range(POP)) == BOBO ==> sum(range(101)) == 5050\n",
      "12: ODD + ODD == EVEN ==> 655 + 655 == 1310\n",
      "13: PLUTO not in set([PLANETS]) ==> 36289 not in set([3651487])\n",
      " "
     ]
    },
    {
     "data": {
      "text/plain": [
       "         741478 function calls in 0.744 seconds\n",
       "\n",
       "   Ordered by: internal time\n",
       "\n",
       "   ncalls  tottime  percall  cumtime  percall filename:lineno(function)\n",
       "    61699    0.443    0.000    0.454    0.000 {built-in method builtins.eval}\n",
       "    75492    0.054    0.000    0.128    0.000 559079801.py:1(fill_in)\n",
       "    75478    0.043    0.000    0.043    0.000 {method 'translate' of 'str' objects}\n",
       "    75478    0.036    0.000    0.600    0.000 1507065022.py:5(valid)\n",
       "    75478    0.034    0.000    0.034    0.000 {method 'search' of 're.Pattern' objects}\n",
       "    75478    0.032    0.000    0.110    0.000 __init__.py:173(search)\n",
       "    75492    0.032    0.000    0.045    0.000 __init__.py:272(_compile)\n",
       "       14    0.026    0.002    0.754    0.054 2524925880.py:1(solve)\n",
       "    75478    0.019    0.000    0.019    0.000 {built-in method maketrans}\n",
       "    75521    0.013    0.000    0.013    0.000 {built-in method builtins.isinstance}\n",
       "    75492    0.012    0.000    0.012    0.000 {method 'join' of 'str' objects}\n",
       "       29    0.000    0.000    0.000    0.000 iostream.py:610(write)\n",
       "        1    0.000    0.000    0.754    0.754 <timed exec>:16(test_crypto)\n",
       "       64    0.000    0.000    0.000    0.000 {built-in method builtins.sum}\n",
       "       14    0.000    0.000    0.000    0.000 {built-in method builtins.print}\n",
       "        5    0.000    0.000    0.000    0.000 socket.py:621(send)\n",
       "       14    0.000    0.000    0.000    0.000 {method 'findall' of 're.Pattern' objects}\n",
       "       29    0.000    0.000    0.000    0.000 {built-in method posix.getpid}\n",
       "        5    0.000    0.000    0.000    0.000 iostream.py:243(schedule)\n",
       "        1    0.000    0.000    0.754    0.754 {built-in method builtins.exec}\n",
       "       29    0.000    0.000    0.000    0.000 iostream.py:505(_is_master_process)\n",
       "       29    0.000    0.000    0.000    0.000 iostream.py:532(_schedule_flush)\n",
       "        5    0.000    0.000    0.000    0.000 threading.py:1185(is_alive)\n",
       "       14    0.000    0.000    0.000    0.000 __init__.py:208(findall)\n",
       "        1    0.000    0.000    0.000    0.000 linecache.py:36(getlines)\n",
       "        5    0.000    0.000    0.000    0.000 threading.py:1118(_wait_for_tstate_lock)\n",
       "        1    0.000    0.000    0.000    0.000 linecache.py:80(updatecache)\n",
       "       44    0.000    0.000    0.000    0.000 {built-in method builtins.len}\n",
       "        5    0.000    0.000    0.000    0.000 iostream.py:127(_event_pipe)\n",
       "       29    0.000    0.000    0.000    0.000 {method 'write' of '_io.StringIO' objects}\n",
       "        1    0.000    0.000    0.000    0.000 warnings.py:35(_formatwarnmsg_impl)\n",
       "        1    0.000    0.000    0.000    0.000 warnings.py:117(_formatwarnmsg)\n",
       "       29    0.000    0.000    0.000    0.000 {method '__exit__' of '_thread.RLock' objects}\n",
       "        5    0.000    0.000    0.000    0.000 {method 'acquire' of '_thread.lock' objects}\n",
       "        1    0.000    0.000    0.000    0.000 warnings.py:20(_showwarnmsg_impl)\n",
       "        1    0.000    0.000    0.000    0.000 warnings.py:403(__init__)\n",
       "        1    0.000    0.000    0.000    0.000 linecache.py:26(getline)\n",
       "        1    0.000    0.000    0.000    0.000 warnings.py:96(_showwarnmsg)\n",
       "        1    0.000    0.000    0.000    0.000 {method 'startswith' of 'str' objects}\n",
       "        5    0.000    0.000    0.000    0.000 threading.py:568(is_set)\n",
       "        1    0.000    0.000    0.000    0.000 {method 'disable' of '_lsprof.Profiler' objects}\n",
       "        5    0.000    0.000    0.000    0.000 {method 'append' of 'collections.deque' objects}\n",
       "        1    0.000    0.000    0.000    0.000 {method 'endswith' of 'str' objects}\n",
       "        1    0.000    0.000    0.000    0.000 <string>:1(<module>)"
      ]
     },
     "metadata": {},
     "output_type": "display_data"
    }
   ],
   "source": [
    "%prun test_crypto(examples)"
   ]
  },
  {
   "attachments": {},
   "cell_type": "markdown",
   "id": "192cd36a-5415-43ca-b864-ad8438c3a6e4",
   "metadata": {},
   "source": [
    "`valid()` calls `eval()`, which is what is taking most time. The problem is that `eval()` is a builtin function, and we cannot modify it directly. If we cannot operate directly on `eval()` we can try do two things:\n",
    "\n",
    "1. We can make *fewer* calls to `eval()`.\n",
    "2. We can make *easier* calls to `eval()`.\n",
    "\n",
    "How can we make it easier? One way is to break the filled-in equation into two parts, say the lhs and the rhs. This is a form of *divide and conquer*. However it seems difficult to find a good way to break the problem into subproblems that are easier and faster to handle so, in general, this approach is probably not going to work.\n",
    "\n",
    "The other possibility is making *fewer* calls, but how? One way could be to evaluate the formula only once and call it as a function with parameters. We would still need to call the function many times, but we would call `eval()` only once. How can we do this? In order to understand, we need to dig deeper into how `eval()` works.\n",
    "\n",
    "If applied to a (filled-in) equation like `'123 = 45**2'`, `eval()` first parses the string and builds a parse tree roughly like the one below.\n",
    "\n",
    "```text\n",
    "     ==\n",
    "   /   \\\n",
    " Num  Expr\n",
    " /    / | \\\n",
    "123 Num | Num\n",
    "     |  **  \\\n",
    "    45       2\n",
    "```\n",
    "\n",
    "Parsing is followed by a *code generation* step which, as the name suggests, generates the code that will be executed by the final *execution* phase.\n",
    "\n",
    "Each time we go through a new permutation, the parsing phase will be repeated, but the only thing that changes are the numbers, not the structure of the parse tree. The same is true for the code generation part. We would like to be able to run these two steps only once, and then be able to pass the specific numbers at each iteration. The `eval()` function doesn't take a statement (e.g. a function definition) in input, but rather an expression. In other words, if we can pass an expression to `eval()` without binding it to a name as we do with expression, this might work. There is a way in Python to create a function as an expression without binding it to a name, and this is what `lambda`s do. `lambda` creates a function as an expression. To make things clearer, if the input formula is something like 'YOU == ME**2', we would like to have a function like\n",
    "\n",
    "```python\n",
    "def foo(Y,O,U,M,E):\n",
    "    return 100*Y + 10*O + U == (M*10 + E)**2\n",
    "```\n",
    "\n",
    "which takes the letters in the formula nad returns an expression to be evaluated, but we don't want to pass the function `foo()`, just the resulting expression.\n",
    "\n",
    "## `compile_word()`\n",
    "\n",
    "The `compile_word()` function takes a word like 'YOU' and returns a string like `'(1*U + 10*O + 100*Y)'`. If the word contains non-uppercase letters, i.e., lowercase letters or other symbols, they are left unchanged. Note that we assume that a single word cannot contain a combination of uppercase and non-uppercase letters."
   ]
  },
  {
   "cell_type": "code",
   "execution_count": 13,
   "id": "babb1479-8186-4bb5-b65d-89271bc25b8e",
   "metadata": {},
   "outputs": [
    {
     "name": "stdout",
     "output_type": "stream",
     "text": [
      "(1*U+10*O+100*Y)\n"
     ]
    }
   ],
   "source": [
    "def compile_word(word):\n",
    "    \"\"\"Compile a word of uppercase letters as numeric digits.\n",
    "    E.g., compile_word('YOU') => '(1*U+10*O+100*Y)'\n",
    "    Non-uppercase words unchanged: compile_word('+') => '+'\"\"\"\n",
    "    if word.isupper():\n",
    "        return '(' + '+'.join([str(10**n) + '*' + c\n",
    "                               for n, c in enumerate(reversed(word))]) + ')'\n",
    "    else:\n",
    "        return word\n",
    "\n",
    "print(compile_word('YOU'))"
   ]
  },
  {
   "cell_type": "markdown",
   "id": "7da5595f-5f60-4fe9-841f-5cbcb5a98e10",
   "metadata": {},
   "source": [
    "Now let's see the whole program, centered on the `faster_solve()` function. This function takes a formula and pre-compiles it so that it is evaluated only once. We compile the formula via `compile_formula()` which returns the function that represents it and the letters. We then generate all the permutations of `len(letters)` digits, and not that now we are dealing with actual integers, not with characters.\n",
    "\n",
    "We apply the function to the digits, passed as a tuple via unpacking. If the function returns `True`, only then we do the string translation as we did before to return the final result, but notice we have to do this translation only once one the specific permutation that we know works."
   ]
  },
  {
   "cell_type": "code",
   "execution_count": 14,
   "id": "aceba85a-e0a5-47a9-a8cb-23427d3f4deb",
   "metadata": {},
   "outputs": [],
   "source": [
    "def faster_solve(formula):\n",
    "    \"\"\"Given a formula like 'ODD + ODD == EVEN', fill in digits to solve it.\n",
    "    Input formula is a string; output is a digit-filled-in string or None.\n",
    "    This version precompiles the formula; only one eval per formula.\"\"\"\n",
    "    f, letters = compile_formula(formula)\n",
    "    for digits in itertools.permutations(\n",
    "            (1, 2, 3, 4, 5, 6, 7, 8, 9, 0), len(letters)):\n",
    "        try:\n",
    "            if f(*digits) is True:\n",
    "                table = str.maketrans(letters, ''.join(map(str, digits)))\n",
    "                return formula.translate(table)\n",
    "        except ArithmeticError:\n",
    "            pass"
   ]
  },
  {
   "cell_type": "markdown",
   "id": "9a593038-e603-44cd-87a7-e35b9fb32d19",
   "metadata": {},
   "source": [
    "## `compile_formula()`\n",
    "\n",
    "Compile formula takes a formula expressed as a string and returns a function. It also returns the set of letters found as a comma separated string, stored in the variable `parms`. We split the formula into its individual tokens (variable `tokens`) by applyin `compile_word` to the list returned by `re.split('([A-Z]+)', formula)`. This regular expression splits the string using any sequence of one or more uppercase letters as separators. The fact that we wrap the separator in parentheses guarantees that the separator themselves will be returned. When we apply `compile_word` to each element we obtain either the substring unchanged, when it contains characters that are not uppercase letters, or the parsed formula as an expression."
   ]
  },
  {
   "cell_type": "code",
   "execution_count": 15,
   "id": "fba6af5e-d66b-47bc-807b-b29b5fdf577b",
   "metadata": {},
   "outputs": [
    {
     "name": "stdout",
     "output_type": "stream",
     "text": [
      "EYUMO\n",
      "E, Y, U, M, O\n"
     ]
    },
    {
     "data": {
      "text/plain": [
       "['', 'YOU', ' == ', 'ME', '**2']"
      ]
     },
     "execution_count": 15,
     "metadata": {},
     "output_type": "execute_result"
    }
   ],
   "source": [
    "formula = 'YOU == ME**2'\n",
    "letters = ''.join(set(re.findall('[A-Z]', formula)))\n",
    "print(letters)\n",
    "parms = ', '.join(letters)\n",
    "print(parms)\n",
    "re.split(pattern='([A-Z]+)', string=formula)"
   ]
  },
  {
   "cell_type": "code",
   "execution_count": 16,
   "id": "970b4011-57ef-4314-9b45-4396c2378788",
   "metadata": {},
   "outputs": [],
   "source": [
    "tokens = map(compile_word, re.split(pattern='([A-Z]+)', string=formula))\n",
    "# list(tokens) returns '(1*U+10*O+100*Y) == (1*E+10*M)**2'"
   ]
  },
  {
   "cell_type": "markdown",
   "id": "0287dfbe-bad9-4428-93b6-72aec77fd43c",
   "metadata": {},
   "source": [
    "`body` concatenates the tokens in a string. This is the body of the function we want to execute."
   ]
  },
  {
   "cell_type": "code",
   "execution_count": 17,
   "id": "9ba9560f-82fd-4f3e-8383-49b5b0c301ec",
   "metadata": {},
   "outputs": [
    {
     "data": {
      "text/plain": [
       "'(1*U+10*O+100*Y) == (1*E+10*M)**2'"
      ]
     },
     "execution_count": 17,
     "metadata": {},
     "output_type": "execute_result"
    }
   ],
   "source": [
    "body = ''.join(tokens)\n",
    "body"
   ]
  },
  {
   "cell_type": "markdown",
   "id": "1524b9b9-01c6-4b02-a5e7-885d5763f6d8",
   "metadata": {},
   "source": [
    "We create a string with the function to be evaulated as follows"
   ]
  },
  {
   "cell_type": "code",
   "execution_count": 18,
   "id": "1ab0177b-af3b-46ff-8917-c77c7c655642",
   "metadata": {},
   "outputs": [
    {
     "data": {
      "text/plain": [
       "'lambda E, Y, U, M, O: (1*U+10*O+100*Y) == (1*E+10*M)**2'"
      ]
     },
     "execution_count": 18,
     "metadata": {},
     "output_type": "execute_result"
    }
   ],
   "source": [
    "f = f'lambda {parms}: {body}'\n",
    "f"
   ]
  },
  {
   "cell_type": "markdown",
   "id": "adc3f671-67c4-47fb-b606-4b78b8a7e99c",
   "metadata": {},
   "source": [
    "The formula is thne passed to `eval()` and the result is returned together with `letters`.\n",
    "\n",
    "Putting everything together, this is what the `compile_formula()` function looks like."
   ]
  },
  {
   "cell_type": "code",
   "execution_count": 19,
   "id": "23bc0a15-ed5d-40f6-8f51-ed52f7946589",
   "metadata": {},
   "outputs": [],
   "source": [
    "def compile_formula(formula, verbose=False):\n",
    "    \"\"\"Compile formula into a function. Also return letters found, as a str,\n",
    "    in same order as parms of function. The first digit of a multi-digit \n",
    "    number can't be 0. So if YOU is a word in the formula, and the function\n",
    "    is called with Y eqal to 0, the function should return False.\"\"\"\n",
    "\n",
    "    # modify the code in this function.\n",
    "\n",
    "    letters = ''.join(set(re.findall('[A-Z]', formula)))\n",
    "    parms = ', '.join(letters)\n",
    "    tokens = map(compile_word, re.split('([A-Z]+)', formula))\n",
    "    body = ''.join(tokens)\n",
    "    f = 'lambda %s: %s' % (parms, body)\n",
    "    if verbose:\n",
    "        print(f)\n",
    "    return eval(f), letters"
   ]
  },
  {
   "cell_type": "markdown",
   "id": "535acc79-2416-43ab-8064-543583706873",
   "metadata": {},
   "source": [
    "Let's see how this function works on the 'YOU == ME**2' example."
   ]
  },
  {
   "cell_type": "code",
   "execution_count": 20,
   "id": "32fe533c-9188-40f6-bffd-cfb645827766",
   "metadata": {},
   "outputs": [
    {
     "name": "stdout",
     "output_type": "stream",
     "text": [
      "lambda E, Y, U, M, O: (1*U+10*O+100*Y) == (1*E+10*M)**2\n"
     ]
    },
    {
     "data": {
      "text/plain": [
       "function"
      ]
     },
     "execution_count": 20,
     "metadata": {},
     "output_type": "execute_result"
    }
   ],
   "source": [
    "formula = 'YOU == ME**2'\n",
    "f, letters = compile_formula(formula, verbose=True)\n",
    "type(f)"
   ]
  },
  {
   "cell_type": "markdown",
   "id": "89156050-eb43-4631-87f9-666d8f1862f4",
   "metadata": {},
   "source": [
    "So, `compile_formula()` takes an unfilled equation, parses it and builds an expression representing a callable (the lambda), and returns the callable that is then bound to a name in `faster_solve()` and called repeatedly. This is what makes it easy to call `eval()` only once."
   ]
  },
  {
   "cell_type": "code",
   "execution_count": 21,
   "id": "e163d670-cf1b-47ce-988a-aa9a436f42ec",
   "metadata": {},
   "outputs": [],
   "source": [
    "def test_faster_crypto(examples):\n",
    "    for n, example in enumerate(examples):\n",
    "        print(f'{n}: {example} ==> {faster_solve(example)}')"
   ]
  },
  {
   "cell_type": "code",
   "execution_count": 22,
   "id": "ab406ed0-3b68-4814-a881-450b3c20ddd1",
   "metadata": {},
   "outputs": [
    {
     "name": "stdout",
     "output_type": "stream",
     "text": [
      "0: TWO + TWO == FOUR ==> 418 + 418 == 0836\n",
      "1: A**2 + B**2 == C**2 ==> 3**2 + 4**2 == 5**2\n",
      "2: A**2 + BE**2 == BY**2 ==> 9**2 + 40**2 == 41**2\n",
      "3: X/X == X ==> 1/1 == 1\n",
      "4: A**N + B**N == C**N and N > 1 ==> 3**2 + 4**2 == 5**2 and 2 > 1\n",
      "5: ATOM**0.5 == A + TO + M ==> 1296**0.5 == 1 + 29 + 6\n",
      "6: GLITTERS is not GOLD ==> 54377186 is not 5942\n",
      "7: ONE < TWO and FOUR < FIVE ==> 013 < 820 and 7049 < 7563\n",
      "8: ONE < TWO < THREE ==> 013 < 520 < 54633\n",
      "9: RAMN == R**3 + RM**3 == N**3 + RX**3 ==> 1729 == 1**3 + 12**3 == 9**3 + 10**3\n",
      "10: sum(range(AA)) == BB ==> sum(range(11)) == 55\n",
      "11: sum(range(POP)) == BOBO ==> sum(range(101)) == 5050\n",
      "12: ODD + ODD == EVEN ==> 655 + 655 == 1310\n",
      "13: PLUTO not in set([PLANETS]) ==> 36289 not in set([3651487])\n",
      " "
     ]
    },
    {
     "data": {
      "text/plain": [
       "         28229 function calls (28183 primitive calls) in 0.025 seconds\n",
       "\n",
       "   Ordered by: internal time\n",
       "\n",
       "   ncalls  tottime  percall  cumtime  percall filename:lineno(function)\n",
       "       14    0.013    0.001    0.041    0.003 1868669819.py:1(faster_solve)\n",
       "    27351    0.010    0.000    0.010    0.000 <string>:1(<lambda>)\n",
       "       14    0.001    0.000    0.001    0.000 {built-in method builtins.eval}\n",
       "      106    0.000    0.000    0.000    0.000 1580709322.py:1(compile_word)\n",
       "   102/56    0.000    0.000    0.000    0.000 {method 'join' of 'str' objects}\n",
       "       28    0.000    0.000    0.000    0.000 iostream.py:610(write)\n",
       "       46    0.000    0.000    0.000    0.000 1580709322.py:6(<listcomp>)\n",
       "       14    0.000    0.000    0.001    0.000 4106518789.py:1(compile_formula)\n",
       "       72    0.000    0.000    0.000    0.000 {built-in method builtins.sum}\n",
       "       14    0.000    0.000    0.000    0.000 {method 'findall' of 're.Pattern' objects}\n",
       "        1    0.000    0.000    0.042    0.042 2766598025.py:1(test_faster_crypto)\n",
       "       28    0.000    0.000    0.000    0.000 __init__.py:272(_compile)\n",
       "        1    0.000    0.000    0.042    0.042 {built-in method builtins.exec}\n",
       "       14    0.000    0.000    0.000    0.000 {method 'split' of 're.Pattern' objects}\n",
       "       14    0.000    0.000    0.000    0.000 {built-in method builtins.print}\n",
       "       14    0.000    0.000    0.000    0.000 {method 'translate' of 'str' objects}\n",
       "       28    0.000    0.000    0.000    0.000 {built-in method posix.getpid}\n",
       "       28    0.000    0.000    0.000    0.000 iostream.py:505(_is_master_process)\n",
       "       56    0.000    0.000    0.000    0.000 {built-in method builtins.isinstance}\n",
       "       14    0.000    0.000    0.000    0.000 __init__.py:208(findall)\n",
       "      106    0.000    0.000    0.000    0.000 {method 'isupper' of 'str' objects}\n",
       "        1    0.000    0.000    0.000    0.000 socket.py:621(send)\n",
       "       14    0.000    0.000    0.000    0.000 __init__.py:198(split)\n",
       "       14    0.000    0.000    0.000    0.000 {built-in method maketrans}\n",
       "       28    0.000    0.000    0.000    0.000 iostream.py:532(_schedule_flush)\n",
       "       42    0.000    0.000    0.000    0.000 {built-in method builtins.len}\n",
       "        1    0.000    0.000    0.000    0.000 iostream.py:243(schedule)\n",
       "       28    0.000    0.000    0.000    0.000 {method 'write' of '_io.StringIO' objects}\n",
       "       28    0.000    0.000    0.000    0.000 {method '__exit__' of '_thread.RLock' objects}\n",
       "        1    0.000    0.000    0.000    0.000 threading.py:1185(is_alive)\n",
       "        1    0.000    0.000    0.042    0.042 <string>:1(<module>)\n",
       "        1    0.000    0.000    0.000    0.000 threading.py:1118(_wait_for_tstate_lock)\n",
       "        1    0.000    0.000    0.000    0.000 iostream.py:127(_event_pipe)\n",
       "        1    0.000    0.000    0.000    0.000 {method 'acquire' of '_thread.lock' objects}\n",
       "        1    0.000    0.000    0.000    0.000 threading.py:568(is_set)\n",
       "        1    0.000    0.000    0.000    0.000 {method 'disable' of '_lsprof.Profiler' objects}\n",
       "        1    0.000    0.000    0.000    0.000 {method 'append' of 'collections.deque' objects}"
      ]
     },
     "metadata": {},
     "output_type": "display_data"
    }
   ],
   "source": [
    "%prun test_faster_crypto(examples)"
   ]
  },
  {
   "cell_type": "markdown",
   "id": "dfb319da-10df-47f8-9882-7e142cbdb4aa",
   "metadata": {},
   "source": [
    "## Recap\n",
    "\n",
    "In this lesson we saw:\n",
    "\n",
    "- List comprehensions.\n",
    "- Generator expressions.\n",
    "- Generator functions -> useful because you don't have to compute all possible values upfront, as is the case for a list comprehension.\n",
    "- We handled different types (polymorphism). We saw an example in `timedcalls()` where `n` could be an int or a float.\n",
    "- We saw the `eval()` function that can evaluate to an object or to a function.\n",
    "- We did timing with the `time` builtin module and with our own function.\n",
    "- We used function attributes (without saying it explicitly. Find more information on this).\n",
    "\n",
    "## Problem Set 1 - No Leading Zeros Solutions\n",
    "\n",
    "The problem asks to modify `compile_formula()` such that it does not allow the first digit of a multi-digit number to be zero. In the `src` folder there is my solution, but below I am showing Norvig's, which is cleaner, if still based on the old string formatting style. I used a simple list comprehension but, again, the approach based on REs is simpler and probably faster."
   ]
  },
  {
   "cell_type": "code",
   "execution_count": 29,
   "id": "ca08572e-a069-4df1-8453-f48093d42c01",
   "metadata": {},
   "outputs": [
    {
     "name": "stdout",
     "output_type": "stream",
     "text": [
      "lambda E, Y, U, M, O: Y!=0 and M!=0 and ((1*U+10*O+100*Y) == (1*E+10*M)**2)\n",
      "576 == 24**2\n"
     ]
    }
   ],
   "source": [
    "def compile_formula(formula, verbose=False):\n",
    "    \"\"\"Compile formula into a function. Also return letters found, as a str,\n",
    "    in same order as parms of function. The first digit of a multi-digit \n",
    "    number can't be 0. So if YOU is a word in the formula, and the function\n",
    "    is called with Y eqal to 0, the function should return False.\"\"\"\n",
    "\n",
    "    letters = ''.join(set(re.findall('[A-Z]', formula)))\n",
    "    firstletters = set(re.findall(r'\\b([A-Z])[A-Z]', formula))\n",
    "    parms = ', '.join(letters)\n",
    "    tokens = map(compile_word, re.split('([A-Z]+)', formula))\n",
    "    body = ''.join(tokens)\n",
    "    if firstletters:\n",
    "        tests = ' and '.join(fl + '!=0' for fl in firstletters)\n",
    "        body = '%s and (%s)' % (tests, body)\n",
    "    f = 'lambda %s: %s' % (parms, body)\n",
    "    if verbose:\n",
    "        print(f)\n",
    "    return eval(f), letters\n",
    "\n",
    "compile_formula(formula, verbose=True)\n",
    "print(faster_solve(formula))\n",
    "assert faster_solve('X / X == X') == '1 / 1 == 1'"
   ]
  }
 ],
 "metadata": {
  "kernelspec": {
   "display_name": "Python 3 (ipykernel)",
   "language": "python",
   "name": "python3"
  },
  "language_info": {
   "codemirror_mode": {
    "name": "ipython",
    "version": 3
   },
   "file_extension": ".py",
   "mimetype": "text/x-python",
   "name": "python",
   "nbconvert_exporter": "python",
   "pygments_lexer": "ipython3",
   "version": "3.11.5"
  }
 },
 "nbformat": 4,
 "nbformat_minor": 5
}
