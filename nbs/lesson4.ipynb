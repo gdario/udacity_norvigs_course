{
 "cells": [
  {
   "cell_type": "markdown",
   "id": "4bb924ee-bc54-44fb-871e-04087fa92d31",
   "metadata": {},
   "source": [
    "# Lesson 4\n",
    "\n",
    "This unit is about solving problems where the solution can be expressed as a sequence of steps. The unit starts at [video 229](https://www.youtube.com/watch?v=q6M_pco_5Vo&list=PLAwxTw4SYaPnJVtPvZZ5zXj_wRBjH0FxX&index=229&pp=iAQB).\n",
    "\n",
    "## The Pouring Problem\n",
    "\n",
    "We have two glasses that can contain 9 and 4 oz of water respectively, and we have a faucet and a sink where we can refill or empty either glass. The final goal is to have exactly 6 oz of water in the larger glass. The small one can contain any amount.\n",
    "\n",
    "There are 6 possible actions:\n",
    "\n",
    "1. Pouring from glass X to glass Y.\n",
    "2. Pouring from glass Y to glass X.\n",
    "3. Filling glass X.\n",
    "4. Filling glass Y.\n",
    "5. Emptying glass X.\n",
    "6. Emptying glass Y.\n",
    "\n",
    "There are two ways to transfer from X to Y and vice-versa. We can pour from X to Y until\n",
    "\n",
    "1. Y is full.\n",
    "2. X is empty. \n",
    "\n",
    "### Inventory of Concepts\n",
    "\n",
    "1. Collection of glasses (we start with two but we can generalize).\n",
    "2. Total capacity of glass Z (Z $\\in$ {X, Y}).\n",
    "3. Current water level in glass Z.\n",
    "4. Our goal (6 oz in the large glass).\n",
    "5. The six pouring actions.\n",
    "6. A notion of a _solution_. For us, a solution is a sequence of steps from the initial to the goal configuration.\n",
    "\n",
    "The collection of glasses and their current level provides a complete description of the current state of the world.\n",
    "\n",
    "### Combinatorial Complexity\n",
    "\n",
    "For each state of the world there are approximately six possible actions (not all possible at all times). If the solution requires $n$ steps, there are in the order of $n^6$ possible configurations. However we don't know in advance the value of $n$, so the actual complexity of the problem is not known in advance. These are examples of **combinatorial optimization** but we will refer to them as **search** problems.\n",
    "\n",
    "### Exploring the Space\n",
    "\n",
    "Our solution is a collection of states, where X = 6 and Y can be anything between 0 and 4 inclusive. At any given step of the exploration, the farthest states we have explored represent the **frontier**. We can then distinguish three sets of states.\n",
    "\n",
    "1. The goal state(s).\n",
    "2. The explored states that represent the frontier.\n",
    "3. The explored states that are not in the frontier.\n",
    "\n",
    "To find a solution, we keep expanding the frontier until it overlaps one of the solution states. In this kind of problems there are two sitations we want to be able to deal with:\n",
    "\n",
    "1. When there is no path from the frontier to the solution.\n",
    "2. If there is a path, we want to be able to find it efficiently, and we want to avoid ending in an infinite loop.\n",
    "\n",
    "If there is a finite number of states, and if there is a path from the start configuration to the solution, we should be able to find it. We want a strategy, i.e., criteria to decide which states we will explore next.\n",
    "\n",
    "We define **successors** the set of states you can reach from a given state, and the steps needed to get to those states.\n",
    "\n",
    "We use `X` and `Y` to indicate the total capacity of the glasses and `x` and `y` to indicate their current level. We represent our paths as lists containing an alternation of states and actions: `[state, action, state, ...]`. The frontier is technically a set of states, but we represent it as a list of _paths_. If no solution is found, we return an empty list (for consistency with the success case).\n",
    "\n",
    "### MY QUESTIONS\n",
    "\n",
    "Q.: Why do we need `new_path`? Can't we just append to `path`?\n",
    "A.: No, we cannot. If we did, this would happen: let's consider the case where line 19 returns $k$ states with $k > 1$, none of which is in `explored` yet. We update `path = path + [action, state]` and we append it to the frontier. We then consider the next successor, and we do the same thing. This would append the new `[action, state]` pair to the one we appended in the previous step, which is clearly wrong.\n",
    "\n",
    "### Solution\n",
    "\n",
    "The `successors` function returns a dictionary of `state: action` pairs."
   ]
  },
  {
   "cell_type": "code",
   "execution_count": 1,
   "id": "84551a1c-c254-465f-84cd-d5d3d249bf22",
   "metadata": {},
   "outputs": [],
   "source": [
    "def successors(x, y, X, Y):\n",
    "    \"\"\"Return a dict of {state: action} pairs describing what can be reached\n",
    "    from the (x, y) state and how.\"\"\"\n",
    "    assert x <= X and y <= Y  # (x, y) is glass levels; X and Y are glass sizes\n",
    "    return {\n",
    "        ((0, y + x) if y + x <= Y else (x - (Y - y), y + (Y - y))): \"X -> Y\",\n",
    "        ((x + y, 0) if x + y <= X else (x + (X - x), y - (X - x))): \"X <- Y\",\n",
    "        (X, y): \"fill X\",\n",
    "        (x, Y): \"fill Y\",\n",
    "        (0, y): \"empty X\",\n",
    "        (x, 0): \"empty Y\",\n",
    "    }"
   ]
  },
  {
   "cell_type": "markdown",
   "id": "aa988085",
   "metadata": {},
   "source": [
    "The `pour_problem()` function takes the full capacities of the two containers, the goal, the start configuration, and returns a list of state, action pairs."
   ]
  },
  {
   "cell_type": "code",
   "execution_count": 2,
   "id": "9e554e6d-038a-4cdb-97ab-02824e223065",
   "metadata": {},
   "outputs": [],
   "source": [
    "from collections import deque\n",
    "\n",
    "Fail = []\n",
    "\n",
    "def pour_problem(X, Y, goal, start=(0, 0)):\n",
    "    \"\"\"X and Y are the capacity of glasses; (x, y) is current fill levels\n",
    "    and represents a state. The goal is a level that can be in either glass.\n",
    "    Start at start state and follow successors until we reach the goal.\n",
    "    Keep track of frontier and previously explored; fail when no frontier.\"\"\"\n",
    "    if goal in start:\n",
    "        return [start]  # The trivial path.\n",
    "    explored = set()  # set of states we have visited\n",
    "    # A path is a list [state, action, state, ...]. A frontier is a list of paths.\n",
    "    frontier = deque([[start]])  # ordered list of paths we have blazed\n",
    "    while frontier:\n",
    "        path = frontier.popleft()\n",
    "        # The last element of a path is the last visited state.\n",
    "        (x, y) = path[-1]  # Last state in the first path of the frontier\n",
    "        for state, action in successors(x, y, X, Y).items():\n",
    "            # If the state is in explored do nothing.\n",
    "            if state not in explored:\n",
    "                explored.add(state)\n",
    "                path2 = path + [action, state]\n",
    "                if goal in state:\n",
    "                    return path2\n",
    "                else:\n",
    "                    frontier.append(path2)\n",
    "    return Fail"
   ]
  },
  {
   "cell_type": "code",
   "execution_count": 3,
   "id": "e50d7300-159d-4ccb-b5ee-bbcaf96b2762",
   "metadata": {},
   "outputs": [
    {
     "data": {
      "text/plain": [
       "[(9, 4),\n",
       " 'empty Y',\n",
       " (9, 0),\n",
       " 'X -> Y',\n",
       " (5, 4),\n",
       " 'empty Y',\n",
       " (5, 0),\n",
       " 'X -> Y',\n",
       " (1, 4),\n",
       " 'empty Y',\n",
       " (1, 0),\n",
       " 'X -> Y',\n",
       " (0, 1),\n",
       " 'fill X',\n",
       " (9, 1),\n",
       " 'X -> Y',\n",
       " (6, 4)]"
      ]
     },
     "execution_count": 3,
     "metadata": {},
     "output_type": "execute_result"
    }
   ],
   "source": [
    "pour_problem(9, 4, 6, (9, 4))"
   ]
  },
  {
   "cell_type": "markdown",
   "id": "5785960a",
   "metadata": {},
   "source": [
    "[Video 235](https://www.youtube.com/watch?v=i46-urAXvPU&list=PLAwxTw4SYaPnJVtPvZZ5zXj_wRBjH0FxX&index=235) describes the use of doctests, which are a convenient way to test our code. Norvig calls them via `print(doctest.testmod())`. **TODO** review video 235.\n",
    "\n",
    "## The Bridge Problem\n",
    "\n",
    "This is the problem where there are four people on one side of the bridge (`here`) and they want to cross. People can only cross one or two at a time.\n",
    "\n",
    "1. Person.\n",
    "2. A collection of people. Two actually:\n",
    "    - A collection of people on the `here` side.\n",
    "    - A collection of people on the `there` side.\n",
    "3. The light.\n",
    "4. The concepts of states and paths we have seen before.\n",
    "\n",
    "How about the representaiton? We can represent the four people by the number of minutes it takes them to cross the bridge. For a collection of people we have various choices:\n",
    "\n",
    "- Tuple.\n",
    "- List.\n",
    "- Set.\n",
    "- Frozenset.\n",
    "\n",
    "Which ones would be well suited? The representation should be hashable. Why? Because if we want to use the same methods as in the pour problem, we are going to use a `explored` set, and sets must contain hashable objects.\n",
    "\n",
    "Tuples and frozensets are hashable. Sets and lists are not hashable. Note that sets, like lists, are pass-by-reference data structures."
   ]
  },
  {
   "cell_type": "code",
   "execution_count": 4,
   "id": "c8c12427-3866-498a-923a-9a487f361dcb",
   "metadata": {},
   "outputs": [
    {
     "name": "stdout",
     "output_type": "stream",
     "text": [
      "{20, 30}\n"
     ]
    }
   ],
   "source": [
    "s1 = set([10, 20, 30])\n",
    "s2 = s1\n",
    "s1.pop()\n",
    "print(s2)\n",
    "del s1, s2"
   ]
  },
  {
   "cell_type": "markdown",
   "id": "2a8f38a8",
   "metadata": {},
   "source": [
    "All four of the above representations would be fine, but only tuples and frozensets are hashable. Norvig opts for a representation of a state as `(here, there, t)` where `here` represents everything on this side, `there` is everything on the other side, and `t` is the total elapsed time. `here` and `there` will be represented as frozensets. We include the flashlight in the frozenset as the string `'light'`. At the beginning,`here` is the frozenset `{1, 2, 5, 10, 'light'}` and `there` is the empty frozenset.\n",
    "\n",
    "What are the successors of the initial state? At the end of the first step the light will go from `here` to `there`, with at least one person. All combinations of sending 1 or 2 people to the other side are acceptable. There are ${4 \\choose 2} = 6$ choices for 2 people and 4 for one person, for a total of 10.\n",
    "\n",
    "### Exercise: write `successors` for the bridge problem\n",
    "\n",
    "`successors()` takes a state and returns a dictionary of state, action pairs. A state is a tuple `(here, there, t)`. `here` and `there` are frozensets. `t` is an integer. For example, if the initia state is\n",
    "\n",
    "```pyhon\n",
    "here = frozenset({1, 2, 5, 10, 'light'})\n",
    "there = frozenset({})\n",
    "```\n",
    "\n",
    "There are 10 possible action, corresponding to 1 or 2 people crossing the bridge with the light. The resulting state is one or two people and the flashlight who were `here` moving to `there`. Only the side with the flashlight can take an action, so the first step is determining where the flashlight is. The code below contains my implementations of `successors()`."
   ]
  },
  {
   "cell_type": "code",
   "execution_count": 5,
   "id": "1537a4e6",
   "metadata": {},
   "outputs": [
    {
     "name": "stdout",
     "output_type": "stream",
     "text": [
      "{(frozenset({2, 10, 5}), frozenset({1, 'light'}), 1): '->',\n",
      " (frozenset({1, 10, 5}), frozenset({2, 'light'}), 2): '->',\n",
      " (frozenset({1, 2, 5}), frozenset({10, 'light'}), 10): '->',\n",
      " (frozenset({1, 2, 10}), frozenset({'light', 5}), 5): '->',\n",
      " (frozenset({5, 10}), frozenset({1, 2, 'light'}), 2): '->',\n",
      " (frozenset({2, 5}), frozenset({1, 10, 'light'}), 10): '->',\n",
      " (frozenset({2, 10}), frozenset({1, 'light', 5}), 5): '->',\n",
      " (frozenset({1, 5}), frozenset({2, 10, 'light'}), 10): '->',\n",
      " (frozenset({1, 10}), frozenset({2, 5, 'light'}), 5): '->',\n",
      " (frozenset({1, 2}), frozenset({10, 5, 'light'}), 10): '->'}\n"
     ]
    }
   ],
   "source": [
    "import itertools as it\n",
    "from pprint import pprint\n",
    "\n",
    "def my_bsuccessors(state):\n",
    "    \"\"\"Return a dict of {state: action} pairs. A state is a (here, there, t)\n",
    "    tuple, where here and there are frozensets of people (indicated by their\n",
    "    times) and/or the 'light', and t is a number indicating the elapsed time.\n",
    "    Action is represented by '->' for here to there and '<-' for there to\n",
    "    here.\"\"\"\n",
    "    here, there, t = state\n",
    "\n",
    "    # If light in here send someone. If light in there someone comes back\n",
    "    # state includes the total elapsed time.\n",
    "    # Example: here = frozenset(1, 2, 5, 10, 'light'), there = frozenset()\n",
    "    # state = (here, there, 0)\n",
    "    # We may want to consider cases where 1 or 2 people cross the bridge.\n",
    "    if 'light' in here:\n",
    "        action = '->'\n",
    "        fro, to = here, there\n",
    "    else:\n",
    "        action = '<-'\n",
    "        fro, to = there, here\n",
    "\n",
    "    fro = fro.difference({'light'})\n",
    "    # Options are sending 1 or 2 people to the other side\n",
    "    options = it.chain(it.combinations(fro, 1), it.combinations(fro, 2))\n",
    "    if action == '->':\n",
    "        return {(fro.difference(x), to.union(x).union({'light'}),\n",
    "                 t + max(x)): action for x in options}\n",
    "    else:\n",
    "        return {(to.union(x).union({'light'}), fro.difference(x),\n",
    "                 t + max(x)): action for x in options}\n",
    "\n",
    "initial_state = (frozenset({1, 2, 5, 10, 'light'}), frozenset(), 0)\n",
    "pprint(my_bsuccessors(initial_state))"
   ]
  },
  {
   "cell_type": "markdown",
   "id": "ff1ddc27",
   "metadata": {},
   "source": [
    "The one below, is the solution from Norvig. He is not too happy with the initial choice of the representation. In particular he thinks that the including the flashlight with the people was not an optimal choice. Maybe it would be better to represent the state as `(here, there, t, light)` where `here` and `there` are frozensets containing people only, and `light` can be a binary/boolean variable indicating whether the flashlight is \"here\" or \"there\". Still, the choice wasn't so bad as to require a rewrite. Note a couple of things:\n",
    "\n",
    "1. Actions are not represented as described in the problem specification. Norvig has added information on who crosses.\n",
    "2. the `for a in here... for b in here` is pretty nice, as it also covers the case when only one person crosses, without the need for using `itertools.combinations()`."
   ]
  },
  {
   "cell_type": "code",
   "execution_count": 6,
   "id": "e2ef7d48",
   "metadata": {},
   "outputs": [
    {
     "name": "stdout",
     "output_type": "stream",
     "text": [
      "{(frozenset({10, 5}), frozenset({1, 2, 'light'}), 2): (2, 1, '->'),\n",
      " (frozenset({2, 10}), frozenset({1, 'light', 5}), 5): (5, 1, '->'),\n",
      " (frozenset({2, 5}), frozenset({1, 10, 'light'}), 10): (10, 1, '->'),\n",
      " (frozenset({2, 10, 5}), frozenset({1, 'light'}), 1): (1, 1, '->'),\n",
      " (frozenset({1, 10}), frozenset({2, 5, 'light'}), 5): (5, 2, '->'),\n",
      " (frozenset({1, 5}), frozenset({2, 10, 'light'}), 10): (10, 2, '->'),\n",
      " (frozenset({1, 10, 5}), frozenset({2, 'light'}), 2): (2, 2, '->'),\n",
      " (frozenset({1, 2}), frozenset({10, 5, 'light'}), 10): (10, 5, '->'),\n",
      " (frozenset({1, 2, 10}), frozenset({'light', 5}), 5): (5, 5, '->'),\n",
      " (frozenset({1, 2, 5}), frozenset({10, 'light'}), 10): (10, 10, '->')}\n"
     ]
    }
   ],
   "source": [
    "def bsuccessors(state):\n",
    "    \"\"\"Return a dict of {state: action} pairs. A state is a (here, there, t)\n",
    "    tuple, where here and there are frozensets of people (indicated by their\n",
    "    times) and/or the 'light', and t is a number indicating the elapsed time.\n",
    "    Action is represented by '->' for here to there and '<-' for there to\n",
    "    here.\"\"\"\n",
    "    here, there, t = state\n",
    "    if 'light' in here:\n",
    "        return dict(((here - frozenset([a, b, 'light']),\n",
    "                      there | frozenset([a, b, 'light']),\n",
    "                      t + max(a, b)),\n",
    "                      (a, b, '->'))\n",
    "                      for a in here if a != 'light'\n",
    "                      for b in here if b != 'light')\n",
    "    else:\n",
    "        return dict(((here | frozenset([a, b, 'light']),\n",
    "                      there - frozenset([a, b, 'light']),\n",
    "                      t + max(a, b)),\n",
    "                      (a, b, '<-'))\n",
    "                      for a in there if a != 'light'\n",
    "                      for b in there if b != 'light')\n",
    "            \n",
    "pprint(bsuccessors(initial_state))"
   ]
  },
  {
   "cell_type": "markdown",
   "id": "9d66018a",
   "metadata": {},
   "source": [
    "We define a couple of utility functions: `path_states()` and `path_actions` which take a path and return, respectively, a list of states and a list of actions. Remember that a path is a list of the form\n",
    "\n",
    "`[state, action, state, action, state, ....]`\n",
    "\n",
    "Therefore we just need to return every second element starting from the first and second positions respectively."
   ]
  },
  {
   "cell_type": "code",
   "execution_count": 7,
   "id": "6a145f42",
   "metadata": {},
   "outputs": [],
   "source": [
    "def path_states(path):\n",
    "    \"Return a list of states in this path.\"\n",
    "    return path[0::2]\n",
    "\n",
    "def path_actions(path):\n",
    "    \"Return a list of actions in this path.\"\n",
    "    return path[1::2]"
   ]
  },
  {
   "cell_type": "markdown",
   "id": "04e60f1e",
   "metadata": {},
   "source": [
    "This is the solution to the bridge problem. The main difference in in the use of `frontier.sort(key=elapsed_time)`. In the pouring problem, the best solution was the shortest (in terms of length of the path). Here the best solution is the one that takes the shortest time. We always want to have the frontier sorted, so that we take the fastest time first."
   ]
  },
  {
   "cell_type": "code",
   "execution_count": 8,
   "id": "603ed147",
   "metadata": {},
   "outputs": [
    {
     "name": "stdout",
     "output_type": "stream",
     "text": [
      "[(frozenset({1, 2, 'light', 5, 10}), frozenset(), 0),\n",
      " (2, 1, '->'),\n",
      " (frozenset({10, 5}), frozenset({1, 2, 'light'}), 2),\n",
      " (1, 1, '<-'),\n",
      " (frozenset({1, 10, 5, 'light'}), frozenset({2}), 3),\n",
      " (5, 1, '->'),\n",
      " (frozenset({10}), frozenset({1, 2, 5, 'light'}), 8),\n",
      " (1, 1, '<-'),\n",
      " (frozenset({1, 10, 'light'}), frozenset({2, 5}), 9),\n",
      " (10, 1, '->'),\n",
      " (frozenset(), frozenset({1, 2, 'light', 5, 10}), 19)]\n"
     ]
    }
   ],
   "source": [
    "def bridge_problem(here):\n",
    "    # If light is not already in `here`, add it, and convert to frozenset.\n",
    "    here = frozenset(here) | frozenset(['light'])\n",
    "    explored = set() # set of states we have visited\n",
    "    # State will be a (people-here, people-there, time-elapsed) tuple\n",
    "    # The frontier starts being the initial state.\n",
    "    frontier = [[(here, frozenset(), 0)]] # ordered list of paths we have blazed\n",
    "    # If there's nobody here, we are already done.\n",
    "    if not here:\n",
    "        return frontier[0]\n",
    "    while frontier:\n",
    "        path = frontier.pop(0)\n",
    "        for (state, action) in bsuccessors(path[-1]).items():\n",
    "            if state not in explored:\n",
    "                here, there, t = state\n",
    "                explored.add(state)\n",
    "                path2 = path + [action, state]\n",
    "                if not here: # That is, nobody left here\n",
    "                    return path2\n",
    "                else:\n",
    "                    frontier.append(path2)\n",
    "                    frontier.sort(key=elapsed_time)\n",
    "    return []\n",
    "\n",
    "def elapsed_time(path):\n",
    "    return path[-1][2]\n",
    "\n",
    "pprint(bridge_problem([1, 2, 5, 10]))"
   ]
  },
  {
   "cell_type": "markdown",
   "id": "5caea09e",
   "metadata": {},
   "source": [
    "The program runs and returns an answer, but unfortunately it is the wrong one. `my_bsuccessors()` returns the same answer, so the problem does not seem to be in the identification of the successors.\n",
    "\n",
    "The problem is that when we build the frontier we sort it by the elapsed time. This means that we always pop the path with the lowest time first. If we find a suitable solution, we stop there. However it can (and does) happen that at step $k$ a path takes longer than the fastest one, but at step $k+1$, when we add the next node to the frontier, it becomes the faster.\n",
    "\n",
    "To avoid getting a sub-optimal solution, we need to look at all solutions, and select the best one, instead of greedily going for the first one. We can imagine three approaches:\n",
    "\n",
    "1. We exhaust the frontier: even if we find a solution from the frontier, we keep going, we visit every node on the frontier, and give each of them a chance.\n",
    "2. Once we find a solution, every state on the frontier gets one more step.\n",
    "3. We check later, i.e., when we find a solution, we don't immediately check whether it is a solution, but rather we go ahead and throw it onto the frontier and we only check whether this is a solution when we pull the next element off from the frontier.\n",
    "\n",
    "Exhausting the frontier won't work, because it may be infinite (not in this problem, though).\n",
    "Doing one step won't always work either, as in some cases the best solution may require two steps.\n",
    "Testing later does work, because now everyone on the frontier is guaranteed to be sorted. When we next pull from the frontier, if the pulled path is a goal, it will be the fastest path."
   ]
  },
  {
   "cell_type": "code",
   "execution_count": 9,
   "id": "14b7342b",
   "metadata": {},
   "outputs": [
    {
     "name": "stdout",
     "output_type": "stream",
     "text": [
      "[(frozenset({1, 2, 'light', 5, 10}), frozenset(), 0),\n",
      " (2, 1, '->'),\n",
      " (frozenset({10, 5}), frozenset({1, 2, 'light'}), 2),\n",
      " (1, 1, '<-'),\n",
      " (frozenset({1, 10, 5, 'light'}), frozenset({2}), 3),\n",
      " (5, 10, '->'),\n",
      " (frozenset({1}), frozenset({2, 10, 5, 'light'}), 13),\n",
      " (2, 2, '<-'),\n",
      " (frozenset({1, 2, 'light'}), frozenset({10, 5}), 15),\n",
      " (2, 1, '->'),\n",
      " (frozenset(), frozenset({1, 2, 'light', 5, 10}), 17)]\n"
     ]
    }
   ],
   "source": [
    "def bridge_problem(here):\n",
    "    # If light is not already in `here`, add it, and convert to frozenset.\n",
    "    here = frozenset(here) | frozenset(['light'])\n",
    "    explored = set() # set of states we have visited\n",
    "    # State will be a (people-here, people-there, time-elapsed) tuple\n",
    "    # The frontier starts being the initial state.\n",
    "    frontier = [[(here, frozenset(), 0)]] # ordered list of paths we have blazed\n",
    "    # If there's nobody here, we are already done.\n",
    "    if not here:\n",
    "        return frontier[0]\n",
    "    while frontier:\n",
    "        path = frontier.pop(0)\n",
    "        here1, there1, t1 = state1 = path[-1]\n",
    "        if not here1 or here1 == set(['light']):\n",
    "            return path\n",
    "        for (state, action) in bsuccessors(path[-1]).items():\n",
    "            if state not in explored:\n",
    "                here, there, t = state\n",
    "                explored.add(state)\n",
    "                path2 = path + [action, state]\n",
    "                frontier.append(path2)\n",
    "                frontier.sort(key=elapsed_time)\n",
    "    return []\n",
    "\n",
    "def elapsed_time(path):\n",
    "    return path[-1][2]\n",
    "\n",
    "pprint(bridge_problem([1, 2, 5, 10]))"
   ]
  },
  {
   "cell_type": "markdown",
   "id": "08e91a2f",
   "metadata": {},
   "source": [
    "### Refactoring paths\n",
    "\n",
    "[Video 254](https://www.youtube.com/watch?v=NHyG_ywFVzw&list=PLAwxTw4SYaPnJVtPvZZ5zXj_wRBjH0FxX&index=254). We can have two states with identical `here` and `there` but different `t`. Why can this be a problem? Consider the case where we have only two people, one takes 1 and the other takes 1000. If 1 goes back and forth, we will cycle between the same two states (when 1 and 1000 are both \"here\", and when 1000 is \"here\" and 1 is \"there\"). At each step `t` changes, therefore, these are all seen as different states. We should get `t` out of the state tuple, and represent the state just as `(here, there)` storing `t` somewhere else. One possibility is to represent paths as `[state, (action, tot_time), ...]`. Let's write a new version of the `bsuccessors()` function."
   ]
  },
  {
   "cell_type": "code",
   "execution_count": 10,
   "id": "84f6cf2b-100e-4e46-aad5-edfb6599f278",
   "metadata": {},
   "outputs": [
    {
     "name": "stdout",
     "output_type": "stream",
     "text": [
      "{(frozenset({4, 5}), frozenset({1, 2, 'light'})): (2, 1, '->'),\n",
      " (frozenset({2, 5}), frozenset({1, 'light', 4})): (4, 1, '->'),\n",
      " (frozenset({2, 4}), frozenset({1, 'light', 5})): (5, 1, '->'),\n",
      " (frozenset({2, 4, 5}), frozenset({1, 'light'})): (1, 1, '->'),\n",
      " (frozenset({1, 5}), frozenset({2, 4, 'light'})): (4, 2, '->'),\n",
      " (frozenset({1, 4}), frozenset({2, 5, 'light'})): (5, 2, '->'),\n",
      " (frozenset({1, 4, 5}), frozenset({2, 'light'})): (2, 2, '->'),\n",
      " (frozenset({1, 2}), frozenset({'light', 4, 5})): (5, 4, '->'),\n",
      " (frozenset({1, 2, 5}), frozenset({'light', 4})): (4, 4, '->'),\n",
      " (frozenset({1, 2, 4}), frozenset({'light', 5})): (5, 5, '->')}\n"
     ]
    }
   ],
   "source": [
    "def bsuccessors2(state):\n",
    "    \"\"\"Return a dict of {state: action} pairs. A state is a (here, there)\n",
    "    tuple, where here and there are frozensets of people (indicated by their\n",
    "    times) and/or the light.\"\"\"\n",
    "    here, there = state\n",
    "    if 'light' in here:\n",
    "        return dict(((here - frozenset([a, b, 'light']),\n",
    "                      there | frozenset([a, b, 'light'])), \n",
    "                    (a, b, '->'))\n",
    "                    for a in here if a != 'light'\n",
    "                    for b in here if b != 'light')\n",
    "    else:\n",
    "        return dict(((here | frozenset([a, b, 'light']),\n",
    "                      there | frozenset([a, b, 'light'])),\n",
    "                     (a, b, '<-'))\n",
    "                    for a in there if a != 'light'\n",
    "                    for b in there if b != 'light')\n",
    "\n",
    "pprint(bsuccessors2((frozenset([1, 2, 4, 5, 'light']), frozenset())))"
   ]
  },
  {
   "cell_type": "markdown",
   "id": "cb512f6c-60b0-4c91-a2e2-0aef004bb4e7",
   "metadata": {},
   "source": [
    "We have to bring time back into the picture. We may also want to consider more general forms of *cost*. We introduce two utility functions."
   ]
  },
  {
   "cell_type": "code",
   "execution_count": 11,
   "id": "5be43dab-efbf-4b4c-ae93-8b599f669631",
   "metadata": {},
   "outputs": [],
   "source": [
    "def path_cost(path):\n",
    "    \"\"\"The total cost of a path (which is stored in a tuple with the final\n",
    "    action.\"\"\"\n",
    "    # path = [state, (action, tot_cost), state, ....]\n",
    "    if len(path) < 3:\n",
    "        return 0\n",
    "    else:\n",
    "        action, total_cost = path[-2]\n",
    "        return total_cost\n",
    "\n",
    "def bcost(action):\n",
    "    \"Returns the cost (a number) of an action in the bridge problem.\"\n",
    "    # An action is an (a, b, arrow) tuple. a and b are times, arrow is\n",
    "    # a string.\n",
    "    a, b, arrow = action\n",
    "    return max(a, b)"
   ]
  },
  {
   "cell_type": "markdown",
   "id": "7fb1dfc1-2729-4432-850d-e2aba03d6e2b",
   "metadata": {},
   "source": [
    "This is Norvig's solution (he does not assign it as an exercise)."
   ]
  },
  {
   "cell_type": "code",
   "execution_count": 12,
   "id": "d5a535f7-a06a-4dc2-ad23-47821dbff32d",
   "metadata": {},
   "outputs": [],
   "source": [
    "def bridge_problem2(here):\n",
    "    here = frozenset(here) | frozenset(['light'])\n",
    "    explored = set() # set of states we have visited\n",
    "    # State will be a (peoplelight_here, peoplelight_there) tuple\n",
    "    # E.g. ({1, 2, 5, 10, 'light'}, {})\n",
    "    frontier = [[(here, frozenset())]] # ordered list of paths we have blazed\n",
    "    while frontier:\n",
    "        path = frontier.pop(0)\n",
    "        here1, there1 = state1 = final_state(path)\n",
    "        if not here1 or (len(here1) == 1 and 'light' in here1):\n",
    "            return path\n",
    "        explored.add(state1)\n",
    "        pcost = path_cost(path)\n",
    "        for (state, action) in bsuccessors2(state1).items():\n",
    "            if state not in explored:\n",
    "                # total cost is the cost of the path `pcost` plus the cost of \n",
    "                # `action`\n",
    "                total_cost = pcost + bcost(action)\n",
    "                # `state` below is the state we end up with\n",
    "                path2 = path + [(action, total_cost), state]\n",
    "                add_to_frontier(frontier, path2)\n",
    "    return Fail\n",
    "\n",
    "def final_state(path):\n",
    "    return path[-1]\n",
    "\n",
    "def add_to_frontier(frontier, path):\n",
    "    \"Add path to frontier, replacing costlier path if there is one.\"\n",
    "    # (This could be done more efficiently.)\n",
    "    # Find if there is an old path to the final stateof this path.\n",
    "    old = None\n",
    "    for i, p in enumerate(frontier):\n",
    "        if final_state(p) == final_state(path):\n",
    "            old = i\n",
    "            break\n",
    "    if old is not None and path_cost(frontier[old]) < path_cost(path):\n",
    "        return # Old path was better - do nothing\n",
    "    elif old is not None:\n",
    "        del frontier[old] # Old path was worse; delete it\n",
    "    ## Now add the new path and re-sort\n",
    "    frontier.append(path)\n",
    "    # Is the sorting part missing? Seems so TODO"
   ]
  },
  {
   "cell_type": "markdown",
   "id": "bf79f2ac-f714-4a9c-ae75-13a2c9074efc",
   "metadata": {},
   "source": [
    "Overall, this is tricky, and there are many special cases that can pop up. There are a couple of things we can do to avoid mistakes:\n",
    "\n",
    "1. Write lots of tests. We didn't for speed, but we should have written many more.\n",
    "2. Use and reuse tools. Every time we don't reuse a tool, we incerase the probability of introducing mistakes.\n",
    "\n",
    "The function we have written can only solve the bridge problem. We want to write a more general function that can solve a broad range of problems. \n",
    "\n",
    "## Missionaries and Cannibals\n",
    "\n",
    "Let's consider a classic problem as a first step towards generalization [video 260](https://www.youtube.com/watch?v=stujtjl62NY&list=PLAwxTw4SYaPnJVtPvZZ5zXj_wRBjH0FxX&index=260). We have 6 people, three of which are missionaries and 3 are cannibals. All 6 people are on one side of a river with a canoe. The goal is to get everybody over to the other side. There are 2 rules:\n",
    "\n",
    "1. At most 2 people can be in the boat.\n",
    "2. If we leave more cannibals than missionaries on either side of the river, the cannibals are going to eath the missionaries.\n",
    "\n",
    "We therefore must shuttle people back and forth in such a way that 2 never occurs. Let's start thinking of possible representations. We could use:\n",
    "\n",
    "1. One set of missionaries, one set of cannibals and a boolean for the boat, indicating the missionaries, cannibals on this side, and whether the boat is here or there.\n",
    "2. 3 integers indicating the number of missionaries, cannibals and boats on this side.\n",
    "3. 6 integers indicating the number of missionaries, cannibals and boats on either side. Let's call these numbers $m_1, m_2, c_1, c_2, b_1, b_2$.\n",
    "\n",
    "All these representations would work. To genearalize, we may be given an initial state with any number of missionaries and cannibles on either side. In this case, since we don't know the initial number, representations that assume that there are, say, $n_m$ missionaries on one side and $N_m - n_m$ on the other, where $N_m$ is the total number of missionaries, would not work. We need all the numbers, i.e., the third representation.\n",
    "\n",
    "Now we want to write a function that computes the successors for this general case. If the input state is one where the cannibals eat the missionaries, we do not return a successor, i.e., we return the empty dictionary. Norvig introduces also a couple of auxiliary functions that compute the pairwise sum and difference of states and deltas. **Make sure you fully understand them**.\n",
    "\n",
    "**TO VERIFY**: from the code below it seems that even if we have multiple boats, only one boat at a time can cross."
   ]
  },
  {
   "cell_type": "code",
   "execution_count": 13,
   "id": "39222027-231b-4d36-91a4-5af7c77712f3",
   "metadata": {},
   "outputs": [],
   "source": [
    "def csuccessors(state):\n",
    "    \"\"\"Find successors (including ones that result in dining) to this state.\n",
    "    But a state where the cannibals can dine has no successors.\"\"\"\n",
    "    m1, c1, b1, m2, c2, b2 = state\n",
    "    # N.B.: if there are no missionaries, there's nothing to eat.\n",
    "    if c1 > m1 > 0 or c2 > m2 > 0:\n",
    "        return {}\n",
    "    items = []\n",
    "    if b1 > 0:\n",
    "        items += [(sub(state, delta), a + '->')\n",
    "                  for delta, a in deltas.items()]\n",
    "    if b2 > 0:\n",
    "        items += [(add(state, delta), '<-' + a)\n",
    "                  for delta, a in deltas.items()]\n",
    "    return dict(items)\n",
    "\n",
    "deltas = {(2, 0, 1, -2, 0, -1): 'mm',\n",
    "          (0, 2, 1, 0, -2, -1): 'cc',\n",
    "          (1, 1, 1, -1, -1, -1): 'mc',\n",
    "          (1, 0, 1, -1, 0, -1): 'm',\n",
    "          (0, 1, 1, 0, -1, -1): 'c'}\n",
    "\n",
    "# IMPORTANT: note the use of zip to operate on pairs of elements from the \n",
    "# two tuples.\n",
    "def add(state, delta):\n",
    "    return tuple(x + y for x, y in zip(state, delta))\n",
    "\n",
    "def sub(state, delta):\n",
    "    return tuple(x - y for x, y in zip(state, delta))"
   ]
  },
  {
   "cell_type": "code",
   "execution_count": 14,
   "id": "52cc74e7-4501-459e-aad2-1845d0eba660",
   "metadata": {},
   "outputs": [],
   "source": [
    "def mc_problem(start=(3, 3, 1, 0, 0, 0), goal=None):\n",
    "    \"\"\"Solve the missionaries and cannibals problem.\n",
    "    State is 6 ints: (m1, c1, b1, m2, c2, b2) on the start (1) and other (2)\n",
    "    sides. Find a path that goes from the initial state to the goal state\n",
    "    (which, if not specified, is the state with no people or boats on the\n",
    "    start side.)\"\"\"\n",
    "    if goal is None:\n",
    "        goal = (0, 0, 0) + start[:3]\n",
    "    if start == goal:\n",
    "        return [start]\n",
    "    explored = set() # set of states we have visited\n",
    "    frontier = [[start]] # ordered list of paths we have blazed\n",
    "    while frontier:\n",
    "        path = frontier.pop(0)\n",
    "        s = path[-1]\n",
    "        for (state, action) in csuccessors(s).items():\n",
    "            if state not in explored:\n",
    "                explored.add(state)\n",
    "            path2 = path + [action, state]\n",
    "            if state == goal:\n",
    "                return path2\n",
    "            else:\n",
    "                frontier.append(path2)\n",
    "    return Fail"
   ]
  },
  {
   "cell_type": "code",
   "execution_count": 15,
   "id": "ee41a104-72f7-4ab0-9eb3-c2ab16d0f890",
   "metadata": {},
   "outputs": [
    {
     "ename": "KeyboardInterrupt",
     "evalue": "",
     "output_type": "error",
     "traceback": [
      "\u001b[0;31m---------------------------------------------------------------------------\u001b[0m",
      "\u001b[0;31mKeyboardInterrupt\u001b[0m                         Traceback (most recent call last)",
      "Cell \u001b[0;32mIn[15], line 1\u001b[0m\n\u001b[0;32m----> 1\u001b[0m mc_problem()\n",
      "Cell \u001b[0;32mIn[14], line 14\u001b[0m, in \u001b[0;36mmc_problem\u001b[0;34m(start, goal)\u001b[0m\n\u001b[1;32m     12\u001b[0m frontier \u001b[38;5;241m=\u001b[39m [[start]] \u001b[38;5;66;03m# ordered list of paths we have blazed\u001b[39;00m\n\u001b[1;32m     13\u001b[0m \u001b[38;5;28;01mwhile\u001b[39;00m frontier:\n\u001b[0;32m---> 14\u001b[0m     path \u001b[38;5;241m=\u001b[39m frontier\u001b[38;5;241m.\u001b[39mpop(\u001b[38;5;241m0\u001b[39m)\n\u001b[1;32m     15\u001b[0m     s \u001b[38;5;241m=\u001b[39m path[\u001b[38;5;241m-\u001b[39m\u001b[38;5;241m1\u001b[39m]\n\u001b[1;32m     16\u001b[0m     \u001b[38;5;28;01mfor\u001b[39;00m (state, action) \u001b[38;5;129;01min\u001b[39;00m csuccessors(s)\u001b[38;5;241m.\u001b[39mitems():\n",
      "\u001b[0;31mKeyboardInterrupt\u001b[0m: "
     ]
    }
   ],
   "source": [
    "mc_problem()"
   ]
  },
  {
   "cell_type": "code",
   "execution_count": null,
   "id": "58406cd4-e993-45d2-becc-9cf8c3ae45c8",
   "metadata": {},
   "outputs": [],
   "source": []
  }
 ],
 "metadata": {
  "kernelspec": {
   "display_name": "Python 3 (ipykernel)",
   "language": "python",
   "name": "python3"
  },
  "language_info": {
   "codemirror_mode": {
    "name": "ipython",
    "version": 3
   },
   "file_extension": ".py",
   "mimetype": "text/x-python",
   "name": "python",
   "nbconvert_exporter": "python",
   "pygments_lexer": "ipython3",
   "version": "3.11.7"
  }
 },
 "nbformat": 4,
 "nbformat_minor": 5
}
