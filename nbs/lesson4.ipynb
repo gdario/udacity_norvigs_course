{
 "cells": [
  {
   "cell_type": "markdown",
   "id": "4bb924ee-bc54-44fb-871e-04087fa92d31",
   "metadata": {},
   "source": [
    "# Lesson 4\n",
    "\n",
    "This unit is about solving problems where the solution can be expressed as a sequence of steps. The unit starts at [video 229](https://www.youtube.com/watch?v=q6M_pco_5Vo&list=PLAwxTw4SYaPnJVtPvZZ5zXj_wRBjH0FxX&index=229&pp=iAQB).\n",
    "\n",
    "## The Pouring Problem\n",
    "\n",
    "We have two glasses that can contain 9 and 4 oz of water respectively, and we have a faucet and a sink where we can refill or empty either glass. The final goal is to have exactly 6 oz of water in the larger glass. The small one can contain any amount.\n",
    "\n",
    "There are 6 possible actions:\n",
    "\n",
    "1. Pouring from glass X to glass Y.\n",
    "2. Pouring from glass Y to glass X.\n",
    "3. Filling glass X.\n",
    "4. Filling glass Y.\n",
    "5. Emptying glass X.\n",
    "6. Emptying glass Y.\n",
    "\n",
    "There are two ways to transfer from X to Y and vice-versa. We can pour from X to Y until\n",
    "\n",
    "1. Y is full.\n",
    "2. X is empty. \n",
    "\n",
    "### Inventory of Concepts\n",
    "\n",
    "1. Collection of glasses (we start with two but we can generalize).\n",
    "2. Total capacity of glass Z (Z $\\in$ {X, Y}).\n",
    "3. Current water level in glass Z.\n",
    "4. Our goal (6 oz in the large glass).\n",
    "5. The six pouring actions.\n",
    "6. A notion of a _solution_. For us, a solution is a sequence of steps from the initial to the goal configuration.\n",
    "\n",
    "The collection of glasses and their current level provides a complete description of the current state of the world.\n",
    "\n",
    "### Combinatorial Complexity\n",
    "\n",
    "For each state of the world there are approximately six possible actions (not all possible at all times). If the solution requires $n$ steps, there are in the order of $n^6$ possible configurations. However we don't know in advance the value of $n$, so the actual complexity of the problem is not known in advance. These are examples of **combinatorial optimization** but we will refer to them as **search** problems.\n",
    "\n",
    "### Exploring the Space\n",
    "\n",
    "Our solution is a collection of states, where X = 6 and Y can be anything between 0 and 4 inclusive. At any given step of the exploration, the farthest states we have explored represent the **frontier**. We can then distinguish three sets of states.\n",
    "\n",
    "1. The goal state(s).\n",
    "2. The explored states that represent the frontier.\n",
    "3. The explored states that are not in the frontier.\n",
    "\n",
    "To find a solution, we keep expanding the frontier until it overlaps one of the solution states. In this kind of problems there are two sitations we want to be able to deal with:\n",
    "\n",
    "1. When there is no path from the frontier to the solution.\n",
    "2. If there is a path, we want to be able to find it efficiently, and we want to avoid ending in an infinite loop.\n",
    "\n",
    "If there is a finite number of states, and if there is a path from the start configuration to the solution, we should be able to find it. We want a strategy, i.e., criteria to decide which states we will explore next.\n",
    "\n",
    "We define **successors** the set of states you can reach from a given state, and the steps needed to get to those states.\n",
    "\n",
    "We use `X` and `Y` to indicate the total capacity of the glasses and `x` and `y` to indicate their current level. We represent our paths as lists containing an alternation of states and actions: `[state, action, state, ...]`. The frontier is technically a set of states, but we represent it as a list of _paths_. If no solution is found, we return an empty list (for consistency with the success case).\n",
    "\n",
    "### MY QUESTIONS\n",
    "\n",
    "Q.: Why do we need `new_path`? Can't we just append to `path`?\n",
    "A.: No, we cannot. If we did, this would happen: let's consider the case where line 19 returns $k$ states with $k > 1$, none of which is in `explored` yet. We update `path = path + [action, state]` and we append it to the frontier. We then consider the next successor, and we do the same thing. This would append the new `[action, state]` pair to the one we appended in the previous step, which is clearly wrong.\n",
    "\n",
    "### Solution\n",
    "\n",
    "The `successors` function returns a dictionary of `state: action` pairs."
   ]
  },
  {
   "cell_type": "code",
   "execution_count": 2,
   "id": "84551a1c-c254-465f-84cd-d5d3d249bf22",
   "metadata": {},
   "outputs": [],
   "source": [
    "def successors(x, y, X, Y):\n",
    "    \"\"\"Return a dict of {state: action} pairs describing what can be reached\n",
    "    from the (x, y) state and how.\"\"\"\n",
    "    assert x <= X and y <= Y  # (x, y) is glass levels; X and Y are glass sizes\n",
    "    return {\n",
    "        ((0, y + x) if y + x <= Y else (x - (Y - y), y + (Y - y))): \"X -> Y\",\n",
    "        ((x + y, 0) if x + y <= X else (x + (X - x), y - (X - x))): \"X <- Y\",\n",
    "        (X, y): \"fill X\",\n",
    "        (x, Y): \"fill Y\",\n",
    "        (0, y): \"empty X\",\n",
    "        (x, 0): \"empty Y\",\n",
    "    }"
   ]
  },
  {
   "cell_type": "markdown",
   "id": "aa988085",
   "metadata": {},
   "source": [
    "The `pour_problem()` function takes the full capacities of the two containers, the goal, the start configuration, and returns a list of state, action pairs."
   ]
  },
  {
   "cell_type": "code",
   "execution_count": 3,
   "id": "9e554e6d-038a-4cdb-97ab-02824e223065",
   "metadata": {},
   "outputs": [],
   "source": [
    "from collections import deque\n",
    "\n",
    "Fail = []\n",
    "\n",
    "def pour_problem(X, Y, goal, start=(0, 0)):\n",
    "    \"\"\"X and Y are the capacity of glasses; (x, y) is current fill levels\n",
    "    and represents a state. The goal is a level that can be in either glass.\n",
    "    Start at start state and follow successors until we reach the goal.\n",
    "    Keep track of frontier and previously explored; fail when no frontier.\"\"\"\n",
    "    if goal in start:\n",
    "        return [start]  # The trivial path.\n",
    "    explored = set()  # set of states we have visited\n",
    "    # A path is a list [state, action, state, ...]. A frontier is a list of paths.\n",
    "    frontier = deque([[start]])  # ordered list of paths we have blazed\n",
    "    while frontier:\n",
    "        path = frontier.popleft()\n",
    "        # The last element of a path is the last visited state.\n",
    "        (x, y) = path[-1]  # Last state in the first path of the frontier\n",
    "        for state, action in successors(x, y, X, Y).items():\n",
    "            # If the state is in explored do nothing.\n",
    "            if state not in explored:\n",
    "                explored.add(state)\n",
    "                path2 = path + [action, state]\n",
    "                if goal in state:\n",
    "                    return path2\n",
    "                else:\n",
    "                    frontier.append(path2)\n",
    "    return Fail"
   ]
  },
  {
   "cell_type": "code",
   "execution_count": 32,
   "id": "e50d7300-159d-4ccb-b5ee-bbcaf96b2762",
   "metadata": {},
   "outputs": [
    {
     "data": {
      "text/plain": [
       "[(9, 4),\n",
       " 'empty Y',\n",
       " (9, 0),\n",
       " 'X -> Y',\n",
       " (5, 4),\n",
       " 'empty Y',\n",
       " (5, 0),\n",
       " 'X -> Y',\n",
       " (1, 4),\n",
       " 'empty Y',\n",
       " (1, 0),\n",
       " 'X -> Y',\n",
       " (0, 1),\n",
       " 'fill X',\n",
       " (9, 1),\n",
       " 'X -> Y',\n",
       " (6, 4)]"
      ]
     },
     "execution_count": 32,
     "metadata": {},
     "output_type": "execute_result"
    }
   ],
   "source": [
    "pour_problem(9, 4, 6, (9, 4))"
   ]
  },
  {
   "cell_type": "markdown",
   "id": "5785960a",
   "metadata": {},
   "source": [
    "[Video 235](https://www.youtube.com/watch?v=i46-urAXvPU&list=PLAwxTw4SYaPnJVtPvZZ5zXj_wRBjH0FxX&index=235) describes the use of doctests, which are a convenient way to test our code. Norvig calls them via `print(doctest.testmod())`. **TODO** review video 235.\n",
    "\n",
    "## The Bridge Problem\n",
    "\n",
    "This is the problem where there are four people on one side of the bridge (`here`) and they want to cross. People can only cross one or two at a time.\n",
    "\n",
    "1. Person.\n",
    "2. A collection of people. Two actually:\n",
    "    - A collection of people on the `here` side.\n",
    "    - A collection of people on the `there` side.\n",
    "3. The light.\n",
    "4. The concepts of states and paths we have seen before.\n",
    "\n",
    "How about the representaiton? We can represent the four people by the number of minutes it takes them to cross the bridge. For a collection of people we have various choices:\n",
    "\n",
    "- Tuple.\n",
    "- List.\n",
    "- Set.\n",
    "- Frozenset.\n",
    "\n",
    "Which ones would be well suited? The representation should be hashable. Why? Because if we want to use the same methods as in the pour problem, we are going to use a `explored` set, and sets must contain hashable objects.\n",
    "\n",
    "Tuples and frozensets are hashable. Sets and lists are not hashable. Note that sets, like lists, are pass-by-reference data structures."
   ]
  },
  {
   "cell_type": "code",
   "execution_count": 1,
   "id": "c8c12427-3866-498a-923a-9a487f361dcb",
   "metadata": {},
   "outputs": [
    {
     "name": "stdout",
     "output_type": "stream",
     "text": [
      "{20, 30}\n"
     ]
    }
   ],
   "source": [
    "s1 = set([10, 20, 30])\n",
    "s2 = s1\n",
    "s1.pop()\n",
    "print(s2)\n",
    "del s1, s2"
   ]
  },
  {
   "cell_type": "markdown",
   "id": "2a8f38a8",
   "metadata": {},
   "source": [
    "All four of the above representations would be fine, but only tuples and frozensets are hashable. Norvig opts for a representation of a state as `(here, there, t)` where `here` represents everything on this side, `there` is everything on the other side, and `t` is the total elapsed time. `here` and `there` will be represented as frozensets. We include the flashlight in the frozenset as the string `'light'`. At the beginning,`here` is the frozenset `{1, 2, 5, 10, 'light'}` and `there` is the empty frozenset.\n",
    "\n",
    "What are the successors of the initial state? At the end of the first step the light will go from `here` to `there`, with at least one person. All combinations of sending 1 or 2 people to the other side are acceptable. There are ${4 \\choose 2} = 6$ choices for 2 people and 4 for one person, for a total of 10."
   ]
  },
  {
   "cell_type": "code",
   "execution_count": null,
   "id": "1537a4e6",
   "metadata": {},
   "outputs": [],
   "source": [
    "from itertools import combinations\n",
    "\n",
    "def foo(fzset):\n",
    "    people = fzset.difference({'light'})\n",
    "\n",
    "\n",
    "def successors(state):\n",
    "    \"\"\"Return a dict of {state: action} pairs. A state is a (here, there, t)\n",
    "    tuple, where here and there are frozensets of people (indicated by their\n",
    "    times) and/or the 'light', and t is a number indicating the elapsed time.\n",
    "    Action is represented by '->' for here to there and '<-' for there to here.\"\"\"\n",
    "    here, there, t = state"
   ]
  }
 ],
 "metadata": {
  "kernelspec": {
   "display_name": "Python 3 (ipykernel)",
   "language": "python",
   "name": "python3"
  },
  "language_info": {
   "codemirror_mode": {
    "name": "ipython",
    "version": 3
   },
   "file_extension": ".py",
   "mimetype": "text/x-python",
   "name": "python",
   "nbconvert_exporter": "python",
   "pygments_lexer": "ipython3",
   "version": "3.11.5"
  }
 },
 "nbformat": 4,
 "nbformat_minor": 5
}
