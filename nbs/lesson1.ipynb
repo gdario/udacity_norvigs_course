{
 "cells": [
  {
   "cell_type": "markdown",
   "metadata": {},
   "source": [
    "# Lesson 1\n",
    "\n",
    "In this unit we write a poker program. This is an example of a general process where we start with a vague understanding of the problem and then we refine our understanding so that it has a formal specification, then we specify that into something that is amenable to be coded, and we end up with working code. In a diagram this looks like this:\n",
    "\n",
    "```text\n",
    "      1              2                     3\n",
    "?? -----> Problem -----> Specifications -----> Code\n",
    "  Understand     Specify                Design\n",
    "```\n",
    "\n",
    "The first thing we need to do is to make an *inventory* of the concepts we will have to deal with.\n",
    "\n",
    "1. **Hands**: a hand consists of 5 cards. A card has a rank and a suit. The program we are trying to write takes a *list of hands* and returns the *best hand*.\n",
    "2. In order to select the best hand we need to *rank* hands. Another concept is, therefore, **hand rank**. What are the concepts that make a hand rank? This [Wikipedia page](https://en.wikipedia.org/wiki/List_of_poker_hands) details all the rules of poker, but we are primarily interested in the following three concepts:\n",
    "   1. **n-kind**: when a hand contains $n$ cards of the same *rank* (not suit).\n",
    "   2. **straight**: when we have *5 consecutive ranks*.\n",
    "   3. **flush**: when all 5 cards have the same suit, and the ranks don't matter.\n",
    "\n",
    "Now we are ready to move to the desigh phase.\n",
    "\n",
    "## Representing hands\n",
    "\n",
    "What is a good representation of a hand? Consider these three examples:\n",
    "\n",
    "- `['JS', 'JD', '2S', '2C', '7H']`\n",
    "- `[(11, 'S'), (11, 'D'), (2, 'S'), (2, 'C'), (7, 'H')]`\n",
    "- `set(['JS', 'JD', '2S', '2C', '7H'])`\n",
    "- `'JS JS 2S 2C 7H'`\n",
    "\n",
    "Which one(s) are best suited to our problem? Which ones are not? The set representation wouldn't work if we used two decks, otherwise all the above representations will work, if not with the same efficacy. For example, the first and the last one are equivalent, but for the string representation you will need to call `split()`. Overall, the first two are the best ones.\n",
    "\n",
    "## The `poker()` function\n",
    "\n",
    "We can start thinking about the `poker()` function. Out of a list of hands, this function should return the highest ranking hand, therefore we can intuitively imagine that a call to `max()` should appear here."
   ]
  },
  {
   "cell_type": "code",
   "execution_count": 1,
   "metadata": {},
   "outputs": [],
   "source": [
    "def poker(hands):\n",
    "    \"Return the best hand: poker([hand, ...]) => hand\"\n",
    "    pass"
   ]
  },
  {
   "cell_type": "markdown",
   "metadata": {},
   "source": [
    "To make sure we understand how `max()` works, look at the example below. The returned values might be counterintuitive at first. Note the use of `key=abs` (and not `key=abs()`). Look at the documentation for [`list.sort()`](https://docs.python.org/3/library/stdtypes.html#list.sort) and at the [Sorting HOWTO](https://docs.python.org/3/howto/sorting.html#sortinghowto)."
   ]
  },
  {
   "cell_type": "code",
   "execution_count": 2,
   "metadata": {},
   "outputs": [
    {
     "data": {
      "text/plain": [
       "(5, -5)"
      ]
     },
     "execution_count": 2,
     "metadata": {},
     "output_type": "execute_result"
    }
   ],
   "source": [
    "max([3, 4, 5, 0]), max([3, 4, -5, 0], key=abs)"
   ]
  },
  {
   "cell_type": "markdown",
   "metadata": {},
   "source": [
    "For now we can write the `poker()` function based on a yet-to-define `hand_rank()` function."
   ]
  },
  {
   "cell_type": "code",
   "execution_count": 3,
   "metadata": {},
   "outputs": [],
   "source": [
    "def poker(hands):\n",
    "    \"Return the best hand: poker([hand, .   ..]) => hand\"\n",
    "    return max(hands, key=hand_rank)\n",
    "\n",
    "def hand_rank(hand):\n",
    "    return None"
   ]
  },
  {
   "cell_type": "markdown",
   "metadata": {},
   "source": [
    "We should also have some tests in place so that we can check whether our functions are doing the right thing. We include tests for a single hand (which should correspond to the return value) and for 100 hands."
   ]
  },
  {
   "cell_type": "code",
   "execution_count": 4,
   "metadata": {},
   "outputs": [],
   "source": [
    "def test():\n",
    "    \"Test cases for the functions in poker program\"\n",
    "    sf = \"6C 7C 8C 9C TC\".split() # => ['6C', '7C', '8C', '9C', 'TC']\n",
    "    fk = \"9D 9H 9S 9C 7D\".split() # Four of a kind\n",
    "    fh = \"TD TC TH 7C 7D\".split() # Full House\n",
    "    assert poker([sf, fk, fh]) == sf\n",
    "    assert poker([fk, fh]) == fk\n",
    "    assert poker([fh, fh]) == fh\n",
    "    assert poker([fk]) == fk\n",
    "    assert poker([sf, fk] + [fh] * 98) == fh\n"
   ]
  },
  {
   "cell_type": "markdown",
   "metadata": {},
   "source": [
    "## Hand Rank Attempt\n",
    "\n",
    "This is our most complicated function. It takes a hand, but what does it return? It should return a value that is comparable by `max()`, but we don't yet know what it should be. Why not a number? We can rank hands from 0 to 8, with 0 for an empty hand and 8 for a Straight Flush (note that Royal Flushes are ace-high Straight Flushes). We know it is going to be important to look at ranks, so let's imagine we have written a function `card_ranks()` that returns the ranks of the cards in a hand.\n",
    "\n",
    "We may start enumerating all the cases, starting from a Straight Flush and moving on. Note that in the definition below we are including several functions we have not yet defined, like `straight()`, `flush()` and `kind(n, ranks)`.\n",
    "\n",
    "```python\n",
    "def hand_rank(hand):\n",
    "    \"Return a value indicating the ranking of a hand.\"\n",
    "    ranks = card_ranks(hand) # We haven't written this one yet.\n",
    "    if straight(ranks) and flush(hand):\n",
    "        return 8\n",
    "    elif kind(4, ranks):\n",
    "        return 7\n",
    "    # etc etc\n",
    "```\n",
    "\n",
    "The question is, would such a function work? The answer is, sometimes it would, and sometimes it would not. It would work for comparisons between a full house and a straight, for example, but what if two players had a pair of 10s and of 9s respectively. We need to disambiguate and rank these two pairs.\n",
    "\n",
    "## Representing Rank\n",
    "\n",
    "We need a better way to represent rank. There are several possibilities. We may continue to use integers, but bigger ones. For example, if we have two four-of-a-kind hands, with ranks [9, 9, 9, 9, 5] and [3, 3, 3, 3, 2] respectively. In the formulation above they would be both ranked as 7. We may represent them as 70905 and 70302, respectively. The first digit would be the rank, the third the rank of the four cards, and the last digit the rank of the remaining card. The zeros allow for ranks greater than 9.\n",
    "We could otherwise use real numbers, like 7.0905 and 7.0302. Or we could use tuples like (7, 9, 5) and (7, 3, 2).\n",
    "\n",
    "All these representations would actually work, and `max()` would do the right thing, but the tuple-based representation is the most convenient, since the other require fairly complicated arithmetic.\n",
    "\n",
    "### Ordering in Tuples\n",
    "\n",
    "We want to compare tuples. Tuples are compared element by element, just like strings. This is called **lexigraphic ordering**. Let's look at some examples."
   ]
  },
  {
   "cell_type": "code",
   "execution_count": 2,
   "metadata": {},
   "outputs": [
    {
     "name": "stdout",
     "output_type": "stream",
     "text": [
      "True\n",
      "True\n",
      "True\n",
      "False\n",
      "True\n"
     ]
    }
   ],
   "source": [
    "print((7, 9, 5) > (7, 3, 2))\n",
    "print((7, 9, 5) > (7, 5, 9))\n",
    "print((7, 9, 5) > (7, 9, 4))\n",
    "print((7, 9, 5) > (7, 9, 5, 1))\n",
    "print((3, 2, 1) > (2, 11, 3))\n"
   ]
  },
  {
   "cell_type": "markdown",
   "metadata": {},
   "source": [
    "## Wild West Poker\n",
    "\n",
    "To understand the new ordering mechanism we can look at a few examples.\n",
    "\n",
    "- Straight Flush, Jack High: `['JC', 'TC', '9C', '8C', '7C']`: (8, 11 )\n",
    "- Four Aces and a Queen Kicker: `['AS', 'AH', 'AD', 'AC', 'QH']`: (7, 14, 12). 14 is the rank of an Ace.\n",
    "- Full House, 8s over Kings: `['8S', '8H', '8D', 'KS', 'KC']`: (6, 8, 13)\n",
    "- Flush 10-8: `['TD', '8D', '7D', '5D', '3D']`: usually the two highest cards are enough to break ties, but this is not always the case. In actuality we may want all the ranks, therefore we return (5, [10, 8, 7, 5, 3]). It is still possible that another player will have the same cards in another suit.\n",
    "- Straight, Jack High: `['JC', 'TS', '9D', '8C', '7C']` (4, 11).\n",
    "- Three Sevens: `['7H', '7D', '7C', '5C', '2C']`: (3, 7, [7, 7, 7, 5, 2]).\n",
    "- Two pairs, Jacks and Threes: `['JD', 'JC', '3S', '3H', 'KH']`: (2, 11, 3, [13, 11, 11, 3, 3]).\n",
    "- Pair of Twos, Jack High: `['2H', '2S', 'JD', '6H', '3C']`: (1, 2, [11, 6, 3, 2, 2]).\n",
    "- I've got nothing: `['7C', '5C', '4C', '3C', '2D']`: (0, 7, 5, 4, 3, 2)\n",
    "\n",
    "In some cases, in the examples above we return a tuple that contains a list. We cannot compare a number with a list. For example, this comparison would return an error: `(2, 7, 6) > (2, 7, [7, 7, 5, 5, 2])`.\n",
    "\n",
    "Let's go back to `hand_rank()`. Note that we are using `kind(4, ranks)` both as a logical value (in the `elif` statement) and to return the ranks that appears 4 times and 4 times respectively.\n",
    "\n",
    "Note that we have to start our `if elif else` statements with the highest ranks at the top. Four of a kind is also three of a kind and also a pair."
   ]
  },
  {
   "cell_type": "code",
   "execution_count": 6,
   "metadata": {},
   "outputs": [],
   "source": [
    "def hand_rank(hand):\n",
    "    ranks = card_ranks(hand)\n",
    "    if straight(ranks) and flush(hand):            # straight flush\n",
    "        return (8, max(ranks))\n",
    "    elif kind(4, ranks):                           # 4 of a kind\n",
    "        return (7, kind(4, ranks), kind(1, ranks))\n",
    "    elif kind(3, ranks) and kind(2, ranks):        # full house\n",
    "        return (6, kind(3, ranks), kind(2, ranks))\n",
    "    elif flush(hand):                              # flush\n",
    "        return (5, ranks)\n",
    "    elif straight(ranks):                          # straight\n",
    "        return (4, max(ranks))\n",
    "    elif kind(3, ranks):                           # 3 of a kind\n",
    "        return (3, kind(3, ranks), ranks)\n",
    "    elif two_pair(ranks):                          # 2 pair\n",
    "        return (2, two_pair(ranks))\n",
    "    elif kind(2, ranks):                           # kind\n",
    "        return (1, kind(2, ranks), ranks)\n",
    "    else:                                          # high card\n",
    "        return (0, ranks)"
   ]
  },
  {
   "cell_type": "markdown",
   "metadata": {},
   "source": [
    "We can now define the `card_ranks()` function. Note how simple is the implementation based on `.index(r)`, where we just put two `-` placeholders at the beginning, so that the ranking is correct. My initial attempt used a dictionary. Note also the use of `.sort(reverse=True)`."
   ]
  },
  {
   "cell_type": "code",
   "execution_count": 7,
   "metadata": {},
   "outputs": [],
   "source": [
    "def card_ranks(hand):\n",
    "    \"Return a list of the ranks, sorted with higher first.\"\n",
    "    ranks = ['--23456789TJQKA'.index(r) for r, s in hand]\n",
    "    return ranks.sort(reverse=True)"
   ]
  },
  {
   "cell_type": "markdown",
   "metadata": {},
   "source": [
    "Similarly, we can implement the `straight()` and `flush()` functions. Note the arguments: `straigh(ranks)` and `flush(hand)`. The former only need the ranks to decide whether it is a straight or not. The latter needs the suits. Since the ranks are needed by other functions, it makes sense to have a `card_ranks(hand)` function that extracts the ranks once."
   ]
  },
  {
   "cell_type": "code",
   "execution_count": 8,
   "metadata": {},
   "outputs": [],
   "source": [
    "def straight(ranks):\n",
    "    \"Return True if the ordered ranks form a 5-card straight.\"\n",
    "    return (max(ranks) - min(ranks) == 4) and (len(set(ranks)) == 5)\n",
    "\n",
    "def flush(hand):\n",
    "    \"Return True if all the cards have the same suit.\"\n",
    "    # Note how neat: this only works because all ranks are 1-character long.\n",
    "    suits = [s for r, s in hand]\n",
    "    return len(set(suits)) == 1"
   ]
  },
  {
   "cell_type": "markdown",
   "metadata": {},
   "source": [
    "For the `kind()` function I initially used a counter, but this is not necessary, and we can just use the `.count()` method for lists.\n",
    "\n",
    "Note that in the code below we use `return r` that will break the loop at the first occurrence of a `True` condition. This is a frequent pattern: when you expect that multiple elements may satisfy a condition, but you are only interested in the first one, `return` is your friend."
   ]
  },
  {
   "cell_type": "code",
   "execution_count": 9,
   "metadata": {},
   "outputs": [],
   "source": [
    "def kind(n, ranks):\n",
    "    \"\"\"Return the first rank that this hand has exactly n of.\n",
    "    Return None if there is no n-of-a-kind in the hand.\"\"\"\n",
    "    for r in ranks:\n",
    "        if ranks.count(r) == n:\n",
    "            return r\n",
    "    return None"
   ]
  },
  {
   "cell_type": "markdown",
   "metadata": {},
   "source": [
    "The `kind()` function works fine when there is one single pair. If there are two pairs, only the highest ranked will be returned, since the ranks are sorted in decreasing order. If we apply `kind(2, reversed(ranks))` this will return the lowest ranked pair."
   ]
  },
  {
   "cell_type": "code",
   "execution_count": 10,
   "metadata": {},
   "outputs": [],
   "source": [
    "def two_pair(ranks):\n",
    "    \"\"\"If there are two pair, return the two ranks as a tuple: (highest, lowest)\n",
    "    otherwise return None.\"\"\"\n",
    "    pair = kind(2, ranks)\n",
    "    # Remember to put reversed() into a list.\n",
    "    lowpair = kind(2, list(reversed(ranks)))\n",
    "    if pair and lowpair != pair:\n",
    "        return (pair, lowpair)\n",
    "    else:\n",
    "        return None"
   ]
  },
  {
   "cell_type": "markdown",
   "metadata": {},
   "source": [
    "We can also update our `test()` function."
   ]
  },
  {
   "cell_type": "code",
   "execution_count": 11,
   "metadata": {},
   "outputs": [],
   "source": [
    "def test():\n",
    "    \"Test cases for the functions in poker program\"\n",
    "    sf1 = \"6C 7C 8C 9C TC\".split() # Straight Flush\n",
    "    sf2 = \"6D 7D 8D 9D TD\".split() # Straight Flush\n",
    "    fk = \"9D 9H 9S 9C 7D\".split() # Four of a Kind\n",
    "    fh = \"TD TC TH 7C 7D\".split() # Full House\n",
    "    tp = \"TD 9H TH 7C 3S\".split() # Two Pair\n",
    "    s1 = \"AS 2S 3S 4S 5C\".split() # A-5 straight - TRICKY!\n",
    "    s2 = \"2C 3C 4C 5S 6S\".split() # 2-6 straight\n",
    "    ah = \"AS 2S 3S 4S 6C\".split() # Ace high\n",
    "    sh = \"2S 3S 4S 6C 7D\".split() # 7 high\n",
    "    al = \"AC 2D 4H 3D 5S\".split() # Ace-Low Straight\n",
    "    fkranks = card_ranks(fk)\n",
    "    tpranks = card_ranks(tp)\n",
    "    assert poker([sf1, fk, fh]) == sf1\n",
    "    assert poker([s1, s2, ah, fh]) == s2 # This one fails\n",
    "    assert poker([fk, fh]) == fk\n",
    "    assert poker([fh, fh]) == fh\n",
    "    assert poker([sf1]) == sf1\n",
    "    assert poker([sf1] + 99*[fh]) == sf1\n",
    "    # New assertions\n",
    "    assert hand_rank(sf1) == (8, 10)\n",
    "    assert hand_rank(fk) == (7, 9, 7)\n",
    "    assert hand_rank(fh) == (6, 10, 7)\n",
    "    assert card_ranks(sf1) == [10, 9, 8, 7, 6]\n",
    "    assert card_ranks(fk) == [9, 9, 9, 9, 7]\n",
    "    assert card_ranks(fh) == [10, 10, 10, 7, 7]\n",
    "    assert straight(card_ranks(al)) == True "
   ]
  },
  {
   "cell_type": "markdown",
   "metadata": {},
   "source": [
    "There is a tricky bit here. The hand `\"AS 2S 3S 4S 5C\"` is an exception, and it should be counted as a straight [5, 4, 3, 2, 1] and not as [14, 5, 4, 3, 2]. In other words, in a hand like this the aces should be considered as 1, not as the highest card. We need to change our code somewhere in order to cover this exception, but where? The amount of change should be proportional to the amount of change in the conceptualization, i.e., we want to isolate the special case. We have the following candidates:\n",
    "\n",
    "1. `poker()`.\n",
    "2. `hand_rank()`.\n",
    "3. `card_ranks()`.\n",
    "4. `straight()`.\n",
    "\n",
    "### Changing `poker()`\n",
    "\n",
    "`poker()` returns the max of the hands based on `hand_rank()`, so it would make more sense to change `hand_rank()` than `poker()`.\n",
    "\n",
    "### Changing `hand_ranks()`\n",
    "\n",
    "The ranking depends on the hand being correctly classified. We want `\"AS 2S 3S 4S 5C\"` to be classified as a Straight, so it would make more sense to operate on `straight()`.\n",
    "\n",
    "### Changing `card_ranks()`\n",
    "\n",
    "Here the rank of the ace changes depending on the cards in the same hand, and we have this information in this function. This would work.\n",
    "\n",
    "### Changing `straight()`\n",
    "\n",
    "The limitation with this approach is that it takes a single `if-then` to identify the case and classify it as a Straight, but `straight()` only returns a boolean value, which means that the value of the ace would be unchanged.\n",
    "\n",
    "ULtimately, the best solution is to change `card_ranks()`."
   ]
  },
  {
   "cell_type": "code",
   "execution_count": 12,
   "metadata": {},
   "outputs": [],
   "source": [
    "def card_ranks(hand):\n",
    "    \"Return a list of the ranks, sorted with higher first.\"\n",
    "    ranks = ['--23456789TJQKA'.index(r) for r, s in hand]\n",
    "    ranks.sort(reverse=True)\n",
    "    return [5, 4, 3, 2, 1] if (ranks == [14, 5, 4, 3, 2]) else ranks"
   ]
  },
  {
   "cell_type": "markdown",
   "metadata": {},
   "source": [
    "## Handling Ties\n",
    "\n",
    "In the initial specification we did not worry about ties, but now we want to account for them. What shall we modify?\n",
    "\n",
    "- `hand_rank()`\n",
    "- `poker()`\n",
    "- Or shall we add a new function?\n",
    "\n",
    "We are dealing with the case where two hands have the same rank, and we don't want to change that rank, so there is no need to touch `hand_rank()`. It can make sense to modify `poker()`, or to add a new function, say `poker_with_ties()`. Changing `poker()` looks like the best option. We are still adding a new function `allmax(iterable, key=None)`, that returns a list of all items equal to the max of the iterable, according to the function specified by key."
   ]
  },
  {
   "cell_type": "code",
   "execution_count": 13,
   "metadata": {},
   "outputs": [],
   "source": [
    "def allmax(iterable, key=None):\n",
    "    \"Return a list of all items equal to the max of the iterable.\"\n",
    "    # Note, if you compute max(iterable, key=key) you will get the item with\n",
    "    # the maximum score, not the maximum score, which is what you actually want.\n",
    "    max_rank = max([key(item) for item in iterable])\n",
    "    return [item for item in iterable if key(item) == max_rank]\n",
    "\n",
    "# We need to redefine poker()\n",
    "def poker(hands):\n",
    "    \"Return the best hand: poker([hand,...]) => hand\"\n",
    "    return allmax(hands, key=hand_rank)"
   ]
  },
  {
   "cell_type": "markdown",
   "metadata": {},
   "source": [
    "## Deal\n",
    "\n",
    "We want to create a function that deals hands of cards. More precisely we want to write a function `deal(numhands, n=5, deck)`, that deals `numhands` hands with `n` cards each."
   ]
  },
  {
   "cell_type": "code",
   "execution_count": 14,
   "metadata": {},
   "outputs": [],
   "source": [
    "import random\n",
    "\n",
    "mydeck = [r+s for r in '23456789TJQK' for s in 'SHDC']\n",
    "\n",
    "def deal(numhands, n=5, deck=mydeck):\n",
    "    random.shuffle(deck)\n",
    "    return [deck[n*i:n*(i + 1)] for i in range(numhands)]"
   ]
  },
  {
   "cell_type": "markdown",
   "metadata": {},
   "source": [
    "## Hand Frequencies\n",
    "\n",
    "This [Wikipedia page](https://en.wikipedia.org/wiki/Poker_probability) contains the probabilities for the various hands. More precisely\n",
    "\n",
    "| Hand | Probability |\n",
    "|------|-------------|\n",
    "| Royal Flush | 0.000154 %|\n",
    "| Straight Flush (w/o Royal Flush) | 0.00139% |\n",
    "| Four of a kind | 0.02401% |\n",
    "| Full House | 0.1441% |\n",
    "| Flush (excl. Royal and straight) | 0.1965% |\n",
    "| Straight (excl. Royal and straight flush)| 0.3925% |\n",
    "| Three of a kind | 2.1128% |\n",
    "| Two pair | 4.7539% |\n",
    "| Pair | 42.2569% |\n",
    "| High card | 50.1177% |"
   ]
  },
  {
   "cell_type": "code",
   "execution_count": 15,
   "metadata": {},
   "outputs": [],
   "source": [
    "hand_names = ['High Card',\n",
    " 'Pair',\n",
    " 'Two pair',\n",
    " 'Three of a kind',\n",
    " 'Straight',\n",
    " 'Flush',\n",
    " 'Full house',\n",
    " 'Four of a kind',\n",
    " 'Straigh Flush']\n",
    "\n",
    "\n",
    "def hand_percentages(n=1000_1000):\n",
    "    \"Sample random hands and print a table of frequencies.\"\n",
    "    counts = [0] * 9\n",
    "    for i in range(n // 10):\n",
    "        for hand in deal(10):\n",
    "            ranking = hand_rank(hand)[0] # The first element identifies the hand\n",
    "            counts[ranking] += 1\n",
    "    for i in reversed(range(9)):\n",
    "        print(f\"%14s: %6.3f %%\" % (hand_names[i], 100 * counts[i] / n))"
   ]
  },
  {
   "cell_type": "code",
   "execution_count": 16,
   "metadata": {},
   "outputs": [
    {
     "name": "stdout",
     "output_type": "stream",
     "text": [
      " Straigh Flush:  0.002 %\n",
      "Four of a kind:  0.028 %\n",
      "    Full house:  0.163 %\n",
      "         Flush:  0.673 %\n",
      "      Straight:  0.423 %\n",
      "Three of a kind:  2.245 %\n",
      "      Two pair:  4.995 %\n",
      "          Pair: 41.794 %\n",
      "     High Card: 49.677 %\n",
      "CPU times: user 1min 4s, sys: 1.81 ms, total: 1min 4s\n",
      "Wall time: 1min 4s\n"
     ]
    }
   ],
   "source": [
    "%%time\n",
    "hand_percentages()"
   ]
  },
  {
   "cell_type": "markdown",
   "metadata": {},
   "source": [
    "## Dimensions of Programming\n",
    "\n",
    "The dimensions we consider are:\n",
    "\n",
    "1. Correctness.\n",
    "2. Efficiency.\n",
    "3. Features.\n",
    "4. Elegance.\n",
    "\n",
    "Voltaire: \"The best is the enemy of the good\". There is a trade-off between the cost of improving things and the actual gains we derive.\n",
    "\n",
    "### Refactoring\n",
    "\n",
    "Refactoring means changing a program in a way that it doesn't do anything different, but it becomes easier to read and to maintain. For example, in `hands_rank()` there is this repetitive snippet.\n",
    "\n",
    "```python\n",
    "elif kind(3, ranks) and kind(2, ranks):  # full house\n",
    "    return (6, kind(3, ranks), kind(2, ranks))\n",
    "```\n",
    "\n",
    "while trying to remove this repetitiveness, we may come across a different way to represent hands. For this purpose we can write a function `group()` that returns two values: a tuple with the count of each rank in the hand, in decreasing order, and a tuple with the corresponding card ranks. Therefore, if we have a hand with ranks (7, 10, 7, 9, 7), `group()` will return `[(3, 7), (1, 10), (1, 9)]`.\n",
    "\n",
    "The snippet below is another remarkable example. My solution was more complicated, with the extraction of the element with the highest count, the sorting of the remaining elements by rank etc. Here a single sort is enough. Why? Let's consider the following possible forms of the `counts` tuple.\n",
    "\n",
    "- (4, 1)\n",
    "- (3, 2)\n",
    "- (3, 1, 1)\n",
    "- (2, 2, 1)\n",
    "- (2, 1, 1, 1)\n",
    "- (1, 1, 1, 1, 1)\n",
    "\n",
    "In all these cases, sorting will do the right thing."
   ]
  },
  {
   "cell_type": "code",
   "execution_count": 17,
   "metadata": {},
   "outputs": [],
   "source": [
    "def group(items):\n",
    "    \"\"\"Returns a list of [(count, x)...], highest count first,\n",
    "    then highest x first.\"\"\"\n",
    "    groups = [(items.count(x), x) for x in set(items)]\n",
    "    return sorted(groups, reverse=True)"
   ]
  },
  {
   "cell_type": "markdown",
   "metadata": {},
   "source": [
    "This function would allow to rewrite `hands_rank()` in a different and more concise way."
   ]
  },
  {
   "cell_type": "code",
   "execution_count": 18,
   "metadata": {},
   "outputs": [],
   "source": [
    "def hand_rank(hand):\n",
    "    \"Return a value indicating how high the hand ranks.\"\n",
    "    # We create the groups straight away for each hand.\n",
    "    groups = (['--23456789TJQKA'.index(r) for r, s in hand])\n",
    "    counts, ranks = unzip(groups) # Not yet defined.\n",
    "    if ranks == (14, 5, 4, 3, 2):\n",
    "        ranks = (5, 4, 3, 2, 1)\n",
    "    # We check for straights and flushes here, without the need\n",
    "    # for helper functions\n",
    "    straight = len(ranks) == 5 and max(ranks) - min(ranks) == 4\n",
    "    flush = len(set([s for r,s in hand])) == 1\n",
    "    return (9 if (5,) == counts else\n",
    "            8 if straight and flush else\n",
    "            7 if (4, 1) == counts else\n",
    "            6 if (3, 2) == counts else\n",
    "            5 if flush else\n",
    "            4 if straight else\n",
    "            3 if (3, 1, 1) == counts else\n",
    "            2 if (2, 2, 1) == counts else\n",
    "            1 if (2, 1, 1, 1) == counts else\n",
    "            0), ranks"
   ]
  },
  {
   "cell_type": "markdown",
   "metadata": {},
   "source": [
    "The `unzip()` function is small but interesting. It pretty much transposes a list of lists or tuples. In our case, for example, we have a list `[(count1, rank1), (count2, rank2), ...]` and we want to assign `[count1, count2,...]` to `counts` and `[rank1, rank2, ...]` to `ranks. This is what this function does."
   ]
  },
  {
   "cell_type": "code",
   "execution_count": 19,
   "metadata": {},
   "outputs": [
    {
     "data": {
      "text/plain": [
       "[(1, 3), (2, 4)]"
      ]
     },
     "execution_count": 19,
     "metadata": {},
     "output_type": "execute_result"
    }
   ],
   "source": [
    "def unzip(pairs):\n",
    "    return zip(*pairs)\n",
    "\n",
    "list(unzip([(1, 2), (3, 4)]))"
   ]
  },
  {
   "cell_type": "markdown",
   "metadata": {},
   "source": [
    "This new version is not only shorter, but it also highlights the fact that the various hand types are partitions of 5 sorted lexicographically."
   ]
  },
  {
   "cell_type": "markdown",
   "metadata": {},
   "source": [
    "## Final refactoring\n",
    "\n",
    "We can further simplify `hand_rank()`: instead of having a long \"case\" statement, we can use a dictionary as a lookup table as shown below. Note that the ranking of a straight flush is now 9, but that's OK, as the relative ranking is unchanged. Note also that we have a five-of-a-kind scenario, which is not possible when using a single deck."
   ]
  },
  {
   "cell_type": "code",
   "execution_count": 20,
   "metadata": {},
   "outputs": [],
   "source": [
    "count_rankings = {\n",
    "    (5,): 10,\n",
    "    (4, 1): 7,\n",
    "    (3, 2): 6,\n",
    "    (3, 1, 1): 3,\n",
    "    (2, 2, 1): 2,\n",
    "    (2, 1, 1, 1): 1,\n",
    "    (1, 1, 1, 1, 1): 0\n",
    "}\n",
    "\n",
    "def hand_rank(hand):\n",
    "    \"Return a value indicating how high the hand ranks.\"\n",
    "    groups = (['--23456789TJQKA'.index(r) for r, s in hand])\n",
    "    counts, ranks = unzip(groups) # Not yet defined.\n",
    "    if ranks == (14, 5, 4, 3, 2):\n",
    "        ranks = (5, 4, 3, 2, 1)\n",
    "    straight = len(ranks) == 5 and max(ranks) - min(ranks) == 4\n",
    "    flush = len(set([s for r,s in hand])) == 1\n",
    "    return max(count_rankings[counts], 4*straight, 5*flush), ranks"
   ]
  },
  {
   "cell_type": "markdown",
   "metadata": {},
   "source": [
    "## Lessons Learned\n",
    "\n",
    "1. Understand the problem. Does it make sense? Does it not? Do you need more information? Which parts are obscure or unclear or vague?\n",
    "2. Define the various \"pieces\". Figure out everything that needs to be represented in the problem.\n",
    "3. As much as you can, try to reuse the pieces you have already.\n",
    "4. Make sure you have tests and run them.\n",
    "5. Explore the design space. Move across the four dimensions of correctness, efficiency, features, and elegance."
   ]
  },
  {
   "cell_type": "code",
   "execution_count": null,
   "metadata": {},
   "outputs": [],
   "source": []
  }
 ],
 "metadata": {
  "kernelspec": {
   "display_name": "Python 3 (ipykernel)",
   "language": "python",
   "name": "python3"
  },
  "language_info": {
   "codemirror_mode": {
    "name": "ipython",
    "version": 3
   },
   "file_extension": ".py",
   "mimetype": "text/x-python",
   "name": "python",
   "nbconvert_exporter": "python",
   "pygments_lexer": "ipython3",
   "version": "3.11.5"
  }
 },
 "nbformat": 4,
 "nbformat_minor": 4
}
