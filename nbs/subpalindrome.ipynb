{
 "cells": [
  {
   "cell_type": "markdown",
   "id": "87f4bbd2-c5dd-47ac-a954-9bf3cf26e015",
   "metadata": {},
   "source": [
    "# Subpalindrome\n",
    "\n",
    "In this notebook we are comparing the two solutions to the subpalindrome problem: Norvig's and my own. We want to check the time each solution takes, and the number of function calls operated by each function when called via the `test_subpalindrome()` helper function."
   ]
  },
  {
   "cell_type": "code",
   "execution_count": 1,
   "id": "95575db1-c28a-471c-8036-4757ade34a55",
   "metadata": {},
   "outputs": [],
   "source": [
    "def longest_subpalindrome_slice(text):\n",
    "    \"Return (i, j) such that text[i:j] is the longest palindrome in text.\"\n",
    "    # Your code here\n",
    "    if text == '':\n",
    "        return (0, 0)\n",
    "    def length(slice):\n",
    "        a, b = slice\n",
    "        return b - a\n",
    "    candidates = [grow(text, start, end)\n",
    "                  for start in range(len(text))\n",
    "                  for end in (start, start + 1)]\n",
    "    return max(candidates, key=length)\n",
    "\n",
    "\n",
    "def grow(text, start, end):\n",
    "    \"Start with a 0- or 1- length palindrome. Try to grow a bigger one.\"\n",
    "    while (start > 0 and end < len(text)\n",
    "           and text[start-1].upper() == text[end].upper()):\n",
    "        start -= 1\n",
    "        end += 1\n",
    "    return (start, end)"
   ]
  },
  {
   "cell_type": "markdown",
   "id": "694af569-f7e3-4470-88f1-2e25e1005968",
   "metadata": {},
   "source": [
    "And this is my own solution."
   ]
  },
  {
   "cell_type": "code",
   "execution_count": 2,
   "id": "33877f8d-874b-41ce-9b00-b1476e730446",
   "metadata": {},
   "outputs": [],
   "source": [
    "def my_longest_subpalindrome_slice(text):\n",
    "    \"Return (i, j) such that text[i:j] is the longest palindrome in text.\"\n",
    "    text = text.lower()\n",
    "    nchar = len(text)\n",
    "    for k in range(nchar):\n",
    "        for i in range(0, k + 1):\n",
    "            j = nchar - k + i\n",
    "            tmp = text[i:j]\n",
    "            if tmp == tmp[::-1]:\n",
    "                return (i, j)\n",
    "    return (0, 0)"
   ]
  },
  {
   "cell_type": "code",
   "execution_count": 4,
   "id": "84927f78-726f-4d97-a5c5-6dc2301993d6",
   "metadata": {},
   "outputs": [],
   "source": [
    "def test_subpalindrome(L):\n",
    "    assert L('racecar') == (0, 7)\n",
    "    assert L('Racecar') == (0, 7)\n",
    "    assert L('RacecarX') == (0, 7)\n",
    "    assert L('Race carr') == (7, 9)\n",
    "    assert L('') == (0, 0)\n",
    "    assert L('something rac e car going') == (8,21)\n",
    "    assert L('xxxxx') == (0, 5)\n",
    "    assert L('Mad am I ma dam.') == (0, 15)\n",
    "    return 'tests pass'"
   ]
  },
  {
   "cell_type": "code",
   "execution_count": 5,
   "id": "3c96bb4a-8d76-4d94-99e2-8fbdb612bc8c",
   "metadata": {},
   "outputs": [
    {
     "name": "stdout",
     "output_type": "stream",
     "text": [
      "41.4 µs ± 293 ns per loop (mean ± std. dev. of 7 runs, 10,000 loops each)\n"
     ]
    }
   ],
   "source": [
    "%timeit test_subpalindrome(longest_subpalindrome_slice)"
   ]
  },
  {
   "cell_type": "code",
   "execution_count": 6,
   "id": "280816f5-85d9-4928-be9b-809548a298e8",
   "metadata": {},
   "outputs": [
    {
     "name": "stdout",
     "output_type": "stream",
     "text": [
      " "
     ]
    },
    {
     "data": {
      "text/plain": [
       "         814 function calls in 0.000 seconds\n",
       "\n",
       "   Ordered by: internal time\n",
       "\n",
       "   ncalls  tottime  percall  cumtime  percall filename:lineno(function)\n",
       "      154    0.000    0.000    0.000    0.000 222532173.py:15(grow)\n",
       "        7    0.000    0.000    0.000    0.000 222532173.py:9(<listcomp>)\n",
       "        7    0.000    0.000    0.000    0.000 {built-in method builtins.max}\n",
       "      154    0.000    0.000    0.000    0.000 222532173.py:6(length)\n",
       "      308    0.000    0.000    0.000    0.000 {method 'upper' of 'str' objects}\n",
       "        1    0.000    0.000    0.000    0.000 {built-in method builtins.exec}\n",
       "        8    0.000    0.000    0.000    0.000 222532173.py:1(longest_subpalindrome_slice)\n",
       "      172    0.000    0.000    0.000    0.000 {built-in method builtins.len}\n",
       "        1    0.000    0.000    0.000    0.000 499396242.py:1(test_subpalindrome)\n",
       "        1    0.000    0.000    0.000    0.000 <string>:1(<module>)\n",
       "        1    0.000    0.000    0.000    0.000 {method 'disable' of '_lsprof.Profiler' objects}"
      ]
     },
     "metadata": {},
     "output_type": "display_data"
    }
   ],
   "source": [
    "%prun test_subpalindrome(longest_subpalindrome_slice)"
   ]
  },
  {
   "cell_type": "code",
   "execution_count": 7,
   "id": "73f7c813-7fb7-4787-8588-11015a2dc9bc",
   "metadata": {},
   "outputs": [
    {
     "name": "stdout",
     "output_type": "stream",
     "text": [
      "23 µs ± 79.1 ns per loop (mean ± std. dev. of 7 runs, 10,000 loops each)\n"
     ]
    }
   ],
   "source": [
    "%timeit test_subpalindrome(my_longest_subpalindrome_slice)"
   ]
  },
  {
   "cell_type": "code",
   "execution_count": 8,
   "id": "d5394d8f-81ee-4d2e-908b-04749db0a59b",
   "metadata": {},
   "outputs": [
    {
     "name": "stdout",
     "output_type": "stream",
     "text": [
      " "
     ]
    },
    {
     "data": {
      "text/plain": [
       "         28 function calls in 0.000 seconds\n",
       "\n",
       "   Ordered by: internal time\n",
       "\n",
       "   ncalls  tottime  percall  cumtime  percall filename:lineno(function)\n",
       "        8    0.000    0.000    0.000    0.000 1397309536.py:1(my_longest_subpalindrome_slice)\n",
       "        1    0.000    0.000    0.000    0.000 {built-in method builtins.exec}\n",
       "        1    0.000    0.000    0.000    0.000 499396242.py:1(test_subpalindrome)\n",
       "        8    0.000    0.000    0.000    0.000 {method 'lower' of 'str' objects}\n",
       "        8    0.000    0.000    0.000    0.000 {built-in method builtins.len}\n",
       "        1    0.000    0.000    0.000    0.000 <string>:1(<module>)\n",
       "        1    0.000    0.000    0.000    0.000 {method 'disable' of '_lsprof.Profiler' objects}"
      ]
     },
     "metadata": {},
     "output_type": "display_data"
    }
   ],
   "source": [
    "%prun test_subpalindrome(my_longest_subpalindrome_slice)"
   ]
  },
  {
   "cell_type": "markdown",
   "id": "d59487f1-c70d-4db2-b31e-c84eaa8b10e3",
   "metadata": {},
   "source": [
    "It seems that my approach is both faster and makes fewer function calls."
   ]
  }
 ],
 "metadata": {
  "kernelspec": {
   "display_name": "Python 3 (ipykernel)",
   "language": "python",
   "name": "python3"
  },
  "language_info": {
   "codemirror_mode": {
    "name": "ipython",
    "version": 3
   },
   "file_extension": ".py",
   "mimetype": "text/x-python",
   "name": "python",
   "nbconvert_exporter": "python",
   "pygments_lexer": "ipython3",
   "version": "3.11.5"
  }
 },
 "nbformat": 4,
 "nbformat_minor": 5
}
