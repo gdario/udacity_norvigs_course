{
 "cells": [
  {
   "cell_type": "markdown",
   "metadata": {},
   "source": [
    "# Lesson 2\n",
    "\n",
    "## The Zebra Puzzle\n",
    "\n",
    "We consider a famous puzzle known as the [Zebra Puzzle](https://en.wikipedia.org/wiki/Zebra_Puzzle).\n",
    "\n",
    "1. There are five houses.\n",
    "2. The Englishman lives in the red house.\n",
    "3. The Spaniard owns the dog.\n",
    "4. Coffee is drunk in the green house.\n",
    "5. The Ukrainian drinks tea.\n",
    "6. The green house is immediately to the right of the ivory house.\n",
    "7. The Old Gold smoker owns snails.\n",
    "8. Kools are smoked in the yellow house.\n",
    "9. Milk is drunk in the middle house.\n",
    "10. The Norwegian lives in the first house.\n",
    "11. The man who smokes Chesterfields lives in the house next to the man with the fox.\n",
    "12. Kools are smoked in the house next to the house where the horse is kept.\n",
    "13. The Lucky Strike smoker drinks orange juice.\n",
    "14. The Japanese smokes Parliaments.\n",
    "15. The Norwegian lives next to the blue house.\n",
    "\n",
    "Now, who drinks water? Who owns the zebra? \n",
    "\n",
    "We will develop a solution, discuss whether it is good enough, whether brute-force would work here, and do some back-of-the-envelope calculations.\n",
    "\n",
    "## Concept Inventory\n",
    "\n",
    "As usual, we start making an inventory of the relevant concepts we need to deal with. The first concept is **houses**: there are 5 of them. Then there are **properties** of the inhabitants of these houses, and precisely:\n",
    "\n",
    "- Nationality\n",
    "- Color of the house they live in.\n",
    "- Pets they own.\n",
    "- Drinks they drink.\n",
    "- What they smoke.\n",
    "\n",
    "Then there is a notion of **assignment** of the properties to houses. We can think of assigning, say, **color** blue to house number two, or Englishman to the red house. There is the **location** of the house (the first one, the middle one, etc, the house on the right or next to another house, and so on.)\n",
    "\n",
    "The question is now, do we need to separate out the different types of assignment?\n",
    "\n",
    "- Property name / description: Nationality / lived in.\n",
    "- Do we just need the notion of a property group? For example, the Englishman, Norwegian, Japanese, Spaniard, and Ukranian belong to the same property, but we don't need to name it that way.\n",
    "- Can we ignore this notion of grouping altogether.\n",
    "\n",
    "The first two choices would both be reasonable choices, but the third one would not. For example, if red is assigned to house n.2, then blue cannot be assigned to house n.2, but orange juice can be assigned to house n.2. There is therefore an idea that properties inside a group are mutually exclusive and properties outside of a group are not, and this is an important concept to consider."
   ]
  },
  {
   "cell_type": "markdown",
   "metadata": {},
   "source": []
  }
 ],
 "metadata": {
  "language_info": {
   "name": "python"
  }
 },
 "nbformat": 4,
 "nbformat_minor": 2
}
