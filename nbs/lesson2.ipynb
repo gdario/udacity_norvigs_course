{
 "cells": [
  {
   "cell_type": "markdown",
   "metadata": {},
   "source": [
    "# Lesson 2\n",
    "\n",
    "## The Zebra Puzzle\n",
    "\n",
    "We consider a famous puzzle known as the [Zebra Puzzle](https://en.wikipedia.org/wiki/Zebra_Puzzle).\n",
    "\n",
    "1. There are five houses.\n",
    "2. The Englishman lives in the red house.\n",
    "3. The Spaniard owns the dog.\n",
    "4. Coffee is drunk in the green house.\n",
    "5. The Ukrainian drinks tea.\n",
    "6. The green house is immediately to the right of the ivory house.\n",
    "7. The Old Gold smoker owns snails.\n",
    "8. Kools are smoked in the yellow house.\n",
    "9. Milk is drunk in the middle house.\n",
    "10. The Norwegian lives in the first house.\n",
    "11. The man who smokes Chesterfields lives in the house next to the man with the fox.\n",
    "12. Kools are smoked in the house next to the house where the horse is kept.\n",
    "13. The Lucky Strike smoker drinks orange juice.\n",
    "14. The Japanese smokes Parliaments.\n",
    "15. The Norwegian lives next to the blue house.\n",
    "\n",
    "Now, who drinks water? Who owns the zebra? \n",
    "\n",
    "We will develop a solution, discuss whether it is good enough, whether brute-force would work here, and do some back-of-the-envelope calculations.\n",
    "\n",
    "## Concept Inventory\n",
    "\n",
    "As usual, we start making an inventory of the relevant concepts we need to deal with. The first concept is **houses**: there are 5 of them. Then there are **properties** of the inhabitants of these houses, and precisely:\n",
    "\n",
    "- Nationality\n",
    "- Color of the house they live in.\n",
    "- Pets they own.\n",
    "- Drinks they drink.\n",
    "- What they smoke.\n",
    "\n",
    "Then there is a notion of **assignment** of the properties to houses. We can think of assigning, say, **color** blue to house number two, or Englishman to the red house. There is the **location** of the house (the first one, the middle one, etc, the house on the right or next to another house, and so on.)\n",
    "\n",
    "The question is now, do we need to separate out the different types of assignment?\n",
    "\n",
    "- Property name / description: Nationality / lived in.\n",
    "- Do we just need the notion of a property group? For example, the Englishman, Norwegian, Japanese, Spaniard, and Ukranian belong to the same property, but we don't need to name it that way.\n",
    "- Can we ignore this notion of grouping altogether.\n",
    "\n",
    "The first two choices would both be reasonable choices, but the third one would not. For example, if red is assigned to house n.2, then blue cannot be assigned to house n.2, but orange juice can be assigned to house n.2. There is therefore an idea that properties inside a group are mutually exclusive and properties outside of a group are not, and this is an important concept to consider.\n",
    "\n",
    "The key point is getting the assignments right. It requires a lot of clever reasoning, but we want to try a \"trial and error\" apperoach. If we put the Englishman in house 1, where can we put the Spaniard? Since they are members of the same property group, i.e., nationality, they cannot be in the same house, therefore we can place the Spaniard in house 2, 3, 4, or 5. For a single property group there are $5!$ possibilities. Since we have 5 property groups, we have ${5!}^5 = 24883200000$ possibilities, i.e., almost 25 billion! A back of the envelop estimate would be the following:\n",
    "\n",
    "- $5! = 120 \\approx 10^2$\n",
    "- ${5!}^5 \\approx {10^2}^5 = 10^{10}$\n",
    "- We have approximated down from 120 to 100 in the beginning, so we may need to approximate up. Let's say 20 billion.\n",
    "\n",
    "Modern computers can roughly do 1 billion operations per second on a \"good second\", i.e., one without page faults or cache misses. If we were in the range of millions, we would be fine. This is the \"happy valley of computation\". If we were in the range of trillions, we could say upfront that the brute force approach is not feasible. We are in the middle, so it's not clear.\n",
    "\n",
    "How can we represent assignment? Here are three possibilities:\n",
    "\n",
    "1. We represent houses as an array of sets, i.e., `house[1].add('red')`.\n",
    "2. We represent houses as classes with properties, i.e., `house[1].color = 'red'`.\n",
    "3. We just assign the house number to a `red` variable, i.e., `red = 1`.\n",
    "\n",
    "All three would work, but the last one is simpler, and we will go with this one, at least as long as we don't have evidence that it is *too* simple, and that we need something more complicated.\n",
    "\n",
    "The code below would take hours to run, so don't try to call `zebra_puzzle()`."
   ]
  },
  {
   "cell_type": "code",
   "execution_count": 1,
   "metadata": {},
   "outputs": [],
   "source": [
    "import itertools\n",
    "\n",
    "\n",
    "def imright(h1, h2):\n",
    "    \"House h1 is immediately right of h2 if h1 - h2  == 1.\"\n",
    "    return h1 - h2 == 1\n",
    "\n",
    "\n",
    "def nextto(h1, h2):\n",
    "    \"Two houses are next to each other if they differ by 1.\"\n",
    "    return abs(h1 - h2) == 1\n",
    "\n",
    "\n",
    "def zebra_puzzle():\n",
    "    \"Return a tuple (WATER, ZEBRA) indicationg their house numbers.\"\n",
    "    houses = first, _, middle, _, _ = [1, 2, 3, 4, 5]\n",
    "    # The numbers below represent the constraints to the problem.\n",
    "    # Returns the first (WATER, ZEBRA) tuple that satisfies all contraints.\n",
    "    orderings = list(itertools.permutations(houses))  # 1\n",
    "    return next((WATER, ZEBRA)\n",
    "                for (red, green, ivory, yellow, blue) in orderings\n",
    "                for (Englishman, Spaniard, Ukranian, Japanese, Norwegian) in orderings\n",
    "                for (dog, snails, fox, horse, ZEBRA) in orderings\n",
    "                for (coffee, tea, milk, oj, WATER) in orderings\n",
    "                for (OldGold, Kools, Chesterfields, LuckyStrike, Parliaments) in orderings\n",
    "                if Englishman is red              # 2\n",
    "                if Spaniard is dog                # 3\n",
    "                if coffee is green                # 4\n",
    "                if Ukranian is tea                # 5\n",
    "                if imright(green, ivory)          # 6\n",
    "                if OldGold is snails              # 7\n",
    "                if Kools is yellow                # 8\n",
    "                if milk is middle                 # 9\n",
    "                if Norwegian is first             # 10\n",
    "                if nextto(Chesterfields, fox)     # 11\n",
    "                if nextto(Kools, horse)           # 12\n",
    "                if LuckyStrike is oj              # 13\n",
    "                if Japanese is Parliaments        # 14\n",
    "                if nextto(Norwegian, blue))       # 15"
   ]
  },
  {
   "cell_type": "markdown",
   "metadata": {},
   "source": [
    "Using a generator expression has a few advantages:\n",
    "\n",
    "1. It requires less indentation than would be necessary if we wrote all the `if` and `for` statements.\n",
    "2. It does not need to perform all computations, as would be the case for a list comprehension. In other words, generator expressions can stop early.\n",
    "3. It is easier to edit, for example organizing the constraints as shown above. We have an aligned structure rather than a nested indentation, so we can move things up and down as needed.\n",
    "\n",
    "The program above is slow because it runs through all the $5!^5$ combinations, and then it filters them out. We can make the code above a bit faster. For example, the first two `for` statements go through the orderings of house color and nationality. The first `if` statement checks whether the Englishman lives in the red house. If he does not, there is no point in going through the other `for` loops, therefore, we can move that `if` statement to line 23.\n",
    "\n",
    "There are more redundancies that can be removed just by moving certain lines up. The final result is shown below."
   ]
  },
  {
   "cell_type": "code",
   "execution_count": 2,
   "metadata": {},
   "outputs": [
    {
     "name": "stdout",
     "output_type": "stream",
     "text": [
      "(1, 5)\n",
      "CPU times: user 133 µs, sys: 13 µs, total: 146 µs\n",
      "Wall time: 149 µs\n"
     ]
    }
   ],
   "source": [
    "%%time\n",
    "\n",
    "def zebra_puzzle():\n",
    "    \"Return a tuple (WATER, ZEBRA) indicationg their house numbers.\"\n",
    "    houses = first, _, middle, _, _ = [1, 2, 3, 4, 5]\n",
    "    # The numbers below represent the constraints to the problem.\n",
    "    # Returns the first (WATER, ZEBRA) tuple that satisfies all contraints.\n",
    "    orderings = list(itertools.permutations(houses))  # 1\n",
    "    return next((WATER, ZEBRA)\n",
    "                for (red, green, ivory, yellow, blue) in orderings\n",
    "                if imright(green, ivory)          # 6\n",
    "                for (Englishman, Spaniard, Ukranian, Japanese, Norwegian) in orderings\n",
    "                if Englishman is red              # 2\n",
    "                if Norwegian is first             # 10\n",
    "                if nextto(Norwegian, blue)        # 15\n",
    "                for (coffee, tea, milk, oj, WATER) in orderings\n",
    "                if coffee is green                # 4\n",
    "                if Ukranian is tea                # 5\n",
    "                if milk is middle                 # 9\n",
    "                for (OldGold, Kools, Chesterfields, LuckyStrike, Parliaments) in orderings\n",
    "                if Kools is yellow                # 8\n",
    "                if LuckyStrike is oj              # 13\n",
    "                if Japanese is Parliaments        # 14\n",
    "                for (dog, snails, fox, horse, ZEBRA) in orderings\n",
    "                if Spaniard is dog                # 3\n",
    "                if OldGold is snails              # 7\n",
    "                if nextto(Chesterfields, fox)     # 11\n",
    "                if nextto(Kools, horse))          # 12\n",
    "\n",
    "print(zebra_puzzle())"
   ]
  },
  {
   "cell_type": "markdown",
   "metadata": {},
   "source": [
    "Norvig shows a function `timecall()` to measure the time used by any function call."
   ]
  },
  {
   "cell_type": "code",
   "execution_count": 3,
   "metadata": {},
   "outputs": [],
   "source": [
    "import time\n",
    "\n",
    "def timecall(fn, *args):\n",
    "    \"Call a function and return the elapsed time.\"\n",
    "    t0 = time.clock()\n",
    "    result = fn(*args)\n",
    "    f1 = time.clock()\n",
    "    return time1 - time0, result"
   ]
  },
  {
   "cell_type": "markdown",
   "metadata": {},
   "source": [
    "There are several aspects we need to consider when writing a program.\n",
    "\n",
    "1. Is the program correct?\n",
    "2. Is the program efficient?\n",
    "3. Is the program easy to debug?\n",
    "\n",
    "We don't want the code responsible for these different aspects to be all mixed up. The idea of keeping them separate is called \"aspect oriented programming\".\n",
    "\n",
    "Where do we do the counting? When we iterate over `orderings`. We can wrap `orderings` in a function call that produce some debugging information for us. Norvig uses a one-character function name `c(orderings)`.\n",
    "\n",
    "## Generator Functions\n",
    "\n",
    "The function `c()` will take advantage of generator functions. As an example of generator function, suppose we want a function like `range()`, but that returns also the upper bound. We can write it like this:"
   ]
  },
  {
   "cell_type": "code",
   "execution_count": 4,
   "metadata": {},
   "outputs": [
    {
     "data": {
      "text/plain": [
       "[3, 4, 5, 6, 7]"
      ]
     },
     "execution_count": 4,
     "metadata": {},
     "output_type": "execute_result"
    }
   ],
   "source": [
    "def ints(start, end):\n",
    "    i = start\n",
    "    while i <= end:\n",
    "        yield i\n",
    "        i += 1\n",
    "\n",
    "list(ints(3, 7))"
   ]
  },
  {
   "cell_type": "markdown",
   "metadata": {},
   "source": [
    "If we want to add the possibility of an infinite sequence, we can set `end=None` and modify the function above as follows:"
   ]
  },
  {
   "cell_type": "code",
   "execution_count": 5,
   "metadata": {},
   "outputs": [],
   "source": [
    "def ints(start, end=None):\n",
    "    i = start\n",
    "    while i <= end or end is None:\n",
    "        yield i\n",
    "        i += 1"
   ]
  },
  {
   "cell_type": "markdown",
   "metadata": {},
   "source": [
    "## Nitty Gritty For Loops\n",
    "\n",
    "What a `for` loop actually does is to take an *iterable* `x` (strings, lists, generators and so on), and call something like\n",
    "\n",
    "```python\n",
    "it = iter(x)\n",
    "```\n",
    "\n",
    "And then it runs something like \n",
    "\n",
    "```python\n",
    "while True:\n",
    "    z = next(it)\n",
    "    print(z) # or something else\n",
    "```\n",
    "\n",
    "When the iterable is consumed, it returns the `StopIteration` exception."
   ]
  },
  {
   "cell_type": "code",
   "execution_count": 6,
   "metadata": {},
   "outputs": [],
   "source": [
    "def zebra_puzzle():\n",
    "    \"Return a tuple (WATER, ZEBRA) indicationg their house numbers.\"\n",
    "    houses = first, _, middle, _, _ = [1, 2, 3, 4, 5]\n",
    "    # The numbers below represent the constraints to the problem.\n",
    "    # Returns the first (WATER, ZEBRA) tuple that satisfies all contraints.\n",
    "    orderings = list(itertools.permutations(houses))  # 1\n",
    "    return next((WATER, ZEBRA)\n",
    "                for (red, green, ivory, yellow, blue) in c(orderings)\n",
    "                if imright(green, ivory)          # 6\n",
    "                for (Englishman, Spaniard, Ukranian, Japanese, Norwegian) in c(orderings)\n",
    "                if Englishman is red              # 2\n",
    "                if Norwegian is first             # 10\n",
    "                if nextto(Norwegian, blue)        # 15\n",
    "                for (coffee, tea, milk, oj, WATER) in c(orderings)\n",
    "                if coffee is green                # 4\n",
    "                if Ukranian is tea                # 5\n",
    "                if milk is middle                 # 9\n",
    "                for (OldGold, Kools, Chesterfields, LuckyStrike, Parliaments) in c(orderings)\n",
    "                if Kools is yellow                # 8\n",
    "                if LuckyStrike is oj              # 13\n",
    "                if Japanese is Parliaments        # 14\n",
    "                for (dog, snails, fox, horse, ZEBRA) in c(orderings)\n",
    "                if Spaniard is dog                # 3\n",
    "                if OldGold is snails              # 7\n",
    "                if nextto(Chesterfields, fox)     # 11\n",
    "                if nextto(Kools, horse))          # 12\n",
    "\n",
    "def instrument_fn(fn, *args):\n",
    "    # c.starts counts the number of times we start iterating over orderings\n",
    "    # c.items counts the number of times we go through a loop \n",
    "    c.starts, c.items = 0, 0\n",
    "    result = fn(*args)\n",
    "    print(f'{fn.__name__} got {result} with {c.starts:05} iterations over {c.items:07} items')\n",
    "\n",
    "def c(sequence):\n",
    "    \"\"\"Generate items in sequence, keeping counts as we go. c.starts is the number \n",
    "    of sequences started. c.items is the number of items generated.\"\"\"\n",
    "    c.starts += 1\n",
    "    for item in sequence:\n",
    "        c.items += 1\n",
    "        yield item"
   ]
  },
  {
   "cell_type": "markdown",
   "metadata": {},
   "source": [
    "Note that `c()` does not work alone (for example if you try `c([1, 2, 3])`) because `c.starts` and `c.items` are not in scope. It only works when called from `instrument_fn`, as shown below."
   ]
  },
  {
   "cell_type": "code",
   "execution_count": 7,
   "metadata": {},
   "outputs": [
    {
     "name": "stdout",
     "output_type": "stream",
     "text": [
      "zebra_puzzle got (1, 5) with 00025 iterations over 0002775 items\n"
     ]
    }
   ],
   "source": [
    "instrument_fn(zebra_puzzle)"
   ]
  },
  {
   "cell_type": "markdown",
   "metadata": {},
   "source": [
    "## Summary\n",
    "\n",
    "In this lesson we have\n",
    "\n",
    "1. Made the concept inventory.\n",
    "2. Refined ideas.\n",
    "3. Chosen the simplest implementation we could think of.\n",
    "4. Did a back-of-the-envelope calculation to see how long it would run.\n",
    "5. We refined the code to make it faster.\n",
    "6. We built tools for timing, counts and so on.\n",
    "7. We introduced this idea of \"separation of aspects\" to keep the program clean."
   ]
  },
  {
   "cell_type": "code",
   "execution_count": null,
   "metadata": {},
   "outputs": [],
   "source": []
  }
 ],
 "metadata": {
  "kernelspec": {
   "display_name": "Python 3 (ipykernel)",
   "language": "python",
   "name": "python3"
  },
  "language_info": {
   "codemirror_mode": {
    "name": "ipython",
    "version": 3
   },
   "file_extension": ".py",
   "mimetype": "text/x-python",
   "name": "python",
   "nbconvert_exporter": "python",
   "pygments_lexer": "ipython3",
   "version": "3.11.5"
  }
 },
 "nbformat": 4,
 "nbformat_minor": 4
}
